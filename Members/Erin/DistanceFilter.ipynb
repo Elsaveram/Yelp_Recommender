{
 "cells": [
  {
   "cell_type": "code",
   "execution_count": 28,
   "metadata": {},
   "outputs": [],
   "source": [
    "import pandas as pd\n",
    "import numpy as np\n",
    "pd.set_option('max_columns',200)\n",
    "pd.set_option('display.max_colwidth', -1)\n",
    "pd.set_option('max_rows',80)"
   ]
  },
  {
   "cell_type": "code",
   "execution_count": 29,
   "metadata": {},
   "outputs": [],
   "source": [
    "df_tips = pd.read_csv(\"./df_tips_spacy_nlp.csv\")\n",
    "df = df_tips.drop(columns=(['tip','text']))"
   ]
  },
  {
   "cell_type": "code",
   "execution_count": 30,
   "metadata": {},
   "outputs": [
    {
     "data": {
      "text/plain": [
       "-115.13497"
      ]
     },
     "execution_count": 30,
     "metadata": {},
     "output_type": "execute_result"
    }
   ],
   "source": [
    "df[(df.business_id == 'xM37qm9Wbc-hOAS7-Xse7g')]['longitude'].values[0]"
   ]
  },
  {
   "cell_type": "code",
   "execution_count": 36,
   "metadata": {},
   "outputs": [],
   "source": [
    "from math import radians, cos, sin, asin, sqrt, atan2, sqrt\n",
    "\n",
    "#Install from terminal:  pip3 install uszipcode\n",
    "from uszipcode import ZipcodeSearchEngine"
   ]
  },
  {
   "cell_type": "code",
   "execution_count": 37,
   "metadata": {},
   "outputs": [
    {
     "name": "stdout",
     "output_type": "stream",
     "text": [
      "{\n",
      "    \"City\": \"Las Vegas\",\n",
      "    \"Density\": 4315.686274509803,\n",
      "    \"HouseOfUnits\": 13186,\n",
      "    \"LandArea\": 7.65,\n",
      "    \"Latitude\": 36.2576752,\n",
      "    \"Longitude\": -115.2304131,\n",
      "    \"NEBoundLatitude\": 36.278531,\n",
      "    \"NEBoundLongitude\": -115.201654,\n",
      "    \"Population\": 33015,\n",
      "    \"SWBoundLatitude\": 36.2068419,\n",
      "    \"SWBoungLongitude\": -115.267452,\n",
      "    \"State\": \"NV\",\n",
      "    \"TotalWages\": 641208686.0,\n",
      "    \"WaterArea\": 0.0,\n",
      "    \"Wealthy\": 19421.738179615328,\n",
      "    \"Zipcode\": \"89130\",\n",
      "    \"ZipcodeType\": \"Standard\"\n",
      "}\n"
     ]
    }
   ],
   "source": [
    "search = ZipcodeSearchEngine()\n",
    "zipcode = search.by_zipcode(\"89130\")\n",
    "print(zipcode)\n"
   ]
  },
  {
   "cell_type": "code",
   "execution_count": 38,
   "metadata": {},
   "outputs": [
    {
     "data": {
      "text/plain": [
       "'Las Vegas'"
      ]
     },
     "execution_count": 38,
     "metadata": {},
     "output_type": "execute_result"
    }
   ],
   "source": [
    "zipcode.City"
   ]
  },
  {
   "cell_type": "code",
   "execution_count": 41,
   "metadata": {},
   "outputs": [],
   "source": [
    "#Values for random LasVegas restaurant\n",
    "lat1 = df[(df.business_id == 'xM37qm9Wbc-hOAS7-Xse7g')]['latitude'].values[0]\n",
    "lon1 = df[(df.business_id == 'xM37qm9Wbc-hOAS7-Xse7g')]['longitude'].values[0]\n",
    "\n",
    "lat2 = zipcode.Latitude\n",
    "lon2 = zipcode.Longitude\n",
    "\n",
    "#zipcode = 89130  #used https://www.melissa.com/lookups/geocoder.asp to look up coordinates for zipcode"
   ]
  },
  {
   "cell_type": "code",
   "execution_count": 43,
   "metadata": {},
   "outputs": [
    {
     "name": "stdout",
     "output_type": "stream",
     "text": [
      "Result: 17.65689760185172 miles\n"
     ]
    }
   ],
   "source": [
    "\n",
    "lat1 = radians(lat1)\n",
    "lon1 = radians(lon1)\n",
    "lat2 = radians(lat2)\n",
    "lon2 = radians(lon2)\n",
    "\n",
    "dlon = lon2 - lon1\n",
    "dlat = lat2 - lat1\n",
    "\n",
    "a = sin(dlat / 2)**2 + cos(lat1) * cos(lat2) * sin(dlon / 2)**2\n",
    "c = 2 * atan2(sqrt(a), sqrt(1 - a))\n",
    "\n",
    "R = 6373.0  # approximate radius of earth in km\n",
    "distance = R * c * 0.621371\n",
    "\n",
    "print(\"Result:\", distance, \"miles\")"
   ]
  },
  {
   "cell_type": "code",
   "execution_count": null,
   "metadata": {},
   "outputs": [],
   "source": []
  },
  {
   "cell_type": "code",
   "execution_count": null,
   "metadata": {},
   "outputs": [],
   "source": []
  },
  {
   "cell_type": "code",
   "execution_count": null,
   "metadata": {},
   "outputs": [],
   "source": []
  }
 ],
 "metadata": {
  "kernelspec": {
   "display_name": "Python 3",
   "language": "python",
   "name": "python3"
  },
  "language_info": {
   "codemirror_mode": {
    "name": "ipython",
    "version": 3
   },
   "file_extension": ".py",
   "mimetype": "text/x-python",
   "name": "python",
   "nbconvert_exporter": "python",
   "pygments_lexer": "ipython3",
   "version": "3.6.3"
  }
 },
 "nbformat": 4,
 "nbformat_minor": 2
}
