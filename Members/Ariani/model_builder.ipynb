{
 "cells": [
  {
   "cell_type": "code",
   "execution_count": 21,
   "metadata": {},
   "outputs": [],
   "source": [
    "import pandas as pd\n",
    "import numpy as np\n",
    "\n",
    "from os import listdir\n",
    "from os.path import isfile, join\n",
    "from datetime import datetime\n",
    "\n",
    "import pickle\n",
    "import ast\n",
    "import json\n",
    "\n",
    "import turicreate as tc\n",
    "\n",
    "%matplotlib inline\n",
    "import matplotlib\n",
    "import matplotlib.pyplot as plt"
   ]
  },
  {
   "cell_type": "code",
   "execution_count": 22,
   "metadata": {},
   "outputs": [],
   "source": [
    "df = pd.read_pickle('/Users/arianiherrera/Downloads/LVdf_restaurants.pkl')"
   ]
  },
  {
   "cell_type": "code",
   "execution_count": 23,
   "metadata": {},
   "outputs": [
    {
     "data": {
      "text/plain": [
       "(1053142, 69)"
      ]
     },
     "execution_count": 23,
     "metadata": {},
     "output_type": "execute_result"
    }
   ],
   "source": [
    "df.shape"
   ]
  },
  {
   "cell_type": "code",
   "execution_count": 24,
   "metadata": {},
   "outputs": [
    {
     "data": {
      "text/plain": [
       "Index(['address', 'attributes', 'attributes_AcceptsInsurance',\n",
       "       'attributes_AgesAllowed', 'attributes_Alcohol', 'attributes_Ambience',\n",
       "       'attributes_BYOB', 'attributes_BYOBCorkage', 'attributes_BestNights',\n",
       "       'attributes_BikeParking', 'attributes_BusinessAcceptsBitcoin',\n",
       "       'attributes_BusinessAcceptsCreditCards', 'attributes_BusinessParking',\n",
       "       'attributes_ByAppointmentOnly', 'attributes_Caters',\n",
       "       'attributes_CoatCheck', 'attributes_Corkage',\n",
       "       'attributes_DietaryRestrictions', 'attributes_DogsAllowed',\n",
       "       'attributes_DriveThru', 'attributes_GoodForDancing',\n",
       "       'attributes_GoodForKids', 'attributes_GoodForMeal',\n",
       "       'attributes_HairSpecializesIn', 'attributes_HappyHour',\n",
       "       'attributes_HasTV', 'attributes_Music', 'attributes_NoiseLevel',\n",
       "       'attributes_Open24Hours', 'attributes_OutdoorSeating',\n",
       "       'attributes_RestaurantsAttire', 'attributes_RestaurantsCounterService',\n",
       "       'attributes_RestaurantsDelivery', 'attributes_RestaurantsGoodForGroups',\n",
       "       'attributes_RestaurantsPriceRange2',\n",
       "       'attributes_RestaurantsReservations',\n",
       "       'attributes_RestaurantsTableService', 'attributes_RestaurantsTakeOut',\n",
       "       'attributes_Smoking', 'attributes_WheelchairAccessible',\n",
       "       'attributes_WiFi', 'business_id', 'categories', 'city', 'hours',\n",
       "       'hours_Friday', 'hours_Monday', 'hours_Saturday', 'hours_Sunday',\n",
       "       'hours_Thursday', 'hours_Tuesday', 'hours_Wednesday', 'is_open',\n",
       "       'latitude', 'longitude', 'name', 'neighborhood', 'postal_code',\n",
       "       'review_count', 'stars_x', 'state', 'cool', 'date', 'funny',\n",
       "       'review_id', 'stars_y', 'text', 'useful', 'user_id'],\n",
       "      dtype='object')"
      ]
     },
     "execution_count": 24,
     "metadata": {},
     "output_type": "execute_result"
    }
   ],
   "source": [
    "df.columns"
   ]
  },
  {
   "cell_type": "code",
   "execution_count": 25,
   "metadata": {},
   "outputs": [],
   "source": [
    "df.rename(columns={'stars_x':'overall_stars','stars_y':'review_stars'}, inplace=True)"
   ]
  },
  {
   "cell_type": "code",
   "execution_count": 26,
   "metadata": {},
   "outputs": [
    {
     "data": {
      "text/html": [
       "<div>\n",
       "<style scoped>\n",
       "    .dataframe tbody tr th:only-of-type {\n",
       "        vertical-align: middle;\n",
       "    }\n",
       "\n",
       "    .dataframe tbody tr th {\n",
       "        vertical-align: top;\n",
       "    }\n",
       "\n",
       "    .dataframe thead th {\n",
       "        text-align: right;\n",
       "    }\n",
       "</style>\n",
       "<table border=\"1\" class=\"dataframe\">\n",
       "  <thead>\n",
       "    <tr style=\"text-align: right;\">\n",
       "      <th></th>\n",
       "      <th>address</th>\n",
       "      <th>attributes</th>\n",
       "      <th>attributes_AcceptsInsurance</th>\n",
       "      <th>attributes_AgesAllowed</th>\n",
       "      <th>attributes_Alcohol</th>\n",
       "      <th>attributes_Ambience</th>\n",
       "      <th>attributes_BYOB</th>\n",
       "      <th>attributes_BYOBCorkage</th>\n",
       "      <th>attributes_BestNights</th>\n",
       "      <th>attributes_BikeParking</th>\n",
       "      <th>...</th>\n",
       "      <th>overall_stars</th>\n",
       "      <th>state</th>\n",
       "      <th>cool</th>\n",
       "      <th>date</th>\n",
       "      <th>funny</th>\n",
       "      <th>review_id</th>\n",
       "      <th>review_stars</th>\n",
       "      <th>text</th>\n",
       "      <th>useful</th>\n",
       "      <th>user_id</th>\n",
       "    </tr>\n",
       "  </thead>\n",
       "  <tbody>\n",
       "    <tr>\n",
       "      <th>8</th>\n",
       "      <td>3940 Martin Luther King Blvd, Ste 101</td>\n",
       "      <td>NaN</td>\n",
       "      <td>NaN</td>\n",
       "      <td>NaN</td>\n",
       "      <td>NaN</td>\n",
       "      <td>NaN</td>\n",
       "      <td>NaN</td>\n",
       "      <td>NaN</td>\n",
       "      <td>NaN</td>\n",
       "      <td>True</td>\n",
       "      <td>...</td>\n",
       "      <td>1.5</td>\n",
       "      <td>NV</td>\n",
       "      <td>1</td>\n",
       "      <td>2015-08-02</td>\n",
       "      <td>0.0</td>\n",
       "      <td>UgwmWy_68S_aKR9wTWKGOg</td>\n",
       "      <td>3.0</td>\n",
       "      <td>I am a huge fan of both locally owned business...</td>\n",
       "      <td>4.0</td>\n",
       "      <td>jSD05fFrAFa5gX3ZQae1tw</td>\n",
       "    </tr>\n",
       "    <tr>\n",
       "      <th>9</th>\n",
       "      <td>3940 Martin Luther King Blvd, Ste 101</td>\n",
       "      <td>NaN</td>\n",
       "      <td>NaN</td>\n",
       "      <td>NaN</td>\n",
       "      <td>NaN</td>\n",
       "      <td>NaN</td>\n",
       "      <td>NaN</td>\n",
       "      <td>NaN</td>\n",
       "      <td>NaN</td>\n",
       "      <td>True</td>\n",
       "      <td>...</td>\n",
       "      <td>1.5</td>\n",
       "      <td>NV</td>\n",
       "      <td>2</td>\n",
       "      <td>2015-06-08</td>\n",
       "      <td>2.0</td>\n",
       "      <td>AywPsODuQbUMhBEjmKiGXw</td>\n",
       "      <td>1.0</td>\n",
       "      <td>Let me start off by saying. If you cant make a...</td>\n",
       "      <td>8.0</td>\n",
       "      <td>oagZh5A2cWJXZBLakS_KpQ</td>\n",
       "    </tr>\n",
       "    <tr>\n",
       "      <th>10</th>\n",
       "      <td>3940 Martin Luther King Blvd, Ste 101</td>\n",
       "      <td>NaN</td>\n",
       "      <td>NaN</td>\n",
       "      <td>NaN</td>\n",
       "      <td>NaN</td>\n",
       "      <td>NaN</td>\n",
       "      <td>NaN</td>\n",
       "      <td>NaN</td>\n",
       "      <td>NaN</td>\n",
       "      <td>True</td>\n",
       "      <td>...</td>\n",
       "      <td>1.5</td>\n",
       "      <td>NV</td>\n",
       "      <td>1</td>\n",
       "      <td>2015-08-08</td>\n",
       "      <td>0.0</td>\n",
       "      <td>6j39TEUBDBTEK37OKACWLw</td>\n",
       "      <td>1.0</td>\n",
       "      <td>Decent product. ..HORRIBLE service. Totally un...</td>\n",
       "      <td>2.0</td>\n",
       "      <td>6BSwuyc7fvcccJgrY4_W5Q</td>\n",
       "    </tr>\n",
       "    <tr>\n",
       "      <th>31</th>\n",
       "      <td>2255 N Rampart Blvd</td>\n",
       "      <td>NaN</td>\n",
       "      <td>NaN</td>\n",
       "      <td>NaN</td>\n",
       "      <td>none</td>\n",
       "      <td>{'romantic': False, 'intimate': False, 'classy...</td>\n",
       "      <td>NaN</td>\n",
       "      <td>NaN</td>\n",
       "      <td>NaN</td>\n",
       "      <td>True</td>\n",
       "      <td>...</td>\n",
       "      <td>2.5</td>\n",
       "      <td>NV</td>\n",
       "      <td>0</td>\n",
       "      <td>2016-07-03</td>\n",
       "      <td>0.0</td>\n",
       "      <td>c6iTbCMMYWnOd79ZiWwobg</td>\n",
       "      <td>1.0</td>\n",
       "      <td>I ordered a few 12 inch sandwiches , a turkey ...</td>\n",
       "      <td>1.0</td>\n",
       "      <td>ih7Dmu7wZpKVwlBRbakJOQ</td>\n",
       "    </tr>\n",
       "    <tr>\n",
       "      <th>32</th>\n",
       "      <td>2255 N Rampart Blvd</td>\n",
       "      <td>NaN</td>\n",
       "      <td>NaN</td>\n",
       "      <td>NaN</td>\n",
       "      <td>none</td>\n",
       "      <td>{'romantic': False, 'intimate': False, 'classy...</td>\n",
       "      <td>NaN</td>\n",
       "      <td>NaN</td>\n",
       "      <td>NaN</td>\n",
       "      <td>True</td>\n",
       "      <td>...</td>\n",
       "      <td>2.5</td>\n",
       "      <td>NV</td>\n",
       "      <td>0</td>\n",
       "      <td>2010-06-20</td>\n",
       "      <td>2.0</td>\n",
       "      <td>fisvc16rY1Q5NTX_O_QQ2A</td>\n",
       "      <td>1.0</td>\n",
       "      <td>A very dirty place. You can watch the employee...</td>\n",
       "      <td>3.0</td>\n",
       "      <td>zqL43wHcz133AVvEuba67w</td>\n",
       "    </tr>\n",
       "  </tbody>\n",
       "</table>\n",
       "<p>5 rows × 69 columns</p>\n",
       "</div>"
      ],
      "text/plain": [
       "                                  address  attributes  \\\n",
       "8   3940 Martin Luther King Blvd, Ste 101         NaN   \n",
       "9   3940 Martin Luther King Blvd, Ste 101         NaN   \n",
       "10  3940 Martin Luther King Blvd, Ste 101         NaN   \n",
       "31                    2255 N Rampart Blvd         NaN   \n",
       "32                    2255 N Rampart Blvd         NaN   \n",
       "\n",
       "   attributes_AcceptsInsurance attributes_AgesAllowed attributes_Alcohol  \\\n",
       "8                          NaN                    NaN                NaN   \n",
       "9                          NaN                    NaN                NaN   \n",
       "10                         NaN                    NaN                NaN   \n",
       "31                         NaN                    NaN               none   \n",
       "32                         NaN                    NaN               none   \n",
       "\n",
       "                                  attributes_Ambience attributes_BYOB  \\\n",
       "8                                                 NaN             NaN   \n",
       "9                                                 NaN             NaN   \n",
       "10                                                NaN             NaN   \n",
       "31  {'romantic': False, 'intimate': False, 'classy...             NaN   \n",
       "32  {'romantic': False, 'intimate': False, 'classy...             NaN   \n",
       "\n",
       "   attributes_BYOBCorkage attributes_BestNights attributes_BikeParking  \\\n",
       "8                     NaN                   NaN                   True   \n",
       "9                     NaN                   NaN                   True   \n",
       "10                    NaN                   NaN                   True   \n",
       "31                    NaN                   NaN                   True   \n",
       "32                    NaN                   NaN                   True   \n",
       "\n",
       "             ...           overall_stars state cool        date funny  \\\n",
       "8            ...                     1.5    NV    1  2015-08-02   0.0   \n",
       "9            ...                     1.5    NV    2  2015-06-08   2.0   \n",
       "10           ...                     1.5    NV    1  2015-08-08   0.0   \n",
       "31           ...                     2.5    NV    0  2016-07-03   0.0   \n",
       "32           ...                     2.5    NV    0  2010-06-20   2.0   \n",
       "\n",
       "                 review_id review_stars  \\\n",
       "8   UgwmWy_68S_aKR9wTWKGOg          3.0   \n",
       "9   AywPsODuQbUMhBEjmKiGXw          1.0   \n",
       "10  6j39TEUBDBTEK37OKACWLw          1.0   \n",
       "31  c6iTbCMMYWnOd79ZiWwobg          1.0   \n",
       "32  fisvc16rY1Q5NTX_O_QQ2A          1.0   \n",
       "\n",
       "                                                 text useful  \\\n",
       "8   I am a huge fan of both locally owned business...    4.0   \n",
       "9   Let me start off by saying. If you cant make a...    8.0   \n",
       "10  Decent product. ..HORRIBLE service. Totally un...    2.0   \n",
       "31  I ordered a few 12 inch sandwiches , a turkey ...    1.0   \n",
       "32  A very dirty place. You can watch the employee...    3.0   \n",
       "\n",
       "                   user_id  \n",
       "8   jSD05fFrAFa5gX3ZQae1tw  \n",
       "9   oagZh5A2cWJXZBLakS_KpQ  \n",
       "10  6BSwuyc7fvcccJgrY4_W5Q  \n",
       "31  ih7Dmu7wZpKVwlBRbakJOQ  \n",
       "32  zqL43wHcz133AVvEuba67w  \n",
       "\n",
       "[5 rows x 69 columns]"
      ]
     },
     "execution_count": 26,
     "metadata": {},
     "output_type": "execute_result"
    }
   ],
   "source": [
    "df.head()"
   ]
  },
  {
   "cell_type": "code",
   "execution_count": 27,
   "metadata": {},
   "outputs": [],
   "source": [
    "df = df.dropna(subset=['user_id'])\n",
    "\n",
    "split_idx = int(df.shape[0]*0.8)\n",
    "train = df[['user_id','business_id','review_stars']].iloc[:split_idx,:]\n",
    "test = df[['user_id','business_id','review_stars']].iloc[split_idx:,:]"
   ]
  },
  {
   "cell_type": "code",
   "execution_count": 28,
   "metadata": {},
   "outputs": [
    {
     "name": "stdout",
     "output_type": "stream",
     "text": [
      "(842512, 3)\n",
      "(210629, 3)\n"
     ]
    }
   ],
   "source": [
    "print(train.shape)\n",
    "print(test.shape)"
   ]
  },
  {
   "cell_type": "code",
   "execution_count": 29,
   "metadata": {},
   "outputs": [],
   "source": [
    "train_data = tc.SFrame(train)\n",
    "test_data = tc.SFrame(test)\n"
   ]
  },
  {
   "cell_type": "markdown",
   "metadata": {},
   "source": [
    "# Popularity Model"
   ]
  },
  {
   "cell_type": "code",
   "execution_count": 30,
   "metadata": {},
   "outputs": [
    {
     "data": {
      "text/html": [
       "<pre>Recsys training: model = popularity</pre>"
      ],
      "text/plain": [
       "Recsys training: model = popularity"
      ]
     },
     "metadata": {},
     "output_type": "display_data"
    },
    {
     "data": {
      "text/html": [
       "<pre>Preparing data set.</pre>"
      ],
      "text/plain": [
       "Preparing data set."
      ]
     },
     "metadata": {},
     "output_type": "display_data"
    },
    {
     "data": {
      "text/html": [
       "<pre>    Data has 842512 observations with 327487 users and 5382 items.</pre>"
      ],
      "text/plain": [
       "    Data has 842512 observations with 327487 users and 5382 items."
      ]
     },
     "metadata": {},
     "output_type": "display_data"
    },
    {
     "data": {
      "text/html": [
       "<pre>    Data prepared in: 4.48735s</pre>"
      ],
      "text/plain": [
       "    Data prepared in: 4.48735s"
      ]
     },
     "metadata": {},
     "output_type": "display_data"
    },
    {
     "data": {
      "text/html": [
       "<pre>842512 observations to process; with 5382 unique items.</pre>"
      ],
      "text/plain": [
       "842512 observations to process; with 5382 unique items."
      ]
     },
     "metadata": {},
     "output_type": "display_data"
    }
   ],
   "source": [
    "popularity_model = tc.popularity_recommender.create(train_data,\\\n",
    "                                                    user_id='user_id', item_id='business_id', target='review_stars')"
   ]
  },
  {
   "cell_type": "code",
   "execution_count": 31,
   "metadata": {},
   "outputs": [
    {
     "data": {
      "text/html": [
       "<div style=\"max-height:1000px;max-width:1500px;overflow:auto;\"><table frame=\"box\" rules=\"cols\">\n",
       "    <tr>\n",
       "        <th style=\"padding-left: 1em; padding-right: 1em; text-align: center\">user_id</th>\n",
       "        <th style=\"padding-left: 1em; padding-right: 1em; text-align: center\">business_id</th>\n",
       "        <th style=\"padding-left: 1em; padding-right: 1em; text-align: center\">review_stars</th>\n",
       "    </tr>\n",
       "    <tr>\n",
       "        <td style=\"padding-left: 1em; padding-right: 1em; text-align: center; vertical-align: top\">jSD05fFrAFa5gX3ZQae1tw</td>\n",
       "        <td style=\"padding-left: 1em; padding-right: 1em; text-align: center; vertical-align: top\">vJIuDBdu01vCA8y1fwR1OQ</td>\n",
       "        <td style=\"padding-left: 1em; padding-right: 1em; text-align: center; vertical-align: top\">3.0</td>\n",
       "    </tr>\n",
       "    <tr>\n",
       "        <td style=\"padding-left: 1em; padding-right: 1em; text-align: center; vertical-align: top\">oagZh5A2cWJXZBLakS_KpQ</td>\n",
       "        <td style=\"padding-left: 1em; padding-right: 1em; text-align: center; vertical-align: top\">vJIuDBdu01vCA8y1fwR1OQ</td>\n",
       "        <td style=\"padding-left: 1em; padding-right: 1em; text-align: center; vertical-align: top\">1.0</td>\n",
       "    </tr>\n",
       "    <tr>\n",
       "        <td style=\"padding-left: 1em; padding-right: 1em; text-align: center; vertical-align: top\">6BSwuyc7fvcccJgrY4_W5Q</td>\n",
       "        <td style=\"padding-left: 1em; padding-right: 1em; text-align: center; vertical-align: top\">vJIuDBdu01vCA8y1fwR1OQ</td>\n",
       "        <td style=\"padding-left: 1em; padding-right: 1em; text-align: center; vertical-align: top\">1.0</td>\n",
       "    </tr>\n",
       "    <tr>\n",
       "        <td style=\"padding-left: 1em; padding-right: 1em; text-align: center; vertical-align: top\">ih7Dmu7wZpKVwlBRbakJOQ</td>\n",
       "        <td style=\"padding-left: 1em; padding-right: 1em; text-align: center; vertical-align: top\">kgffcoxT6BQp-gJ-UQ7Czw</td>\n",
       "        <td style=\"padding-left: 1em; padding-right: 1em; text-align: center; vertical-align: top\">1.0</td>\n",
       "    </tr>\n",
       "    <tr>\n",
       "        <td style=\"padding-left: 1em; padding-right: 1em; text-align: center; vertical-align: top\">zqL43wHcz133AVvEuba67w</td>\n",
       "        <td style=\"padding-left: 1em; padding-right: 1em; text-align: center; vertical-align: top\">kgffcoxT6BQp-gJ-UQ7Czw</td>\n",
       "        <td style=\"padding-left: 1em; padding-right: 1em; text-align: center; vertical-align: top\">1.0</td>\n",
       "    </tr>\n",
       "    <tr>\n",
       "        <td style=\"padding-left: 1em; padding-right: 1em; text-align: center; vertical-align: top\">erWAz4mU0dHuScIMwjwmHg</td>\n",
       "        <td style=\"padding-left: 1em; padding-right: 1em; text-align: center; vertical-align: top\">kgffcoxT6BQp-gJ-UQ7Czw</td>\n",
       "        <td style=\"padding-left: 1em; padding-right: 1em; text-align: center; vertical-align: top\">3.0</td>\n",
       "    </tr>\n",
       "    <tr>\n",
       "        <td style=\"padding-left: 1em; padding-right: 1em; text-align: center; vertical-align: top\">m3WBc9bGxn1q1ikAFq8PaA</td>\n",
       "        <td style=\"padding-left: 1em; padding-right: 1em; text-align: center; vertical-align: top\">kgffcoxT6BQp-gJ-UQ7Czw</td>\n",
       "        <td style=\"padding-left: 1em; padding-right: 1em; text-align: center; vertical-align: top\">1.0</td>\n",
       "    </tr>\n",
       "    <tr>\n",
       "        <td style=\"padding-left: 1em; padding-right: 1em; text-align: center; vertical-align: top\">uZ4z-4ftg7LbGR_blmZTow</td>\n",
       "        <td style=\"padding-left: 1em; padding-right: 1em; text-align: center; vertical-align: top\">kgffcoxT6BQp-gJ-UQ7Czw</td>\n",
       "        <td style=\"padding-left: 1em; padding-right: 1em; text-align: center; vertical-align: top\">5.0</td>\n",
       "    </tr>\n",
       "    <tr>\n",
       "        <td style=\"padding-left: 1em; padding-right: 1em; text-align: center; vertical-align: top\">dLrMDYQ9TwfodJxYLfaKDQ</td>\n",
       "        <td style=\"padding-left: 1em; padding-right: 1em; text-align: center; vertical-align: top\">kgffcoxT6BQp-gJ-UQ7Czw</td>\n",
       "        <td style=\"padding-left: 1em; padding-right: 1em; text-align: center; vertical-align: top\">2.0</td>\n",
       "    </tr>\n",
       "    <tr>\n",
       "        <td style=\"padding-left: 1em; padding-right: 1em; text-align: center; vertical-align: top\">Fv0e9RIV9jw5TX3ctA1WbA</td>\n",
       "        <td style=\"padding-left: 1em; padding-right: 1em; text-align: center; vertical-align: top\">kgffcoxT6BQp-gJ-UQ7Czw</td>\n",
       "        <td style=\"padding-left: 1em; padding-right: 1em; text-align: center; vertical-align: top\">4.0</td>\n",
       "    </tr>\n",
       "</table>\n",
       "[10 rows x 3 columns]<br/>\n",
       "</div>"
      ],
      "text/plain": [
       "Columns:\n",
       "\tuser_id\tstr\n",
       "\tbusiness_id\tstr\n",
       "\treview_stars\tfloat\n",
       "\n",
       "Rows: 10\n",
       "\n",
       "Data:\n",
       "+------------------------+------------------------+--------------+\n",
       "|        user_id         |      business_id       | review_stars |\n",
       "+------------------------+------------------------+--------------+\n",
       "| jSD05fFrAFa5gX3ZQae1tw | vJIuDBdu01vCA8y1fwR1OQ |     3.0      |\n",
       "| oagZh5A2cWJXZBLakS_KpQ | vJIuDBdu01vCA8y1fwR1OQ |     1.0      |\n",
       "| 6BSwuyc7fvcccJgrY4_W5Q | vJIuDBdu01vCA8y1fwR1OQ |     1.0      |\n",
       "| ih7Dmu7wZpKVwlBRbakJOQ | kgffcoxT6BQp-gJ-UQ7Czw |     1.0      |\n",
       "| zqL43wHcz133AVvEuba67w | kgffcoxT6BQp-gJ-UQ7Czw |     1.0      |\n",
       "| erWAz4mU0dHuScIMwjwmHg | kgffcoxT6BQp-gJ-UQ7Czw |     3.0      |\n",
       "| m3WBc9bGxn1q1ikAFq8PaA | kgffcoxT6BQp-gJ-UQ7Czw |     1.0      |\n",
       "| uZ4z-4ftg7LbGR_blmZTow | kgffcoxT6BQp-gJ-UQ7Czw |     5.0      |\n",
       "| dLrMDYQ9TwfodJxYLfaKDQ | kgffcoxT6BQp-gJ-UQ7Czw |     2.0      |\n",
       "| Fv0e9RIV9jw5TX3ctA1WbA | kgffcoxT6BQp-gJ-UQ7Czw |     4.0      |\n",
       "+------------------------+------------------------+--------------+\n",
       "[10 rows x 3 columns]"
      ]
     },
     "execution_count": 31,
     "metadata": {},
     "output_type": "execute_result"
    }
   ],
   "source": [
    "train_data.head()"
   ]
  },
  {
   "cell_type": "code",
   "execution_count": 32,
   "metadata": {},
   "outputs": [
    {
     "name": "stdout",
     "output_type": "stream",
     "text": [
      "+------------------------+------------------------+-------+------+\n",
      "|        user_id         |      business_id       | score | rank |\n",
      "+------------------------+------------------------+-------+------+\n",
      "| jSD05fFrAFa5gX3ZQae1tw | ZKgRlphtyvKNl2sa0Mz2LA |  5.0  |  1   |\n",
      "| jSD05fFrAFa5gX3ZQae1tw | ElM8yyW45TAy4vjApwy7ZQ |  5.0  |  2   |\n",
      "| jSD05fFrAFa5gX3ZQae1tw | vmJekvxsAV8dCEO4MGO4sg |  5.0  |  3   |\n",
      "| jSD05fFrAFa5gX3ZQae1tw | PEFcy5D1nXdHS67Ge0h0Kg |  5.0  |  4   |\n",
      "| jSD05fFrAFa5gX3ZQae1tw | sOkQ2Y1-D8h18oN5NgxuLg |  5.0  |  5   |\n",
      "| oagZh5A2cWJXZBLakS_KpQ | ZKgRlphtyvKNl2sa0Mz2LA |  5.0  |  1   |\n",
      "| oagZh5A2cWJXZBLakS_KpQ | ElM8yyW45TAy4vjApwy7ZQ |  5.0  |  2   |\n",
      "| oagZh5A2cWJXZBLakS_KpQ | vmJekvxsAV8dCEO4MGO4sg |  5.0  |  3   |\n",
      "| oagZh5A2cWJXZBLakS_KpQ | PEFcy5D1nXdHS67Ge0h0Kg |  5.0  |  4   |\n",
      "| oagZh5A2cWJXZBLakS_KpQ | sOkQ2Y1-D8h18oN5NgxuLg |  5.0  |  5   |\n",
      "| 6BSwuyc7fvcccJgrY4_W5Q | ZKgRlphtyvKNl2sa0Mz2LA |  5.0  |  1   |\n",
      "| 6BSwuyc7fvcccJgrY4_W5Q | ElM8yyW45TAy4vjApwy7ZQ |  5.0  |  2   |\n",
      "| 6BSwuyc7fvcccJgrY4_W5Q | vmJekvxsAV8dCEO4MGO4sg |  5.0  |  3   |\n",
      "| 6BSwuyc7fvcccJgrY4_W5Q | PEFcy5D1nXdHS67Ge0h0Kg |  5.0  |  4   |\n",
      "| 6BSwuyc7fvcccJgrY4_W5Q | sOkQ2Y1-D8h18oN5NgxuLg |  5.0  |  5   |\n",
      "| ih7Dmu7wZpKVwlBRbakJOQ | ZKgRlphtyvKNl2sa0Mz2LA |  5.0  |  1   |\n",
      "| ih7Dmu7wZpKVwlBRbakJOQ | ElM8yyW45TAy4vjApwy7ZQ |  5.0  |  2   |\n",
      "| ih7Dmu7wZpKVwlBRbakJOQ | vmJekvxsAV8dCEO4MGO4sg |  5.0  |  3   |\n",
      "| ih7Dmu7wZpKVwlBRbakJOQ | PEFcy5D1nXdHS67Ge0h0Kg |  5.0  |  4   |\n",
      "| ih7Dmu7wZpKVwlBRbakJOQ | sOkQ2Y1-D8h18oN5NgxuLg |  5.0  |  5   |\n",
      "| zqL43wHcz133AVvEuba67w | ZKgRlphtyvKNl2sa0Mz2LA |  5.0  |  1   |\n",
      "| zqL43wHcz133AVvEuba67w | ElM8yyW45TAy4vjApwy7ZQ |  5.0  |  2   |\n",
      "| zqL43wHcz133AVvEuba67w | vmJekvxsAV8dCEO4MGO4sg |  5.0  |  3   |\n",
      "| zqL43wHcz133AVvEuba67w | PEFcy5D1nXdHS67Ge0h0Kg |  5.0  |  4   |\n",
      "| zqL43wHcz133AVvEuba67w | sOkQ2Y1-D8h18oN5NgxuLg |  5.0  |  5   |\n",
      "+------------------------+------------------------+-------+------+\n",
      "[25 rows x 4 columns]\n",
      "\n"
     ]
    }
   ],
   "source": [
    "check_users = ['jSD05fFrAFa5gX3ZQae1tw','oagZh5A2cWJXZBLakS_KpQ','6BSwuyc7fvcccJgrY4_W5Q',\n",
    "              'ih7Dmu7wZpKVwlBRbakJOQ','zqL43wHcz133AVvEuba67w']\n",
    "popularity_recomm = popularity_model.recommend(users=check_users,k=5)\n",
    "popularity_recomm.print_rows(num_rows=25)\n"
   ]
  },
  {
   "cell_type": "code",
   "execution_count": 33,
   "metadata": {},
   "outputs": [
    {
     "data": {
      "text/plain": [
       "business_id\n",
       "tg1Y3RZfUcK8_GHYhLLxgw    5.0\n",
       "ZMcvBaSEtMrieTYpPBIzVQ    5.0\n",
       "7kO8bObVGFa-T3mj6PVYsg    5.0\n",
       "DHa-YDvcs_0LeOT9ojUQWw    5.0\n",
       "e--8ev5DbM_5cbveVTWAEg    5.0\n",
       "oSDZ60KdSkMDQNaHGqvQBA    5.0\n",
       "r4iis9DWfwmK1h6JT9PnAw    5.0\n",
       "ZKgRlphtyvKNl2sa0Mz2LA    5.0\n",
       "y-O3h7CV6X6P5ey1ZFcQwA    5.0\n",
       "T1XikHI9k4VtoNzQVpIATA    5.0\n",
       "Name: review_stars, dtype: float64"
      ]
     },
     "execution_count": 33,
     "metadata": {},
     "output_type": "execute_result"
    }
   ],
   "source": [
    "train.groupby(by='business_id')['review_stars'].mean().sort_values(ascending=False).head(10)"
   ]
  },
  {
   "cell_type": "code",
   "execution_count": null,
   "metadata": {},
   "outputs": [],
   "source": []
  },
  {
   "cell_type": "markdown",
   "metadata": {},
   "source": [
    "# Collaborative Filtering Model"
   ]
  },
  {
   "cell_type": "code",
   "execution_count": 34,
   "metadata": {},
   "outputs": [
    {
     "data": {
      "text/html": [
       "<pre>Recsys training: model = item_similarity</pre>"
      ],
      "text/plain": [
       "Recsys training: model = item_similarity"
      ]
     },
     "metadata": {},
     "output_type": "display_data"
    },
    {
     "data": {
      "text/html": [
       "<pre>Preparing data set.</pre>"
      ],
      "text/plain": [
       "Preparing data set."
      ]
     },
     "metadata": {},
     "output_type": "display_data"
    },
    {
     "data": {
      "text/html": [
       "<pre>    Data has 842512 observations with 327487 users and 5382 items.</pre>"
      ],
      "text/plain": [
       "    Data has 842512 observations with 327487 users and 5382 items."
      ]
     },
     "metadata": {},
     "output_type": "display_data"
    },
    {
     "data": {
      "text/html": [
       "<pre>    Data prepared in: 2.28913s</pre>"
      ],
      "text/plain": [
       "    Data prepared in: 2.28913s"
      ]
     },
     "metadata": {},
     "output_type": "display_data"
    },
    {
     "data": {
      "text/html": [
       "<pre>Training model from provided data.</pre>"
      ],
      "text/plain": [
       "Training model from provided data."
      ]
     },
     "metadata": {},
     "output_type": "display_data"
    },
    {
     "data": {
      "text/html": [
       "<pre>Gathering per-item and per-user statistics.</pre>"
      ],
      "text/plain": [
       "Gathering per-item and per-user statistics."
      ]
     },
     "metadata": {},
     "output_type": "display_data"
    },
    {
     "data": {
      "text/html": [
       "<pre>+--------------------------------+------------+</pre>"
      ],
      "text/plain": [
       "+--------------------------------+------------+"
      ]
     },
     "metadata": {},
     "output_type": "display_data"
    },
    {
     "data": {
      "text/html": [
       "<pre>| Elapsed Time (Item Statistics) | % Complete |</pre>"
      ],
      "text/plain": [
       "| Elapsed Time (Item Statistics) | % Complete |"
      ]
     },
     "metadata": {},
     "output_type": "display_data"
    },
    {
     "data": {
      "text/html": [
       "<pre>+--------------------------------+------------+</pre>"
      ],
      "text/plain": [
       "+--------------------------------+------------+"
      ]
     },
     "metadata": {},
     "output_type": "display_data"
    },
    {
     "data": {
      "text/html": [
       "<pre>| 19.59ms                        | 0.25       |</pre>"
      ],
      "text/plain": [
       "| 19.59ms                        | 0.25       |"
      ]
     },
     "metadata": {},
     "output_type": "display_data"
    },
    {
     "data": {
      "text/html": [
       "<pre>| 176.104ms                      | 100        |</pre>"
      ],
      "text/plain": [
       "| 176.104ms                      | 100        |"
      ]
     },
     "metadata": {},
     "output_type": "display_data"
    },
    {
     "data": {
      "text/html": [
       "<pre>+--------------------------------+------------+</pre>"
      ],
      "text/plain": [
       "+--------------------------------+------------+"
      ]
     },
     "metadata": {},
     "output_type": "display_data"
    },
    {
     "data": {
      "text/html": [
       "<pre>Setting up lookup tables.</pre>"
      ],
      "text/plain": [
       "Setting up lookup tables."
      ]
     },
     "metadata": {},
     "output_type": "display_data"
    },
    {
     "data": {
      "text/html": [
       "<pre>Processing data in one pass using dense lookup tables.</pre>"
      ],
      "text/plain": [
       "Processing data in one pass using dense lookup tables."
      ]
     },
     "metadata": {},
     "output_type": "display_data"
    },
    {
     "data": {
      "text/html": [
       "<pre>+-------------------------------------+------------------+-----------------+</pre>"
      ],
      "text/plain": [
       "+-------------------------------------+------------------+-----------------+"
      ]
     },
     "metadata": {},
     "output_type": "display_data"
    },
    {
     "data": {
      "text/html": [
       "<pre>| Elapsed Time (Constructing Lookups) | Total % Complete | Items Processed |</pre>"
      ],
      "text/plain": [
       "| Elapsed Time (Constructing Lookups) | Total % Complete | Items Processed |"
      ]
     },
     "metadata": {},
     "output_type": "display_data"
    },
    {
     "data": {
      "text/html": [
       "<pre>+-------------------------------------+------------------+-----------------+</pre>"
      ],
      "text/plain": [
       "+-------------------------------------+------------------+-----------------+"
      ]
     },
     "metadata": {},
     "output_type": "display_data"
    },
    {
     "data": {
      "text/html": [
       "<pre>| 425.058ms                           | 0.5              | 35              |</pre>"
      ],
      "text/plain": [
       "| 425.058ms                           | 0.5              | 35              |"
      ]
     },
     "metadata": {},
     "output_type": "display_data"
    },
    {
     "data": {
      "text/html": [
       "<pre>| 1.25s                               | 100              | 5382            |</pre>"
      ],
      "text/plain": [
       "| 1.25s                               | 100              | 5382            |"
      ]
     },
     "metadata": {},
     "output_type": "display_data"
    },
    {
     "data": {
      "text/html": [
       "<pre>+-------------------------------------+------------------+-----------------+</pre>"
      ],
      "text/plain": [
       "+-------------------------------------+------------------+-----------------+"
      ]
     },
     "metadata": {},
     "output_type": "display_data"
    },
    {
     "data": {
      "text/html": [
       "<pre>Finalizing lookup tables.</pre>"
      ],
      "text/plain": [
       "Finalizing lookup tables."
      ]
     },
     "metadata": {},
     "output_type": "display_data"
    },
    {
     "data": {
      "text/html": [
       "<pre>Generating candidate set for working with new users.</pre>"
      ],
      "text/plain": [
       "Generating candidate set for working with new users."
      ]
     },
     "metadata": {},
     "output_type": "display_data"
    },
    {
     "data": {
      "text/html": [
       "<pre>Finished training in 1.36908s</pre>"
      ],
      "text/plain": [
       "Finished training in 1.36908s"
      ]
     },
     "metadata": {},
     "output_type": "display_data"
    }
   ],
   "source": [
    "# item-to-item similarity model based on pearson similarity\n",
    "item_pearson_sim_model = tc.item_similarity_recommender.create(train_data,\\\n",
    "                                                       user_id='user_id', item_id='business_id',\\\n",
    "                                                       target='review_stars', similarity_type='pearson')\n",
    "\n"
   ]
  },
  {
   "cell_type": "code",
   "execution_count": 35,
   "metadata": {},
   "outputs": [
    {
     "name": "stdout",
     "output_type": "stream",
     "text": [
      "+------------------------+------------------------+-------+------+\n",
      "|        user_id         |      business_id       | score | rank |\n",
      "+------------------------+------------------------+-------+------+\n",
      "| jSD05fFrAFa5gX3ZQae1tw | vmJekvxsAV8dCEO4MGO4sg |  5.0  |  1   |\n",
      "| jSD05fFrAFa5gX3ZQae1tw | PEFcy5D1nXdHS67Ge0h0Kg |  5.0  |  2   |\n",
      "| jSD05fFrAFa5gX3ZQae1tw | ZKgRlphtyvKNl2sa0Mz2LA |  5.0  |  3   |\n",
      "| jSD05fFrAFa5gX3ZQae1tw | ElM8yyW45TAy4vjApwy7ZQ |  5.0  |  4   |\n",
      "| jSD05fFrAFa5gX3ZQae1tw | sOkQ2Y1-D8h18oN5NgxuLg |  5.0  |  5   |\n",
      "| oagZh5A2cWJXZBLakS_KpQ | vmJekvxsAV8dCEO4MGO4sg |  5.0  |  1   |\n",
      "| oagZh5A2cWJXZBLakS_KpQ | PEFcy5D1nXdHS67Ge0h0Kg |  5.0  |  2   |\n",
      "| oagZh5A2cWJXZBLakS_KpQ | ZKgRlphtyvKNl2sa0Mz2LA |  5.0  |  3   |\n",
      "| oagZh5A2cWJXZBLakS_KpQ | ElM8yyW45TAy4vjApwy7ZQ |  5.0  |  4   |\n",
      "| oagZh5A2cWJXZBLakS_KpQ | sOkQ2Y1-D8h18oN5NgxuLg |  5.0  |  5   |\n",
      "| 6BSwuyc7fvcccJgrY4_W5Q | vmJekvxsAV8dCEO4MGO4sg |  5.0  |  1   |\n",
      "| 6BSwuyc7fvcccJgrY4_W5Q | PEFcy5D1nXdHS67Ge0h0Kg |  5.0  |  2   |\n",
      "| 6BSwuyc7fvcccJgrY4_W5Q | ZKgRlphtyvKNl2sa0Mz2LA |  5.0  |  3   |\n",
      "| 6BSwuyc7fvcccJgrY4_W5Q | ElM8yyW45TAy4vjApwy7ZQ |  5.0  |  4   |\n",
      "| 6BSwuyc7fvcccJgrY4_W5Q | sOkQ2Y1-D8h18oN5NgxuLg |  5.0  |  5   |\n",
      "| ih7Dmu7wZpKVwlBRbakJOQ | vmJekvxsAV8dCEO4MGO4sg |  5.0  |  1   |\n",
      "| ih7Dmu7wZpKVwlBRbakJOQ | PEFcy5D1nXdHS67Ge0h0Kg |  5.0  |  2   |\n",
      "| ih7Dmu7wZpKVwlBRbakJOQ | ZKgRlphtyvKNl2sa0Mz2LA |  5.0  |  3   |\n",
      "| ih7Dmu7wZpKVwlBRbakJOQ | ElM8yyW45TAy4vjApwy7ZQ |  5.0  |  4   |\n",
      "| ih7Dmu7wZpKVwlBRbakJOQ | sOkQ2Y1-D8h18oN5NgxuLg |  5.0  |  5   |\n",
      "| zqL43wHcz133AVvEuba67w | vmJekvxsAV8dCEO4MGO4sg |  5.0  |  1   |\n",
      "| zqL43wHcz133AVvEuba67w | PEFcy5D1nXdHS67Ge0h0Kg |  5.0  |  2   |\n",
      "| zqL43wHcz133AVvEuba67w | ZKgRlphtyvKNl2sa0Mz2LA |  5.0  |  3   |\n",
      "| zqL43wHcz133AVvEuba67w | ElM8yyW45TAy4vjApwy7ZQ |  5.0  |  4   |\n",
      "| zqL43wHcz133AVvEuba67w | sOkQ2Y1-D8h18oN5NgxuLg |  5.0  |  5   |\n",
      "+------------------------+------------------------+-------+------+\n",
      "[25 rows x 4 columns]\n",
      "\n"
     ]
    }
   ],
   "source": [
    "#Make Recommendations:\n",
    "item_pearson_sim_recomm = item_pearson_sim_model.recommend(users=check_users,k=5)\n",
    "item_pearson_sim_recomm.print_rows(num_rows=25)"
   ]
  },
  {
   "cell_type": "code",
   "execution_count": 18,
   "metadata": {},
   "outputs": [
    {
     "data": {
      "text/html": [
       "<pre>Recsys training: model = item_similarity</pre>"
      ],
      "text/plain": [
       "Recsys training: model = item_similarity"
      ]
     },
     "metadata": {},
     "output_type": "display_data"
    },
    {
     "data": {
      "text/html": [
       "<pre>Preparing data set.</pre>"
      ],
      "text/plain": [
       "Preparing data set."
      ]
     },
     "metadata": {},
     "output_type": "display_data"
    },
    {
     "data": {
      "text/html": [
       "<pre>    Data has 842512 observations with 327487 users and 5382 items.</pre>"
      ],
      "text/plain": [
       "    Data has 842512 observations with 327487 users and 5382 items."
      ]
     },
     "metadata": {},
     "output_type": "display_data"
    },
    {
     "data": {
      "text/html": [
       "<pre>    Data prepared in: 3.25172s</pre>"
      ],
      "text/plain": [
       "    Data prepared in: 3.25172s"
      ]
     },
     "metadata": {},
     "output_type": "display_data"
    },
    {
     "data": {
      "text/html": [
       "<pre>Training model from provided data.</pre>"
      ],
      "text/plain": [
       "Training model from provided data."
      ]
     },
     "metadata": {},
     "output_type": "display_data"
    },
    {
     "data": {
      "text/html": [
       "<pre>Gathering per-item and per-user statistics.</pre>"
      ],
      "text/plain": [
       "Gathering per-item and per-user statistics."
      ]
     },
     "metadata": {},
     "output_type": "display_data"
    },
    {
     "data": {
      "text/html": [
       "<pre>+--------------------------------+------------+</pre>"
      ],
      "text/plain": [
       "+--------------------------------+------------+"
      ]
     },
     "metadata": {},
     "output_type": "display_data"
    },
    {
     "data": {
      "text/html": [
       "<pre>| Elapsed Time (Item Statistics) | % Complete |</pre>"
      ],
      "text/plain": [
       "| Elapsed Time (Item Statistics) | % Complete |"
      ]
     },
     "metadata": {},
     "output_type": "display_data"
    },
    {
     "data": {
      "text/html": [
       "<pre>+--------------------------------+------------+</pre>"
      ],
      "text/plain": [
       "+--------------------------------+------------+"
      ]
     },
     "metadata": {},
     "output_type": "display_data"
    },
    {
     "data": {
      "text/html": [
       "<pre>| 6.622ms                        | 0.25       |</pre>"
      ],
      "text/plain": [
       "| 6.622ms                        | 0.25       |"
      ]
     },
     "metadata": {},
     "output_type": "display_data"
    },
    {
     "data": {
      "text/html": [
       "<pre>| 172.206ms                      | 100        |</pre>"
      ],
      "text/plain": [
       "| 172.206ms                      | 100        |"
      ]
     },
     "metadata": {},
     "output_type": "display_data"
    },
    {
     "data": {
      "text/html": [
       "<pre>+--------------------------------+------------+</pre>"
      ],
      "text/plain": [
       "+--------------------------------+------------+"
      ]
     },
     "metadata": {},
     "output_type": "display_data"
    },
    {
     "data": {
      "text/html": [
       "<pre>Setting up lookup tables.</pre>"
      ],
      "text/plain": [
       "Setting up lookup tables."
      ]
     },
     "metadata": {},
     "output_type": "display_data"
    },
    {
     "data": {
      "text/html": [
       "<pre>Processing data in one pass using dense lookup tables.</pre>"
      ],
      "text/plain": [
       "Processing data in one pass using dense lookup tables."
      ]
     },
     "metadata": {},
     "output_type": "display_data"
    },
    {
     "data": {
      "text/html": [
       "<pre>+-------------------------------------+------------------+-----------------+</pre>"
      ],
      "text/plain": [
       "+-------------------------------------+------------------+-----------------+"
      ]
     },
     "metadata": {},
     "output_type": "display_data"
    },
    {
     "data": {
      "text/html": [
       "<pre>| Elapsed Time (Constructing Lookups) | Total % Complete | Items Processed |</pre>"
      ],
      "text/plain": [
       "| Elapsed Time (Constructing Lookups) | Total % Complete | Items Processed |"
      ]
     },
     "metadata": {},
     "output_type": "display_data"
    },
    {
     "data": {
      "text/html": [
       "<pre>+-------------------------------------+------------------+-----------------+</pre>"
      ],
      "text/plain": [
       "+-------------------------------------+------------------+-----------------+"
      ]
     },
     "metadata": {},
     "output_type": "display_data"
    },
    {
     "data": {
      "text/html": [
       "<pre>| 359.237ms                           | 0                | 0               |</pre>"
      ],
      "text/plain": [
       "| 359.237ms                           | 0                | 0               |"
      ]
     },
     "metadata": {},
     "output_type": "display_data"
    },
    {
     "data": {
      "text/html": [
       "<pre>| 1.21s                               | 100              | 5382            |</pre>"
      ],
      "text/plain": [
       "| 1.21s                               | 100              | 5382            |"
      ]
     },
     "metadata": {},
     "output_type": "display_data"
    },
    {
     "data": {
      "text/html": [
       "<pre>+-------------------------------------+------------------+-----------------+</pre>"
      ],
      "text/plain": [
       "+-------------------------------------+------------------+-----------------+"
      ]
     },
     "metadata": {},
     "output_type": "display_data"
    },
    {
     "data": {
      "text/html": [
       "<pre>Finalizing lookup tables.</pre>"
      ],
      "text/plain": [
       "Finalizing lookup tables."
      ]
     },
     "metadata": {},
     "output_type": "display_data"
    },
    {
     "data": {
      "text/html": [
       "<pre>Generating candidate set for working with new users.</pre>"
      ],
      "text/plain": [
       "Generating candidate set for working with new users."
      ]
     },
     "metadata": {},
     "output_type": "display_data"
    },
    {
     "data": {
      "text/html": [
       "<pre>Finished training in 1.35281s</pre>"
      ],
      "text/plain": [
       "Finished training in 1.35281s"
      ]
     },
     "metadata": {},
     "output_type": "display_data"
    }
   ],
   "source": [
    "# item-to-item similarity model based on cosine similarity\n",
    "item_cos_sim_model = tc.item_similarity_recommender.create(train_data,\\\n",
    "                                                       user_id='user_id', item_id='business_id',\\\n",
    "                                                       target='review_stars', similarity_type='cosine')\n",
    "\n"
   ]
  },
  {
   "cell_type": "code",
   "execution_count": 36,
   "metadata": {},
   "outputs": [
    {
     "name": "stdout",
     "output_type": "stream",
     "text": [
      "+------------------------+------------------------+----------------------+------+\n",
      "|        user_id         |      business_id       |        score         | rank |\n",
      "+------------------------+------------------------+----------------------+------+\n",
      "| jSD05fFrAFa5gX3ZQae1tw | k2b3niokS_tosjah_rzCPw | 0.08606218374692477  |  1   |\n",
      "| jSD05fFrAFa5gX3ZQae1tw | jBs2HmEOkqCvdHNnw3N-og | 0.07024011245140663  |  2   |\n",
      "| jSD05fFrAFa5gX3ZQae1tw | m8u3fsbhfdXu7IhXeHBO5A | 0.06099940721805279  |  3   |\n",
      "| jSD05fFrAFa5gX3ZQae1tw | cRtPP-AKezf0m94W-aisYA | 0.060665786266326904 |  4   |\n",
      "| jSD05fFrAFa5gX3ZQae1tw | lKH_cqeaeVpHdsO2dK58OA | 0.06059996898357685  |  5   |\n",
      "| oagZh5A2cWJXZBLakS_KpQ | l_GV0hgEoTUf70uJVT0_hg | 0.08959227800369263  |  1   |\n",
      "| oagZh5A2cWJXZBLakS_KpQ | rioQ_p2pILNbJ4Xp5jW6-Q | 0.08794295787811279  |  2   |\n",
      "| oagZh5A2cWJXZBLakS_KpQ | wuQDMDlqM17jQNo0lYQZ7g | 0.08385350874492101  |  3   |\n",
      "| oagZh5A2cWJXZBLakS_KpQ | zpoZ6WyQUYff18-z4ZU1mA | 0.08046167237418038  |  4   |\n",
      "| oagZh5A2cWJXZBLakS_KpQ | -ed0Yc9on37RoIoG2ZgxBA | 0.07454976013728551  |  5   |\n",
      "| 6BSwuyc7fvcccJgrY4_W5Q | 0Tutx9JhCi_HE6MUnbh5vw | 0.10555008053779602  |  1   |\n",
      "| 6BSwuyc7fvcccJgrY4_W5Q | g8OnV26ywJlZpezdBnOWUQ | 0.09892433881759644  |  2   |\n",
      "| 6BSwuyc7fvcccJgrY4_W5Q | W-3Sy3fy85mQdd0ZNFKIiw | 0.07491171360015869  |  3   |\n",
      "| 6BSwuyc7fvcccJgrY4_W5Q | DbEszO3wk1xVmN3pCPob2g | 0.07151991128921509  |  4   |\n",
      "| 6BSwuyc7fvcccJgrY4_W5Q | l_GV0hgEoTUf70uJVT0_hg | 0.07129284739494324  |  5   |\n",
      "| ih7Dmu7wZpKVwlBRbakJOQ | 03Yt7kMeYihN_y6ptiXxyQ | 0.07865807745191786  |  1   |\n",
      "| ih7Dmu7wZpKVwlBRbakJOQ | LJN4A-Wr95ee-Ihurzs36Q | 0.07249691751268175  |  2   |\n",
      "| ih7Dmu7wZpKVwlBRbakJOQ | GrR5CHz1Wvys6GSWtTup7Q | 0.07153199116388957  |  3   |\n",
      "| ih7Dmu7wZpKVwlBRbakJOQ | EHDcxAlrrP4VPiZuQlrIrg | 0.06202605697843763  |  4   |\n",
      "| ih7Dmu7wZpKVwlBRbakJOQ | JWN22sQ7cl9KjmIk0nMbUg | 0.060035361184014216 |  5   |\n",
      "| zqL43wHcz133AVvEuba67w | YPCbxsAPYOo3kRMbhfxFzw |  0.2496931552886963  |  1   |\n",
      "| zqL43wHcz133AVvEuba67w | r32Lb8K6hXQnT3zrkP4FsA | 0.24822866916656494  |  2   |\n",
      "| zqL43wHcz133AVvEuba67w | aQFXeuyxTF9xIeytWtrYKA |  0.2277059555053711  |  3   |\n",
      "| zqL43wHcz133AVvEuba67w | JJEx5wIqs9iGGATOagE8Sg | 0.22561335563659668  |  4   |\n",
      "| zqL43wHcz133AVvEuba67w | -XKG6GamlSBwy5AcXQGAfA | 0.20823168754577637  |  5   |\n",
      "+------------------------+------------------------+----------------------+------+\n",
      "[25 rows x 4 columns]\n",
      "\n"
     ]
    }
   ],
   "source": [
    "#Make Recommendations:\n",
    "item_cos_sim_recomm = item_cos_sim_model.recommend(users=check_users,k=5)\n",
    "item_cos_sim_recomm.print_rows(num_rows=25)"
   ]
  },
  {
   "cell_type": "code",
   "execution_count": null,
   "metadata": {},
   "outputs": [],
   "source": []
  },
  {
   "cell_type": "code",
   "execution_count": null,
   "metadata": {},
   "outputs": [],
   "source": []
  },
  {
   "cell_type": "markdown",
   "metadata": {},
   "source": [
    "# Evaluating Recommendation Models"
   ]
  },
  {
   "cell_type": "code",
   "execution_count": 37,
   "metadata": {},
   "outputs": [
    {
     "ename": "NameError",
     "evalue": "name 'item_content_model' is not defined",
     "output_type": "error",
     "traceback": [
      "\u001b[0;31m---------------------------------------------------------------------------\u001b[0m",
      "\u001b[0;31mNameError\u001b[0m                                 Traceback (most recent call last)",
      "\u001b[0;32m<ipython-input-37-ffe1ee11a453>\u001b[0m in \u001b[0;36m<module>\u001b[0;34m()\u001b[0m\n\u001b[0;32m----> 1\u001b[0;31m model_performance = tc.recommender.util.compare_models(test_data, [item_content_model,\n\u001b[0m\u001b[1;32m      2\u001b[0m                                                                    item_pearson_sim_model,item_cos_sim_model],\\\n\u001b[1;32m      3\u001b[0m                                                       verbose=True)\n",
      "\u001b[0;31mNameError\u001b[0m: name 'item_content_model' is not defined"
     ]
    }
   ],
   "source": [
    "model_performance = tc.recommender.util.compare_models(test_data, [item_content_model,\n",
    "                                                                   item_pearson_sim_model,item_cos_sim_model],\\\n",
    "                                                      verbose=True)\n"
   ]
  },
  {
   "cell_type": "code",
   "execution_count": 38,
   "metadata": {},
   "outputs": [
    {
     "ename": "NameError",
     "evalue": "name 'model_performance' is not defined",
     "output_type": "error",
     "traceback": [
      "\u001b[0;31m---------------------------------------------------------------------------\u001b[0m",
      "\u001b[0;31mNameError\u001b[0m                                 Traceback (most recent call last)",
      "\u001b[0;32m<ipython-input-38-a8fcab0687d9>\u001b[0m in \u001b[0;36m<module>\u001b[0;34m()\u001b[0m\n\u001b[0;32m----> 1\u001b[0;31m \u001b[0mmodel_performance\u001b[0m\u001b[0;34m\u001b[0m\u001b[0m\n\u001b[0m",
      "\u001b[0;31mNameError\u001b[0m: name 'model_performance' is not defined"
     ]
    }
   ],
   "source": [
    "model_performance"
   ]
  },
  {
   "cell_type": "code",
   "execution_count": null,
   "metadata": {},
   "outputs": [],
   "source": []
  },
  {
   "cell_type": "code",
   "execution_count": null,
   "metadata": {},
   "outputs": [],
   "source": []
  },
  {
   "cell_type": "code",
   "execution_count": null,
   "metadata": {},
   "outputs": [],
   "source": []
  },
  {
   "cell_type": "code",
   "execution_count": null,
   "metadata": {},
   "outputs": [],
   "source": []
  },
  {
   "cell_type": "code",
   "execution_count": null,
   "metadata": {},
   "outputs": [],
   "source": []
  },
  {
   "cell_type": "code",
   "execution_count": null,
   "metadata": {},
   "outputs": [],
   "source": []
  },
  {
   "cell_type": "markdown",
   "metadata": {},
   "source": [
    "# Item-Content Based Model"
   ]
  },
  {
   "cell_type": "code",
   "execution_count": null,
   "metadata": {},
   "outputs": [],
   "source": [
    "# build table for business attributes"
   ]
  },
  {
   "cell_type": "code",
   "execution_count": 39,
   "metadata": {},
   "outputs": [
    {
     "data": {
      "text/html": [
       "<div>\n",
       "<style scoped>\n",
       "    .dataframe tbody tr th:only-of-type {\n",
       "        vertical-align: middle;\n",
       "    }\n",
       "\n",
       "    .dataframe tbody tr th {\n",
       "        vertical-align: top;\n",
       "    }\n",
       "\n",
       "    .dataframe thead th {\n",
       "        text-align: right;\n",
       "    }\n",
       "</style>\n",
       "<table border=\"1\" class=\"dataframe\">\n",
       "  <thead>\n",
       "    <tr style=\"text-align: right;\">\n",
       "      <th></th>\n",
       "      <th>address</th>\n",
       "      <th>attributes</th>\n",
       "      <th>attributes_AcceptsInsurance</th>\n",
       "      <th>attributes_AgesAllowed</th>\n",
       "      <th>attributes_Alcohol</th>\n",
       "      <th>attributes_Ambience</th>\n",
       "      <th>attributes_BYOB</th>\n",
       "      <th>attributes_BYOBCorkage</th>\n",
       "      <th>attributes_BestNights</th>\n",
       "      <th>attributes_BikeParking</th>\n",
       "      <th>...</th>\n",
       "      <th>overall_stars</th>\n",
       "      <th>state</th>\n",
       "      <th>cool</th>\n",
       "      <th>date</th>\n",
       "      <th>funny</th>\n",
       "      <th>review_id</th>\n",
       "      <th>review_stars</th>\n",
       "      <th>text</th>\n",
       "      <th>useful</th>\n",
       "      <th>user_id</th>\n",
       "    </tr>\n",
       "  </thead>\n",
       "  <tbody>\n",
       "    <tr>\n",
       "      <th>8</th>\n",
       "      <td>3940 Martin Luther King Blvd, Ste 101</td>\n",
       "      <td>NaN</td>\n",
       "      <td>NaN</td>\n",
       "      <td>NaN</td>\n",
       "      <td>NaN</td>\n",
       "      <td>NaN</td>\n",
       "      <td>NaN</td>\n",
       "      <td>NaN</td>\n",
       "      <td>NaN</td>\n",
       "      <td>True</td>\n",
       "      <td>...</td>\n",
       "      <td>1.5</td>\n",
       "      <td>NV</td>\n",
       "      <td>1</td>\n",
       "      <td>2015-08-02</td>\n",
       "      <td>0.0</td>\n",
       "      <td>UgwmWy_68S_aKR9wTWKGOg</td>\n",
       "      <td>3.0</td>\n",
       "      <td>I am a huge fan of both locally owned business...</td>\n",
       "      <td>4.0</td>\n",
       "      <td>jSD05fFrAFa5gX3ZQae1tw</td>\n",
       "    </tr>\n",
       "    <tr>\n",
       "      <th>9</th>\n",
       "      <td>3940 Martin Luther King Blvd, Ste 101</td>\n",
       "      <td>NaN</td>\n",
       "      <td>NaN</td>\n",
       "      <td>NaN</td>\n",
       "      <td>NaN</td>\n",
       "      <td>NaN</td>\n",
       "      <td>NaN</td>\n",
       "      <td>NaN</td>\n",
       "      <td>NaN</td>\n",
       "      <td>True</td>\n",
       "      <td>...</td>\n",
       "      <td>1.5</td>\n",
       "      <td>NV</td>\n",
       "      <td>2</td>\n",
       "      <td>2015-06-08</td>\n",
       "      <td>2.0</td>\n",
       "      <td>AywPsODuQbUMhBEjmKiGXw</td>\n",
       "      <td>1.0</td>\n",
       "      <td>Let me start off by saying. If you cant make a...</td>\n",
       "      <td>8.0</td>\n",
       "      <td>oagZh5A2cWJXZBLakS_KpQ</td>\n",
       "    </tr>\n",
       "    <tr>\n",
       "      <th>10</th>\n",
       "      <td>3940 Martin Luther King Blvd, Ste 101</td>\n",
       "      <td>NaN</td>\n",
       "      <td>NaN</td>\n",
       "      <td>NaN</td>\n",
       "      <td>NaN</td>\n",
       "      <td>NaN</td>\n",
       "      <td>NaN</td>\n",
       "      <td>NaN</td>\n",
       "      <td>NaN</td>\n",
       "      <td>True</td>\n",
       "      <td>...</td>\n",
       "      <td>1.5</td>\n",
       "      <td>NV</td>\n",
       "      <td>1</td>\n",
       "      <td>2015-08-08</td>\n",
       "      <td>0.0</td>\n",
       "      <td>6j39TEUBDBTEK37OKACWLw</td>\n",
       "      <td>1.0</td>\n",
       "      <td>Decent product. ..HORRIBLE service. Totally un...</td>\n",
       "      <td>2.0</td>\n",
       "      <td>6BSwuyc7fvcccJgrY4_W5Q</td>\n",
       "    </tr>\n",
       "    <tr>\n",
       "      <th>31</th>\n",
       "      <td>2255 N Rampart Blvd</td>\n",
       "      <td>NaN</td>\n",
       "      <td>NaN</td>\n",
       "      <td>NaN</td>\n",
       "      <td>none</td>\n",
       "      <td>{'romantic': False, 'intimate': False, 'classy...</td>\n",
       "      <td>NaN</td>\n",
       "      <td>NaN</td>\n",
       "      <td>NaN</td>\n",
       "      <td>True</td>\n",
       "      <td>...</td>\n",
       "      <td>2.5</td>\n",
       "      <td>NV</td>\n",
       "      <td>0</td>\n",
       "      <td>2016-07-03</td>\n",
       "      <td>0.0</td>\n",
       "      <td>c6iTbCMMYWnOd79ZiWwobg</td>\n",
       "      <td>1.0</td>\n",
       "      <td>I ordered a few 12 inch sandwiches , a turkey ...</td>\n",
       "      <td>1.0</td>\n",
       "      <td>ih7Dmu7wZpKVwlBRbakJOQ</td>\n",
       "    </tr>\n",
       "    <tr>\n",
       "      <th>32</th>\n",
       "      <td>2255 N Rampart Blvd</td>\n",
       "      <td>NaN</td>\n",
       "      <td>NaN</td>\n",
       "      <td>NaN</td>\n",
       "      <td>none</td>\n",
       "      <td>{'romantic': False, 'intimate': False, 'classy...</td>\n",
       "      <td>NaN</td>\n",
       "      <td>NaN</td>\n",
       "      <td>NaN</td>\n",
       "      <td>True</td>\n",
       "      <td>...</td>\n",
       "      <td>2.5</td>\n",
       "      <td>NV</td>\n",
       "      <td>0</td>\n",
       "      <td>2010-06-20</td>\n",
       "      <td>2.0</td>\n",
       "      <td>fisvc16rY1Q5NTX_O_QQ2A</td>\n",
       "      <td>1.0</td>\n",
       "      <td>A very dirty place. You can watch the employee...</td>\n",
       "      <td>3.0</td>\n",
       "      <td>zqL43wHcz133AVvEuba67w</td>\n",
       "    </tr>\n",
       "  </tbody>\n",
       "</table>\n",
       "<p>5 rows × 69 columns</p>\n",
       "</div>"
      ],
      "text/plain": [
       "                                  address  attributes  \\\n",
       "8   3940 Martin Luther King Blvd, Ste 101         NaN   \n",
       "9   3940 Martin Luther King Blvd, Ste 101         NaN   \n",
       "10  3940 Martin Luther King Blvd, Ste 101         NaN   \n",
       "31                    2255 N Rampart Blvd         NaN   \n",
       "32                    2255 N Rampart Blvd         NaN   \n",
       "\n",
       "   attributes_AcceptsInsurance attributes_AgesAllowed attributes_Alcohol  \\\n",
       "8                          NaN                    NaN                NaN   \n",
       "9                          NaN                    NaN                NaN   \n",
       "10                         NaN                    NaN                NaN   \n",
       "31                         NaN                    NaN               none   \n",
       "32                         NaN                    NaN               none   \n",
       "\n",
       "                                  attributes_Ambience attributes_BYOB  \\\n",
       "8                                                 NaN             NaN   \n",
       "9                                                 NaN             NaN   \n",
       "10                                                NaN             NaN   \n",
       "31  {'romantic': False, 'intimate': False, 'classy...             NaN   \n",
       "32  {'romantic': False, 'intimate': False, 'classy...             NaN   \n",
       "\n",
       "   attributes_BYOBCorkage attributes_BestNights attributes_BikeParking  \\\n",
       "8                     NaN                   NaN                   True   \n",
       "9                     NaN                   NaN                   True   \n",
       "10                    NaN                   NaN                   True   \n",
       "31                    NaN                   NaN                   True   \n",
       "32                    NaN                   NaN                   True   \n",
       "\n",
       "             ...           overall_stars state cool        date funny  \\\n",
       "8            ...                     1.5    NV    1  2015-08-02   0.0   \n",
       "9            ...                     1.5    NV    2  2015-06-08   2.0   \n",
       "10           ...                     1.5    NV    1  2015-08-08   0.0   \n",
       "31           ...                     2.5    NV    0  2016-07-03   0.0   \n",
       "32           ...                     2.5    NV    0  2010-06-20   2.0   \n",
       "\n",
       "                 review_id review_stars  \\\n",
       "8   UgwmWy_68S_aKR9wTWKGOg          3.0   \n",
       "9   AywPsODuQbUMhBEjmKiGXw          1.0   \n",
       "10  6j39TEUBDBTEK37OKACWLw          1.0   \n",
       "31  c6iTbCMMYWnOd79ZiWwobg          1.0   \n",
       "32  fisvc16rY1Q5NTX_O_QQ2A          1.0   \n",
       "\n",
       "                                                 text useful  \\\n",
       "8   I am a huge fan of both locally owned business...    4.0   \n",
       "9   Let me start off by saying. If you cant make a...    8.0   \n",
       "10  Decent product. ..HORRIBLE service. Totally un...    2.0   \n",
       "31  I ordered a few 12 inch sandwiches , a turkey ...    1.0   \n",
       "32  A very dirty place. You can watch the employee...    3.0   \n",
       "\n",
       "                   user_id  \n",
       "8   jSD05fFrAFa5gX3ZQae1tw  \n",
       "9   oagZh5A2cWJXZBLakS_KpQ  \n",
       "10  6BSwuyc7fvcccJgrY4_W5Q  \n",
       "31  ih7Dmu7wZpKVwlBRbakJOQ  \n",
       "32  zqL43wHcz133AVvEuba67w  \n",
       "\n",
       "[5 rows x 69 columns]"
      ]
     },
     "execution_count": 39,
     "metadata": {},
     "output_type": "execute_result"
    }
   ],
   "source": [
    "df.head()"
   ]
  },
  {
   "cell_type": "code",
   "execution_count": 20,
   "metadata": {},
   "outputs": [],
   "source": [
    "arr = []\n",
    "with open('../input/yelp-dataset/yelp_academic_dataset_business.json', 'r') as input_file: \n",
    "    for line in input_file:\n",
    "        arr.append(json.loads(line))\n"
   ]
  },
  {
   "cell_type": "code",
   "execution_count": 21,
   "metadata": {},
   "outputs": [],
   "source": [
    "def parse_business(business_obj):\n",
    "    final_obj = {}\n",
    "    # get first layer of attributes\n",
    "    first_layer = ['business_id','stars','review_count','is_open']\n",
    "    for a in first_layer:\n",
    "        final_obj[a] = business_obj[a]\n",
    "    \n",
    "    if business_obj['attributes']:\n",
    "        final_obj = {**final_obj, **business_obj['attributes']}\n",
    "    if business_obj['hours']:\n",
    "        final_obj = {**final_obj, **business_obj['hours']}\n",
    "    try:\n",
    "        if final_obj['BusinessParking']:\n",
    "            parking = final_obj.pop('BusinessParking')\n",
    "            parking = ast.literal_eval(parking)\n",
    "            final_obj = {**final_obj, **parking}\n",
    "    except:\n",
    "        pass\n",
    "    if 'Ambience' in final_obj.keys():\n",
    "        ambience = final_obj.pop('Ambience')\n",
    "        ambience = ast.literal_eval(ambience)\n",
    "        final_obj = {**final_obj, **ambience}\n",
    "        \n",
    "    if 'GoodForMeal' in final_obj.keys():\n",
    "        meal = final_obj.pop('GoodForMeal')\n",
    "        meal = ast.literal_eval(meal)\n",
    "        final_obj = {**final_obj, **meal}\n",
    "    \n",
    "    return final_obj\n",
    "    "
   ]
  },
  {
   "cell_type": "code",
   "execution_count": 22,
   "metadata": {},
   "outputs": [],
   "source": [
    "business_arr = [parse_business(obj) for obj in arr]"
   ]
  },
  {
   "cell_type": "code",
   "execution_count": 23,
   "metadata": {},
   "outputs": [],
   "source": [
    "business_df = pd.DataFrame(business_arr)"
   ]
  },
  {
   "cell_type": "code",
   "execution_count": 24,
   "metadata": {},
   "outputs": [],
   "source": [
    "business_df = business_df[business_df.business_id.isin(df.business_id.unique())]"
   ]
  },
  {
   "cell_type": "code",
   "execution_count": 25,
   "metadata": {},
   "outputs": [
    {
     "data": {
      "text/html": [
       "<div>\n",
       "<style scoped>\n",
       "    .dataframe tbody tr th:only-of-type {\n",
       "        vertical-align: middle;\n",
       "    }\n",
       "\n",
       "    .dataframe tbody tr th {\n",
       "        vertical-align: top;\n",
       "    }\n",
       "\n",
       "    .dataframe thead th {\n",
       "        text-align: right;\n",
       "    }\n",
       "</style>\n",
       "<table border=\"1\" class=\"dataframe\">\n",
       "  <thead>\n",
       "    <tr style=\"text-align: right;\">\n",
       "      <th></th>\n",
       "      <th>AcceptsInsurance</th>\n",
       "      <th>AgesAllowed</th>\n",
       "      <th>Alcohol</th>\n",
       "      <th>BYOB</th>\n",
       "      <th>BYOBCorkage</th>\n",
       "      <th>BestNights</th>\n",
       "      <th>BikeParking</th>\n",
       "      <th>BusinessAcceptsBitcoin</th>\n",
       "      <th>BusinessAcceptsCreditCards</th>\n",
       "      <th>ByAppointmentOnly</th>\n",
       "      <th>...</th>\n",
       "      <th>lunch</th>\n",
       "      <th>review_count</th>\n",
       "      <th>romantic</th>\n",
       "      <th>stars</th>\n",
       "      <th>street</th>\n",
       "      <th>touristy</th>\n",
       "      <th>trendy</th>\n",
       "      <th>upscale</th>\n",
       "      <th>valet</th>\n",
       "      <th>validated</th>\n",
       "    </tr>\n",
       "  </thead>\n",
       "  <tbody>\n",
       "    <tr>\n",
       "      <th>19</th>\n",
       "      <td>NaN</td>\n",
       "      <td>NaN</td>\n",
       "      <td>NaN</td>\n",
       "      <td>NaN</td>\n",
       "      <td>NaN</td>\n",
       "      <td>NaN</td>\n",
       "      <td>True</td>\n",
       "      <td>NaN</td>\n",
       "      <td>True</td>\n",
       "      <td>NaN</td>\n",
       "      <td>...</td>\n",
       "      <td>NaN</td>\n",
       "      <td>3</td>\n",
       "      <td>NaN</td>\n",
       "      <td>1.5</td>\n",
       "      <td>NaN</td>\n",
       "      <td>NaN</td>\n",
       "      <td>NaN</td>\n",
       "      <td>NaN</td>\n",
       "      <td>NaN</td>\n",
       "      <td>NaN</td>\n",
       "    </tr>\n",
       "    <tr>\n",
       "      <th>32</th>\n",
       "      <td>NaN</td>\n",
       "      <td>NaN</td>\n",
       "      <td>none</td>\n",
       "      <td>NaN</td>\n",
       "      <td>NaN</td>\n",
       "      <td>NaN</td>\n",
       "      <td>True</td>\n",
       "      <td>NaN</td>\n",
       "      <td>True</td>\n",
       "      <td>NaN</td>\n",
       "      <td>...</td>\n",
       "      <td>True</td>\n",
       "      <td>13</td>\n",
       "      <td>False</td>\n",
       "      <td>2.5</td>\n",
       "      <td>False</td>\n",
       "      <td>False</td>\n",
       "      <td>False</td>\n",
       "      <td>False</td>\n",
       "      <td>False</td>\n",
       "      <td>False</td>\n",
       "    </tr>\n",
       "    <tr>\n",
       "      <th>33</th>\n",
       "      <td>NaN</td>\n",
       "      <td>NaN</td>\n",
       "      <td>beer_and_wine</td>\n",
       "      <td>NaN</td>\n",
       "      <td>NaN</td>\n",
       "      <td>NaN</td>\n",
       "      <td>True</td>\n",
       "      <td>NaN</td>\n",
       "      <td>True</td>\n",
       "      <td>NaN</td>\n",
       "      <td>...</td>\n",
       "      <td>True</td>\n",
       "      <td>242</td>\n",
       "      <td>False</td>\n",
       "      <td>4.0</td>\n",
       "      <td>False</td>\n",
       "      <td>False</td>\n",
       "      <td>False</td>\n",
       "      <td>False</td>\n",
       "      <td>False</td>\n",
       "      <td>False</td>\n",
       "    </tr>\n",
       "    <tr>\n",
       "      <th>61</th>\n",
       "      <td>NaN</td>\n",
       "      <td>NaN</td>\n",
       "      <td>NaN</td>\n",
       "      <td>NaN</td>\n",
       "      <td>NaN</td>\n",
       "      <td>NaN</td>\n",
       "      <td>NaN</td>\n",
       "      <td>NaN</td>\n",
       "      <td>NaN</td>\n",
       "      <td>NaN</td>\n",
       "      <td>...</td>\n",
       "      <td>NaN</td>\n",
       "      <td>4</td>\n",
       "      <td>NaN</td>\n",
       "      <td>2.0</td>\n",
       "      <td>NaN</td>\n",
       "      <td>NaN</td>\n",
       "      <td>NaN</td>\n",
       "      <td>NaN</td>\n",
       "      <td>NaN</td>\n",
       "      <td>NaN</td>\n",
       "    </tr>\n",
       "    <tr>\n",
       "      <th>141</th>\n",
       "      <td>NaN</td>\n",
       "      <td>NaN</td>\n",
       "      <td>none</td>\n",
       "      <td>NaN</td>\n",
       "      <td>NaN</td>\n",
       "      <td>NaN</td>\n",
       "      <td>False</td>\n",
       "      <td>NaN</td>\n",
       "      <td>True</td>\n",
       "      <td>NaN</td>\n",
       "      <td>...</td>\n",
       "      <td>False</td>\n",
       "      <td>16</td>\n",
       "      <td>False</td>\n",
       "      <td>1.5</td>\n",
       "      <td>False</td>\n",
       "      <td>False</td>\n",
       "      <td>False</td>\n",
       "      <td>False</td>\n",
       "      <td>False</td>\n",
       "      <td>False</td>\n",
       "    </tr>\n",
       "  </tbody>\n",
       "</table>\n",
       "<p>5 rows × 67 columns</p>\n",
       "</div>"
      ],
      "text/plain": [
       "    AcceptsInsurance AgesAllowed        Alcohol BYOB BYOBCorkage BestNights  \\\n",
       "19               NaN         NaN            NaN  NaN         NaN        NaN   \n",
       "32               NaN         NaN           none  NaN         NaN        NaN   \n",
       "33               NaN         NaN  beer_and_wine  NaN         NaN        NaN   \n",
       "61               NaN         NaN            NaN  NaN         NaN        NaN   \n",
       "141              NaN         NaN           none  NaN         NaN        NaN   \n",
       "\n",
       "    BikeParking BusinessAcceptsBitcoin BusinessAcceptsCreditCards  \\\n",
       "19         True                    NaN                       True   \n",
       "32         True                    NaN                       True   \n",
       "33         True                    NaN                       True   \n",
       "61          NaN                    NaN                        NaN   \n",
       "141       False                    NaN                       True   \n",
       "\n",
       "    ByAppointmentOnly    ...     lunch review_count romantic stars street  \\\n",
       "19                NaN    ...       NaN            3      NaN   1.5    NaN   \n",
       "32                NaN    ...      True           13    False   2.5  False   \n",
       "33                NaN    ...      True          242    False   4.0  False   \n",
       "61                NaN    ...       NaN            4      NaN   2.0    NaN   \n",
       "141               NaN    ...     False           16    False   1.5  False   \n",
       "\n",
       "    touristy trendy upscale  valet validated  \n",
       "19       NaN    NaN     NaN    NaN       NaN  \n",
       "32     False  False   False  False     False  \n",
       "33     False  False   False  False     False  \n",
       "61       NaN    NaN     NaN    NaN       NaN  \n",
       "141    False  False   False  False     False  \n",
       "\n",
       "[5 rows x 67 columns]"
      ]
     },
     "execution_count": 25,
     "metadata": {},
     "output_type": "execute_result"
    }
   ],
   "source": [
    "business_df.head()"
   ]
  },
  {
   "cell_type": "code",
   "execution_count": 26,
   "metadata": {},
   "outputs": [
    {
     "data": {
      "text/plain": [
       "['AcceptsInsurance',\n",
       " 'AgesAllowed',\n",
       " 'Alcohol',\n",
       " 'BYOB',\n",
       " 'BYOBCorkage',\n",
       " 'BestNights',\n",
       " 'BikeParking',\n",
       " 'BusinessAcceptsBitcoin',\n",
       " 'BusinessAcceptsCreditCards',\n",
       " 'ByAppointmentOnly',\n",
       " 'Caters',\n",
       " 'CoatCheck',\n",
       " 'Corkage',\n",
       " 'DietaryRestrictions',\n",
       " 'DogsAllowed',\n",
       " 'DriveThru',\n",
       " 'Friday',\n",
       " 'GoodForDancing',\n",
       " 'GoodForKids',\n",
       " 'HairSpecializesIn',\n",
       " 'HappyHour',\n",
       " 'HasTV',\n",
       " 'Monday',\n",
       " 'Music',\n",
       " 'NoiseLevel',\n",
       " 'Open24Hours',\n",
       " 'OutdoorSeating',\n",
       " 'RestaurantsAttire',\n",
       " 'RestaurantsCounterService',\n",
       " 'RestaurantsDelivery',\n",
       " 'RestaurantsGoodForGroups',\n",
       " 'RestaurantsPriceRange2',\n",
       " 'RestaurantsReservations',\n",
       " 'RestaurantsTableService',\n",
       " 'RestaurantsTakeOut',\n",
       " 'Saturday',\n",
       " 'Smoking',\n",
       " 'Sunday',\n",
       " 'Thursday',\n",
       " 'Tuesday',\n",
       " 'Wednesday',\n",
       " 'WheelchairAccessible',\n",
       " 'WiFi',\n",
       " 'breakfast',\n",
       " 'brunch',\n",
       " 'business_id',\n",
       " 'casual',\n",
       " 'classy',\n",
       " 'dessert',\n",
       " 'dinner',\n",
       " 'divey',\n",
       " 'garage',\n",
       " 'hipster',\n",
       " 'intimate',\n",
       " 'is_open',\n",
       " 'latenight',\n",
       " 'lot',\n",
       " 'lunch',\n",
       " 'review_count',\n",
       " 'romantic',\n",
       " 'stars',\n",
       " 'street',\n",
       " 'touristy',\n",
       " 'trendy',\n",
       " 'upscale',\n",
       " 'valet',\n",
       " 'validated']"
      ]
     },
     "execution_count": 26,
     "metadata": {},
     "output_type": "execute_result"
    }
   ],
   "source": [
    "list(business_df.isnull().sum().index)"
   ]
  },
  {
   "cell_type": "code",
   "execution_count": 27,
   "metadata": {},
   "outputs": [],
   "source": [
    "features_to_keep = ['Alcohol','BikeParking','BusinessAcceptsCreditCards','Caters',\n",
    "                   'GoodForKids','HappyHour','HasTV','NoiseLevel',\n",
    "                   'OutdoorSeating','RestaurantsAttire','RestaurantsDelivery',\n",
    "                   'RestaurantsGoodForGroups','RestaurantsPriceRange2',\n",
    "                    'RestaurantsReservations','RestaurantsTableService',\n",
    "                    'RestaurantsTakeOut','Smoking','WheelchairAccessible','WiFi','breakfast',\n",
    "                    'brunch','business_id','casual','classy','dessert','dinner','divey',\n",
    "                    'garage','hipster','intimate','is_open','latenight','lot','lunch',\n",
    "                    'review_count','romantic','stars','street','touristy','trendy',\n",
    "                    'upscale','valet','validated']\n",
    "\n",
    "hours_fields = ['Saturday','Tuesday','Wednesday','Sunday','Thursday','Monday','Friday']"
   ]
  },
  {
   "cell_type": "code",
   "execution_count": 28,
   "metadata": {},
   "outputs": [],
   "source": [
    "business_final = pd.get_dummies(business_df[features_to_keep],\n",
    "                                columns=[col for col in features_to_keep if col not in ['business_id',\n",
    "                                                                                   'stars','review_count','is_open']])"
   ]
  },
  {
   "cell_type": "code",
   "execution_count": 29,
   "metadata": {},
   "outputs": [
    {
     "data": {
      "text/plain": [
       "(6153, 90)"
      ]
     },
     "execution_count": 29,
     "metadata": {},
     "output_type": "execute_result"
    }
   ],
   "source": [
    "business_final.shape"
   ]
  },
  {
   "cell_type": "code",
   "execution_count": 30,
   "metadata": {},
   "outputs": [
    {
     "data": {
      "text/plain": [
       "Index(['business_id', 'is_open', 'review_count', 'stars',\n",
       "       'Alcohol_beer_and_wine', 'Alcohol_full_bar', 'Alcohol_none',\n",
       "       'BikeParking_False', 'BikeParking_True',\n",
       "       'BusinessAcceptsCreditCards_False', 'BusinessAcceptsCreditCards_True',\n",
       "       'Caters_False', 'Caters_True', 'GoodForKids_False', 'GoodForKids_True',\n",
       "       'HappyHour_False', 'HappyHour_True', 'HasTV_False', 'HasTV_True',\n",
       "       'NoiseLevel_average', 'NoiseLevel_loud', 'NoiseLevel_quiet',\n",
       "       'NoiseLevel_very_loud', 'OutdoorSeating_False', 'OutdoorSeating_True',\n",
       "       'RestaurantsAttire_casual', 'RestaurantsAttire_dressy',\n",
       "       'RestaurantsAttire_formal', 'RestaurantsDelivery_False',\n",
       "       'RestaurantsDelivery_True', 'RestaurantsGoodForGroups_False',\n",
       "       'RestaurantsGoodForGroups_True', 'RestaurantsPriceRange2_1',\n",
       "       'RestaurantsPriceRange2_2', 'RestaurantsPriceRange2_3',\n",
       "       'RestaurantsPriceRange2_4', 'RestaurantsReservations_False',\n",
       "       'RestaurantsReservations_True', 'RestaurantsTableService_False',\n",
       "       'RestaurantsTableService_True', 'RestaurantsTakeOut_False',\n",
       "       'RestaurantsTakeOut_True', 'Smoking_no', 'Smoking_outdoor',\n",
       "       'Smoking_yes', 'WheelchairAccessible_False',\n",
       "       'WheelchairAccessible_True', 'WiFi_free', 'WiFi_no', 'WiFi_paid',\n",
       "       'breakfast_False', 'breakfast_True', 'brunch_False', 'brunch_True',\n",
       "       'casual_False', 'casual_True', 'classy_False', 'classy_True',\n",
       "       'dessert_False', 'dessert_True', 'dinner_False', 'dinner_True',\n",
       "       'divey_False', 'divey_True', 'garage_False', 'garage_True',\n",
       "       'hipster_False', 'hipster_True', 'intimate_False', 'intimate_True',\n",
       "       'latenight_False', 'latenight_True', 'lot_False', 'lot_True',\n",
       "       'lunch_False', 'lunch_True', 'romantic_False', 'romantic_True',\n",
       "       'street_False', 'street_True', 'touristy_False', 'touristy_True',\n",
       "       'trendy_False', 'trendy_True', 'upscale_False', 'upscale_True',\n",
       "       'valet_False', 'valet_True', 'validated_False', 'validated_True'],\n",
       "      dtype='object')"
      ]
     },
     "execution_count": 30,
     "metadata": {},
     "output_type": "execute_result"
    }
   ],
   "source": [
    "business_final.columns"
   ]
  },
  {
   "cell_type": "code",
   "execution_count": 76,
   "metadata": {},
   "outputs": [
    {
     "data": {
      "text/html": [
       "<pre>Recsys training: model = factorization_recommender</pre>"
      ],
      "text/plain": [
       "Recsys training: model = factorization_recommender"
      ]
     },
     "metadata": {},
     "output_type": "display_data"
    },
    {
     "data": {
      "text/html": [
       "<pre>Preparing data set.</pre>"
      ],
      "text/plain": [
       "Preparing data set."
      ]
     },
     "metadata": {},
     "output_type": "display_data"
    },
    {
     "data": {
      "text/html": [
       "<pre>    Data has 842512 observations with 384829 users and 6153 items.</pre>"
      ],
      "text/plain": [
       "    Data has 842512 observations with 384829 users and 6153 items."
      ]
     },
     "metadata": {},
     "output_type": "display_data"
    },
    {
     "data": {
      "text/html": [
       "<pre>    Data prepared in: 2.68099s</pre>"
      ],
      "text/plain": [
       "    Data prepared in: 2.68099s"
      ]
     },
     "metadata": {},
     "output_type": "display_data"
    },
    {
     "data": {
      "text/html": [
       "<pre>Training factorization_recommender for recommendations.</pre>"
      ],
      "text/plain": [
       "Training factorization_recommender for recommendations."
      ]
     },
     "metadata": {},
     "output_type": "display_data"
    },
    {
     "data": {
      "text/html": [
       "<pre>+--------------------------------+--------------------------------------------------+----------+</pre>"
      ],
      "text/plain": [
       "+--------------------------------+--------------------------------------------------+----------+"
      ]
     },
     "metadata": {},
     "output_type": "display_data"
    },
    {
     "data": {
      "text/html": [
       "<pre>| Parameter                      | Description                                      | Value    |</pre>"
      ],
      "text/plain": [
       "| Parameter                      | Description                                      | Value    |"
      ]
     },
     "metadata": {},
     "output_type": "display_data"
    },
    {
     "data": {
      "text/html": [
       "<pre>+--------------------------------+--------------------------------------------------+----------+</pre>"
      ],
      "text/plain": [
       "+--------------------------------+--------------------------------------------------+----------+"
      ]
     },
     "metadata": {},
     "output_type": "display_data"
    },
    {
     "data": {
      "text/html": [
       "<pre>| num_factors                    | Factor Dimension                                 | 8        |</pre>"
      ],
      "text/plain": [
       "| num_factors                    | Factor Dimension                                 | 8        |"
      ]
     },
     "metadata": {},
     "output_type": "display_data"
    },
    {
     "data": {
      "text/html": [
       "<pre>| regularization                 | L2 Regularization on Factors                     | 1e-08    |</pre>"
      ],
      "text/plain": [
       "| regularization                 | L2 Regularization on Factors                     | 1e-08    |"
      ]
     },
     "metadata": {},
     "output_type": "display_data"
    },
    {
     "data": {
      "text/html": [
       "<pre>| solver                         | Solver used for training                         | adagrad  |</pre>"
      ],
      "text/plain": [
       "| solver                         | Solver used for training                         | adagrad  |"
      ]
     },
     "metadata": {},
     "output_type": "display_data"
    },
    {
     "data": {
      "text/html": [
       "<pre>| linear_regularization          | L2 Regularization on Linear Coefficients         | 1e-10    |</pre>"
      ],
      "text/plain": [
       "| linear_regularization          | L2 Regularization on Linear Coefficients         | 1e-10    |"
      ]
     },
     "metadata": {},
     "output_type": "display_data"
    },
    {
     "data": {
      "text/html": [
       "<pre>| side_data_factorization        | Assign Factors for Side Data                     | True     |</pre>"
      ],
      "text/plain": [
       "| side_data_factorization        | Assign Factors for Side Data                     | True     |"
      ]
     },
     "metadata": {},
     "output_type": "display_data"
    },
    {
     "data": {
      "text/html": [
       "<pre>| max_iterations                 | Maximum Number of Iterations                     | 50       |</pre>"
      ],
      "text/plain": [
       "| max_iterations                 | Maximum Number of Iterations                     | 50       |"
      ]
     },
     "metadata": {},
     "output_type": "display_data"
    },
    {
     "data": {
      "text/html": [
       "<pre>+--------------------------------+--------------------------------------------------+----------+</pre>"
      ],
      "text/plain": [
       "+--------------------------------+--------------------------------------------------+----------+"
      ]
     },
     "metadata": {},
     "output_type": "display_data"
    },
    {
     "data": {
      "text/html": [
       "<pre>  Optimizing model using SGD; tuning step size.</pre>"
      ],
      "text/plain": [
       "  Optimizing model using SGD; tuning step size."
      ]
     },
     "metadata": {},
     "output_type": "display_data"
    },
    {
     "data": {
      "text/html": [
       "<pre>  Using 105314 / 842512 points for tuning the step size.</pre>"
      ],
      "text/plain": [
       "  Using 105314 / 842512 points for tuning the step size."
      ]
     },
     "metadata": {},
     "output_type": "display_data"
    },
    {
     "data": {
      "text/html": [
       "<pre>+---------+-------------------+------------------------------------------+</pre>"
      ],
      "text/plain": [
       "+---------+-------------------+------------------------------------------+"
      ]
     },
     "metadata": {},
     "output_type": "display_data"
    },
    {
     "data": {
      "text/html": [
       "<pre>| Attempt | Initial Step Size | Estimated Objective Value                |</pre>"
      ],
      "text/plain": [
       "| Attempt | Initial Step Size | Estimated Objective Value                |"
      ]
     },
     "metadata": {},
     "output_type": "display_data"
    },
    {
     "data": {
      "text/html": [
       "<pre>+---------+-------------------+------------------------------------------+</pre>"
      ],
      "text/plain": [
       "+---------+-------------------+------------------------------------------+"
      ]
     },
     "metadata": {},
     "output_type": "display_data"
    },
    {
     "data": {
      "text/html": [
       "<pre>| 0       | 1                 | Not Viable                               |</pre>"
      ],
      "text/plain": [
       "| 0       | 1                 | Not Viable                               |"
      ]
     },
     "metadata": {},
     "output_type": "display_data"
    },
    {
     "data": {
      "text/html": [
       "<pre>| 1       | 0.25              | Not Viable                               |</pre>"
      ],
      "text/plain": [
       "| 1       | 0.25              | Not Viable                               |"
      ]
     },
     "metadata": {},
     "output_type": "display_data"
    },
    {
     "data": {
      "text/html": [
       "<pre>| 2       | 0.0625            | Not Viable                               |</pre>"
      ],
      "text/plain": [
       "| 2       | 0.0625            | Not Viable                               |"
      ]
     },
     "metadata": {},
     "output_type": "display_data"
    },
    {
     "data": {
      "text/html": [
       "<pre>| 3       | 0.015625          | No Decrease (4.40824 >= 1.89998)         |</pre>"
      ],
      "text/plain": [
       "| 3       | 0.015625          | No Decrease (4.40824 >= 1.89998)         |"
      ]
     },
     "metadata": {},
     "output_type": "display_data"
    },
    {
     "data": {
      "text/html": [
       "<pre>| 4       | 0.00390625        | 1.3731                                   |</pre>"
      ],
      "text/plain": [
       "| 4       | 0.00390625        | 1.3731                                   |"
      ]
     },
     "metadata": {},
     "output_type": "display_data"
    },
    {
     "data": {
      "text/html": [
       "<pre>| 5       | 0.00195312        | 1.38772                                  |</pre>"
      ],
      "text/plain": [
       "| 5       | 0.00195312        | 1.38772                                  |"
      ]
     },
     "metadata": {},
     "output_type": "display_data"
    },
    {
     "data": {
      "text/html": [
       "<pre>| 6       | 0.000976562       | 1.67886                                  |</pre>"
      ],
      "text/plain": [
       "| 6       | 0.000976562       | 1.67886                                  |"
      ]
     },
     "metadata": {},
     "output_type": "display_data"
    },
    {
     "data": {
      "text/html": [
       "<pre>| 7       | 0.000488281       | 1.64516                                  |</pre>"
      ],
      "text/plain": [
       "| 7       | 0.000488281       | 1.64516                                  |"
      ]
     },
     "metadata": {},
     "output_type": "display_data"
    },
    {
     "data": {
      "text/html": [
       "<pre>+---------+-------------------+------------------------------------------+</pre>"
      ],
      "text/plain": [
       "+---------+-------------------+------------------------------------------+"
      ]
     },
     "metadata": {},
     "output_type": "display_data"
    },
    {
     "data": {
      "text/html": [
       "<pre>| Final   | 0.00390625        | 1.3731                                   |</pre>"
      ],
      "text/plain": [
       "| Final   | 0.00390625        | 1.3731                                   |"
      ]
     },
     "metadata": {},
     "output_type": "display_data"
    },
    {
     "data": {
      "text/html": [
       "<pre>+---------+-------------------+------------------------------------------+</pre>"
      ],
      "text/plain": [
       "+---------+-------------------+------------------------------------------+"
      ]
     },
     "metadata": {},
     "output_type": "display_data"
    },
    {
     "data": {
      "text/html": [
       "<pre>Starting Optimization.</pre>"
      ],
      "text/plain": [
       "Starting Optimization."
      ]
     },
     "metadata": {},
     "output_type": "display_data"
    },
    {
     "data": {
      "text/html": [
       "<pre>+---------+--------------+-------------------+-----------------------+-------------+</pre>"
      ],
      "text/plain": [
       "+---------+--------------+-------------------+-----------------------+-------------+"
      ]
     },
     "metadata": {},
     "output_type": "display_data"
    },
    {
     "data": {
      "text/html": [
       "<pre>| Iter.   | Elapsed Time | Approx. Objective | Approx. Training RMSE | Step Size   |</pre>"
      ],
      "text/plain": [
       "| Iter.   | Elapsed Time | Approx. Objective | Approx. Training RMSE | Step Size   |"
      ]
     },
     "metadata": {},
     "output_type": "display_data"
    },
    {
     "data": {
      "text/html": [
       "<pre>+---------+--------------+-------------------+-----------------------+-------------+</pre>"
      ],
      "text/plain": [
       "+---------+--------------+-------------------+-----------------------+-------------+"
      ]
     },
     "metadata": {},
     "output_type": "display_data"
    },
    {
     "data": {
      "text/html": [
       "<pre>| Initial | 140us        | 1.89636           | 1.37708               |             |</pre>"
      ],
      "text/plain": [
       "| Initial | 140us        | 1.89636           | 1.37708               |             |"
      ]
     },
     "metadata": {},
     "output_type": "display_data"
    },
    {
     "data": {
      "text/html": [
       "<pre>+---------+--------------+-------------------+-----------------------+-------------+</pre>"
      ],
      "text/plain": [
       "+---------+--------------+-------------------+-----------------------+-------------+"
      ]
     },
     "metadata": {},
     "output_type": "display_data"
    },
    {
     "data": {
      "text/html": [
       "<pre>| 1       | 2.98s        | 1.38526           | 1.17697               | 0.00390625  |</pre>"
      ],
      "text/plain": [
       "| 1       | 2.98s        | 1.38526           | 1.17697               | 0.00390625  |"
      ]
     },
     "metadata": {},
     "output_type": "display_data"
    },
    {
     "data": {
      "text/html": [
       "<pre>| 2       | 5.64s        | 1.30905           | 1.14414               | 0.00390625  |</pre>"
      ],
      "text/plain": [
       "| 2       | 5.64s        | 1.30905           | 1.14414               | 0.00390625  |"
      ]
     },
     "metadata": {},
     "output_type": "display_data"
    },
    {
     "data": {
      "text/html": [
       "<pre>| 3       | 8.30s        | 1.30398           | 1.14192               | 0.00390625  |</pre>"
      ],
      "text/plain": [
       "| 3       | 8.30s        | 1.30398           | 1.14192               | 0.00390625  |"
      ]
     },
     "metadata": {},
     "output_type": "display_data"
    },
    {
     "data": {
      "text/html": [
       "<pre>| 4       | 11.11s       | 1.34533           | 1.15988               | 0.00390625  |</pre>"
      ],
      "text/plain": [
       "| 4       | 11.11s       | 1.34533           | 1.15988               | 0.00390625  |"
      ]
     },
     "metadata": {},
     "output_type": "display_data"
    },
    {
     "data": {
      "text/html": [
       "<pre>| 5       | 14.08s       | 1.32403           | 1.15066               | 0.00390625  |</pre>"
      ],
      "text/plain": [
       "| 5       | 14.08s       | 1.32403           | 1.15066               | 0.00390625  |"
      ]
     },
     "metadata": {},
     "output_type": "display_data"
    },
    {
     "data": {
      "text/html": [
       "<pre>| 10      | 27.37s       | 1.32506           | 1.15111               | 0.00390625  |</pre>"
      ],
      "text/plain": [
       "| 10      | 27.37s       | 1.32506           | 1.15111               | 0.00390625  |"
      ]
     },
     "metadata": {},
     "output_type": "display_data"
    },
    {
     "data": {
      "text/html": [
       "<pre>| 15      | 40.59s       | 1.35017           | 1.16197               | 0.00390625  |</pre>"
      ],
      "text/plain": [
       "| 15      | 40.59s       | 1.35017           | 1.16197               | 0.00390625  |"
      ]
     },
     "metadata": {},
     "output_type": "display_data"
    },
    {
     "data": {
      "text/html": [
       "<pre>| 20      | 53.44s       | 1.34231           | 1.15858               | 0.00390625  |</pre>"
      ],
      "text/plain": [
       "| 20      | 53.44s       | 1.34231           | 1.15858               | 0.00390625  |"
      ]
     },
     "metadata": {},
     "output_type": "display_data"
    },
    {
     "data": {
      "text/html": [
       "<pre>| 25      | 1m 6s        | 1.39178           | 1.17974               | 0.00390625  |</pre>"
      ],
      "text/plain": [
       "| 25      | 1m 6s        | 1.39178           | 1.17974               | 0.00390625  |"
      ]
     },
     "metadata": {},
     "output_type": "display_data"
    },
    {
     "data": {
      "text/html": [
       "<pre>| 30      | 1m 19s       | 1.51669           | 1.23154               | 0.00390625  |</pre>"
      ],
      "text/plain": [
       "| 30      | 1m 19s       | 1.51669           | 1.23154               | 0.00390625  |"
      ]
     },
     "metadata": {},
     "output_type": "display_data"
    },
    {
     "data": {
      "text/html": [
       "<pre>| 35      | 1m 32s       | 1.51658           | 1.23149               | 0.00390625  |</pre>"
      ],
      "text/plain": [
       "| 35      | 1m 32s       | 1.51658           | 1.23149               | 0.00390625  |"
      ]
     },
     "metadata": {},
     "output_type": "display_data"
    },
    {
     "data": {
      "text/html": [
       "<pre>| 40      | 1m 45s       | 1.57367           | 1.25446               | 0.00390625  |</pre>"
      ],
      "text/plain": [
       "| 40      | 1m 45s       | 1.57367           | 1.25446               | 0.00390625  |"
      ]
     },
     "metadata": {},
     "output_type": "display_data"
    },
    {
     "data": {
      "text/html": [
       "<pre>| 45      | 1m 58s       | 1.70757           | 1.30674               | 0.00390625  |</pre>"
      ],
      "text/plain": [
       "| 45      | 1m 58s       | 1.70757           | 1.30674               | 0.00390625  |"
      ]
     },
     "metadata": {},
     "output_type": "display_data"
    },
    {
     "data": {
      "text/html": [
       "<pre>| 50      | 2m 11s       | 1.57789           | 1.25614               | 0.00390625  |</pre>"
      ],
      "text/plain": [
       "| 50      | 2m 11s       | 1.57789           | 1.25614               | 0.00390625  |"
      ]
     },
     "metadata": {},
     "output_type": "display_data"
    },
    {
     "data": {
      "text/html": [
       "<pre>+---------+--------------+-------------------+-----------------------+-------------+</pre>"
      ],
      "text/plain": [
       "+---------+--------------+-------------------+-----------------------+-------------+"
      ]
     },
     "metadata": {},
     "output_type": "display_data"
    },
    {
     "data": {
      "text/html": [
       "<pre>Optimization Complete: Maximum number of passes through the data reached.</pre>"
      ],
      "text/plain": [
       "Optimization Complete: Maximum number of passes through the data reached."
      ]
     },
     "metadata": {},
     "output_type": "display_data"
    },
    {
     "data": {
      "text/html": [
       "<pre>Computing final objective value and training RMSE.</pre>"
      ],
      "text/plain": [
       "Computing final objective value and training RMSE."
      ]
     },
     "metadata": {},
     "output_type": "display_data"
    },
    {
     "data": {
      "text/html": [
       "<pre>       Final objective value: 2.72055</pre>"
      ],
      "text/plain": [
       "       Final objective value: 2.72055"
      ]
     },
     "metadata": {},
     "output_type": "display_data"
    },
    {
     "data": {
      "text/html": [
       "<pre>       Final training RMSE: 1.64941</pre>"
      ],
      "text/plain": [
       "       Final training RMSE: 1.64941"
      ]
     },
     "metadata": {},
     "output_type": "display_data"
    }
   ],
   "source": [
    "# from sklearn.preprocessing import MinMaxScaler\n",
    "# scaler = MinMaxScaler()\n",
    "# scale_cols = [col for col in list(business_final) if col != 'business_id']\n",
    "# business_final[scale_cols] = scaler.fit_transform(business_final[scale_cols])\n",
    "# item_data = tc.SFrame(business_final)\n",
    "factorization_model = tc.factorization_recommender.create(item_data=item_data,item_id='business_id',\\\n",
    "                                                    observation_data=train_data,user_id='user_id', \\\n",
    "                                                       target='review_stars',user_data=user_data)\n"
   ]
  },
  {
   "cell_type": "code",
   "execution_count": 79,
   "metadata": {},
   "outputs": [
    {
     "data": {
      "text/plain": [
       "{'rmse_by_user': Columns:\n",
       " \tuser_id\tstr\n",
       " \trmse\tfloat\n",
       " \tcount\tint\n",
       " \n",
       " Rows: 134880\n",
       " \n",
       " Data:\n",
       " +------------------------+---------------------+-------+\n",
       " |        user_id         |         rmse        | count |\n",
       " +------------------------+---------------------+-------+\n",
       " | t-jIQFGZAduBAIDuSfRDew | 0.34496518069709836 |   1   |\n",
       " | huVZckXjxfXC8eZbW8OvuA | 0.20152036326944334 |   1   |\n",
       " | jM-kmx4D1JC4Bcav7xOgqQ |  0.9589960991961717 |   1   |\n",
       " | RaP9rDxFeHn7bLUg47uuIA |  0.1498231174731428 |   1   |\n",
       " | Pjk0cNsCF8i7ssrzuc0G5g |  0.6351878878796087 |   2   |\n",
       " | hfF66BroJAhPHuLwtH9Etg |  1.2087763172947354 |   2   |\n",
       " | O7lpi9OXaH5LVsh4Qa1hag |  0.7041346859121429 |   1   |\n",
       " | 2Qg2KPlazMjTmK6mHlC-PQ |  0.613002174150743  |   1   |\n",
       " | Z65xcj7xGe_lmH0-8OZ1oA |  0.7815900234104918 |   1   |\n",
       " | BYotwilY7fec246G5Lxsmw |  0.4106804814528795 |   1   |\n",
       " +------------------------+---------------------+-------+\n",
       " [134880 rows x 3 columns]\n",
       " Note: Only the head of the SFrame is printed.\n",
       " You can use print_rows(num_rows=m, num_columns=n) to print more rows and columns.,\n",
       " 'rmse_by_item': Columns:\n",
       " \tbusiness_id\tstr\n",
       " \trmse\tfloat\n",
       " \tcount\tint\n",
       " \n",
       " Rows: 772\n",
       " \n",
       " Data:\n",
       " +------------------------+--------------------+-------+\n",
       " |      business_id       |        rmse        | count |\n",
       " +------------------------+--------------------+-------+\n",
       " | SvIXTIcPjZFrSHb8w-xtBg | 0.9585928786030795 |   25  |\n",
       " | 52p6b51oPNIwWBXuvIao1A | 1.0487512724276606 |   3   |\n",
       " | Bv5RS9NFbTsk9D7fvYx4Hw | 1.5047811761706333 |   20  |\n",
       " | 9jPb9kD6UBk4aVEgaizaoQ | 1.1071047378481116 |   77  |\n",
       " | yEgdNtrIuF5Jf34nIjyKug | 2.285431173267337  |   34  |\n",
       " | Lt_ytMJKMQ3lpBDYaANreA | 1.532242813961442  |   42  |\n",
       " | Ig-ecmGaE1-0AAGut70xTg | 0.6012354032711346 |   3   |\n",
       " | C47xNSByH-2k7WbX9Yx6kw | 1.0218208140031981 |   5   |\n",
       " | SuugmVDsQ8YhfdOJYSuSmw | 1.313318870283341  |  177  |\n",
       " | dizXpumQ-R5Py87nNUFy8A | 1.2834631792005766 |   19  |\n",
       " +------------------------+--------------------+-------+\n",
       " [772 rows x 3 columns]\n",
       " Note: Only the head of the SFrame is printed.\n",
       " You can use print_rows(num_rows=m, num_columns=n) to print more rows and columns.,\n",
       " 'rmse_overall': 1.9923574219219125}"
      ]
     },
     "execution_count": 79,
     "metadata": {},
     "output_type": "execute_result"
    }
   ],
   "source": [
    "factorization_model.evaluate_rmse(test_data, target='review_stars')"
   ]
  },
  {
   "cell_type": "code",
   "execution_count": 41,
   "metadata": {},
   "outputs": [
    {
     "data": {
      "text/html": [
       "<div>\n",
       "<style scoped>\n",
       "    .dataframe tbody tr th:only-of-type {\n",
       "        vertical-align: middle;\n",
       "    }\n",
       "\n",
       "    .dataframe tbody tr th {\n",
       "        vertical-align: top;\n",
       "    }\n",
       "\n",
       "    .dataframe thead th {\n",
       "        text-align: right;\n",
       "    }\n",
       "</style>\n",
       "<table border=\"1\" class=\"dataframe\">\n",
       "  <thead>\n",
       "    <tr style=\"text-align: right;\">\n",
       "      <th></th>\n",
       "      <th>is_open</th>\n",
       "      <th>review_count</th>\n",
       "      <th>stars</th>\n",
       "      <th>Alcohol_beer_and_wine</th>\n",
       "      <th>Alcohol_full_bar</th>\n",
       "      <th>Alcohol_none</th>\n",
       "      <th>BikeParking_False</th>\n",
       "      <th>BikeParking_True</th>\n",
       "      <th>BusinessAcceptsCreditCards_False</th>\n",
       "      <th>BusinessAcceptsCreditCards_True</th>\n",
       "      <th>...</th>\n",
       "      <th>touristy_False</th>\n",
       "      <th>touristy_True</th>\n",
       "      <th>trendy_False</th>\n",
       "      <th>trendy_True</th>\n",
       "      <th>upscale_False</th>\n",
       "      <th>upscale_True</th>\n",
       "      <th>valet_False</th>\n",
       "      <th>valet_True</th>\n",
       "      <th>validated_False</th>\n",
       "      <th>validated_True</th>\n",
       "    </tr>\n",
       "  </thead>\n",
       "  <tbody>\n",
       "    <tr>\n",
       "      <th>19</th>\n",
       "      <td>0.0</td>\n",
       "      <td>0.000000</td>\n",
       "      <td>0.125</td>\n",
       "      <td>0.0</td>\n",
       "      <td>0.0</td>\n",
       "      <td>0.0</td>\n",
       "      <td>0.0</td>\n",
       "      <td>1.0</td>\n",
       "      <td>0.0</td>\n",
       "      <td>1.0</td>\n",
       "      <td>...</td>\n",
       "      <td>0.0</td>\n",
       "      <td>0.0</td>\n",
       "      <td>0.0</td>\n",
       "      <td>0.0</td>\n",
       "      <td>0.0</td>\n",
       "      <td>0.0</td>\n",
       "      <td>0.0</td>\n",
       "      <td>0.0</td>\n",
       "      <td>0.0</td>\n",
       "      <td>0.0</td>\n",
       "    </tr>\n",
       "    <tr>\n",
       "      <th>32</th>\n",
       "      <td>1.0</td>\n",
       "      <td>0.001255</td>\n",
       "      <td>0.375</td>\n",
       "      <td>0.0</td>\n",
       "      <td>0.0</td>\n",
       "      <td>1.0</td>\n",
       "      <td>0.0</td>\n",
       "      <td>1.0</td>\n",
       "      <td>0.0</td>\n",
       "      <td>1.0</td>\n",
       "      <td>...</td>\n",
       "      <td>1.0</td>\n",
       "      <td>0.0</td>\n",
       "      <td>1.0</td>\n",
       "      <td>0.0</td>\n",
       "      <td>1.0</td>\n",
       "      <td>0.0</td>\n",
       "      <td>1.0</td>\n",
       "      <td>0.0</td>\n",
       "      <td>1.0</td>\n",
       "      <td>0.0</td>\n",
       "    </tr>\n",
       "    <tr>\n",
       "      <th>33</th>\n",
       "      <td>1.0</td>\n",
       "      <td>0.030006</td>\n",
       "      <td>0.750</td>\n",
       "      <td>1.0</td>\n",
       "      <td>0.0</td>\n",
       "      <td>0.0</td>\n",
       "      <td>0.0</td>\n",
       "      <td>1.0</td>\n",
       "      <td>0.0</td>\n",
       "      <td>1.0</td>\n",
       "      <td>...</td>\n",
       "      <td>1.0</td>\n",
       "      <td>0.0</td>\n",
       "      <td>1.0</td>\n",
       "      <td>0.0</td>\n",
       "      <td>1.0</td>\n",
       "      <td>0.0</td>\n",
       "      <td>1.0</td>\n",
       "      <td>0.0</td>\n",
       "      <td>1.0</td>\n",
       "      <td>0.0</td>\n",
       "    </tr>\n",
       "    <tr>\n",
       "      <th>61</th>\n",
       "      <td>0.0</td>\n",
       "      <td>0.000126</td>\n",
       "      <td>0.250</td>\n",
       "      <td>0.0</td>\n",
       "      <td>0.0</td>\n",
       "      <td>0.0</td>\n",
       "      <td>0.0</td>\n",
       "      <td>0.0</td>\n",
       "      <td>0.0</td>\n",
       "      <td>0.0</td>\n",
       "      <td>...</td>\n",
       "      <td>0.0</td>\n",
       "      <td>0.0</td>\n",
       "      <td>0.0</td>\n",
       "      <td>0.0</td>\n",
       "      <td>0.0</td>\n",
       "      <td>0.0</td>\n",
       "      <td>0.0</td>\n",
       "      <td>0.0</td>\n",
       "      <td>0.0</td>\n",
       "      <td>0.0</td>\n",
       "    </tr>\n",
       "    <tr>\n",
       "      <th>141</th>\n",
       "      <td>1.0</td>\n",
       "      <td>0.001632</td>\n",
       "      <td>0.125</td>\n",
       "      <td>0.0</td>\n",
       "      <td>0.0</td>\n",
       "      <td>1.0</td>\n",
       "      <td>1.0</td>\n",
       "      <td>0.0</td>\n",
       "      <td>0.0</td>\n",
       "      <td>1.0</td>\n",
       "      <td>...</td>\n",
       "      <td>1.0</td>\n",
       "      <td>0.0</td>\n",
       "      <td>1.0</td>\n",
       "      <td>0.0</td>\n",
       "      <td>1.0</td>\n",
       "      <td>0.0</td>\n",
       "      <td>1.0</td>\n",
       "      <td>0.0</td>\n",
       "      <td>1.0</td>\n",
       "      <td>0.0</td>\n",
       "    </tr>\n",
       "  </tbody>\n",
       "</table>\n",
       "<p>5 rows × 89 columns</p>\n",
       "</div>"
      ],
      "text/plain": [
       "     is_open  review_count  stars  Alcohol_beer_and_wine  Alcohol_full_bar  \\\n",
       "19       0.0      0.000000  0.125                    0.0               0.0   \n",
       "32       1.0      0.001255  0.375                    0.0               0.0   \n",
       "33       1.0      0.030006  0.750                    1.0               0.0   \n",
       "61       0.0      0.000126  0.250                    0.0               0.0   \n",
       "141      1.0      0.001632  0.125                    0.0               0.0   \n",
       "\n",
       "     Alcohol_none  BikeParking_False  BikeParking_True  \\\n",
       "19            0.0                0.0               1.0   \n",
       "32            1.0                0.0               1.0   \n",
       "33            0.0                0.0               1.0   \n",
       "61            0.0                0.0               0.0   \n",
       "141           1.0                1.0               0.0   \n",
       "\n",
       "     BusinessAcceptsCreditCards_False  BusinessAcceptsCreditCards_True  \\\n",
       "19                                0.0                              1.0   \n",
       "32                                0.0                              1.0   \n",
       "33                                0.0                              1.0   \n",
       "61                                0.0                              0.0   \n",
       "141                               0.0                              1.0   \n",
       "\n",
       "          ...        touristy_False  touristy_True  trendy_False  trendy_True  \\\n",
       "19        ...                   0.0            0.0           0.0          0.0   \n",
       "32        ...                   1.0            0.0           1.0          0.0   \n",
       "33        ...                   1.0            0.0           1.0          0.0   \n",
       "61        ...                   0.0            0.0           0.0          0.0   \n",
       "141       ...                   1.0            0.0           1.0          0.0   \n",
       "\n",
       "     upscale_False  upscale_True  valet_False  valet_True  validated_False  \\\n",
       "19             0.0           0.0          0.0         0.0              0.0   \n",
       "32             1.0           0.0          1.0         0.0              1.0   \n",
       "33             1.0           0.0          1.0         0.0              1.0   \n",
       "61             0.0           0.0          0.0         0.0              0.0   \n",
       "141            1.0           0.0          1.0         0.0              1.0   \n",
       "\n",
       "     validated_True  \n",
       "19              0.0  \n",
       "32              0.0  \n",
       "33              0.0  \n",
       "61              0.0  \n",
       "141             0.0  \n",
       "\n",
       "[5 rows x 89 columns]"
      ]
     },
     "execution_count": 41,
     "metadata": {},
     "output_type": "execute_result"
    }
   ],
   "source": [
    "business_final[[col for col in list(business_final) if col != 'business_id']].head()"
   ]
  },
  {
   "cell_type": "code",
   "execution_count": 46,
   "metadata": {},
   "outputs": [
    {
     "data": {
      "text/html": [
       "<div>\n",
       "<style scoped>\n",
       "    .dataframe tbody tr th:only-of-type {\n",
       "        vertical-align: middle;\n",
       "    }\n",
       "\n",
       "    .dataframe tbody tr th {\n",
       "        vertical-align: top;\n",
       "    }\n",
       "\n",
       "    .dataframe thead th {\n",
       "        text-align: right;\n",
       "    }\n",
       "</style>\n",
       "<table border=\"1\" class=\"dataframe\">\n",
       "  <thead>\n",
       "    <tr style=\"text-align: right;\">\n",
       "      <th></th>\n",
       "      <th>business_id</th>\n",
       "      <th>is_open</th>\n",
       "      <th>review_count</th>\n",
       "      <th>stars</th>\n",
       "      <th>Alcohol_beer_and_wine</th>\n",
       "      <th>Alcohol_full_bar</th>\n",
       "      <th>Alcohol_none</th>\n",
       "      <th>BikeParking_False</th>\n",
       "      <th>BikeParking_True</th>\n",
       "      <th>BusinessAcceptsCreditCards_False</th>\n",
       "      <th>...</th>\n",
       "      <th>touristy_False</th>\n",
       "      <th>touristy_True</th>\n",
       "      <th>trendy_False</th>\n",
       "      <th>trendy_True</th>\n",
       "      <th>upscale_False</th>\n",
       "      <th>upscale_True</th>\n",
       "      <th>valet_False</th>\n",
       "      <th>valet_True</th>\n",
       "      <th>validated_False</th>\n",
       "      <th>validated_True</th>\n",
       "    </tr>\n",
       "  </thead>\n",
       "  <tbody>\n",
       "    <tr>\n",
       "      <th>0</th>\n",
       "      <td>vJIuDBdu01vCA8y1fwR1OQ</td>\n",
       "      <td>0.0</td>\n",
       "      <td>0.000000</td>\n",
       "      <td>0.125</td>\n",
       "      <td>0.0</td>\n",
       "      <td>0.0</td>\n",
       "      <td>0.0</td>\n",
       "      <td>0.0</td>\n",
       "      <td>1.0</td>\n",
       "      <td>0.0</td>\n",
       "      <td>...</td>\n",
       "      <td>0.0</td>\n",
       "      <td>0.0</td>\n",
       "      <td>0.0</td>\n",
       "      <td>0.0</td>\n",
       "      <td>0.0</td>\n",
       "      <td>0.0</td>\n",
       "      <td>0.0</td>\n",
       "      <td>0.0</td>\n",
       "      <td>0.0</td>\n",
       "      <td>0.0</td>\n",
       "    </tr>\n",
       "    <tr>\n",
       "      <th>1</th>\n",
       "      <td>kgffcoxT6BQp-gJ-UQ7Czw</td>\n",
       "      <td>1.0</td>\n",
       "      <td>0.001255</td>\n",
       "      <td>0.375</td>\n",
       "      <td>0.0</td>\n",
       "      <td>0.0</td>\n",
       "      <td>1.0</td>\n",
       "      <td>0.0</td>\n",
       "      <td>1.0</td>\n",
       "      <td>0.0</td>\n",
       "      <td>...</td>\n",
       "      <td>1.0</td>\n",
       "      <td>0.0</td>\n",
       "      <td>1.0</td>\n",
       "      <td>0.0</td>\n",
       "      <td>1.0</td>\n",
       "      <td>0.0</td>\n",
       "      <td>1.0</td>\n",
       "      <td>0.0</td>\n",
       "      <td>1.0</td>\n",
       "      <td>0.0</td>\n",
       "    </tr>\n",
       "    <tr>\n",
       "      <th>2</th>\n",
       "      <td>0jtRI7hVMpQHpUVtUy4ITw</td>\n",
       "      <td>1.0</td>\n",
       "      <td>0.030006</td>\n",
       "      <td>0.750</td>\n",
       "      <td>1.0</td>\n",
       "      <td>0.0</td>\n",
       "      <td>0.0</td>\n",
       "      <td>0.0</td>\n",
       "      <td>1.0</td>\n",
       "      <td>0.0</td>\n",
       "      <td>...</td>\n",
       "      <td>1.0</td>\n",
       "      <td>0.0</td>\n",
       "      <td>1.0</td>\n",
       "      <td>0.0</td>\n",
       "      <td>1.0</td>\n",
       "      <td>0.0</td>\n",
       "      <td>1.0</td>\n",
       "      <td>0.0</td>\n",
       "      <td>1.0</td>\n",
       "      <td>0.0</td>\n",
       "    </tr>\n",
       "    <tr>\n",
       "      <th>3</th>\n",
       "      <td>JJEx5wIqs9iGGATOagE8Sg</td>\n",
       "      <td>0.0</td>\n",
       "      <td>0.000126</td>\n",
       "      <td>0.250</td>\n",
       "      <td>0.0</td>\n",
       "      <td>0.0</td>\n",
       "      <td>0.0</td>\n",
       "      <td>0.0</td>\n",
       "      <td>0.0</td>\n",
       "      <td>0.0</td>\n",
       "      <td>...</td>\n",
       "      <td>0.0</td>\n",
       "      <td>0.0</td>\n",
       "      <td>0.0</td>\n",
       "      <td>0.0</td>\n",
       "      <td>0.0</td>\n",
       "      <td>0.0</td>\n",
       "      <td>0.0</td>\n",
       "      <td>0.0</td>\n",
       "      <td>0.0</td>\n",
       "      <td>0.0</td>\n",
       "    </tr>\n",
       "    <tr>\n",
       "      <th>4</th>\n",
       "      <td>zhxnD7J5_sCrKSw5cwI9dQ</td>\n",
       "      <td>1.0</td>\n",
       "      <td>0.001632</td>\n",
       "      <td>0.125</td>\n",
       "      <td>0.0</td>\n",
       "      <td>0.0</td>\n",
       "      <td>1.0</td>\n",
       "      <td>1.0</td>\n",
       "      <td>0.0</td>\n",
       "      <td>0.0</td>\n",
       "      <td>...</td>\n",
       "      <td>1.0</td>\n",
       "      <td>0.0</td>\n",
       "      <td>1.0</td>\n",
       "      <td>0.0</td>\n",
       "      <td>1.0</td>\n",
       "      <td>0.0</td>\n",
       "      <td>1.0</td>\n",
       "      <td>0.0</td>\n",
       "      <td>1.0</td>\n",
       "      <td>0.0</td>\n",
       "    </tr>\n",
       "  </tbody>\n",
       "</table>\n",
       "<p>5 rows × 90 columns</p>\n",
       "</div>"
      ],
      "text/plain": [
       "              business_id  is_open  review_count  stars  \\\n",
       "0  vJIuDBdu01vCA8y1fwR1OQ      0.0      0.000000  0.125   \n",
       "1  kgffcoxT6BQp-gJ-UQ7Czw      1.0      0.001255  0.375   \n",
       "2  0jtRI7hVMpQHpUVtUy4ITw      1.0      0.030006  0.750   \n",
       "3  JJEx5wIqs9iGGATOagE8Sg      0.0      0.000126  0.250   \n",
       "4  zhxnD7J5_sCrKSw5cwI9dQ      1.0      0.001632  0.125   \n",
       "\n",
       "   Alcohol_beer_and_wine  Alcohol_full_bar  Alcohol_none  BikeParking_False  \\\n",
       "0                    0.0               0.0           0.0                0.0   \n",
       "1                    0.0               0.0           1.0                0.0   \n",
       "2                    1.0               0.0           0.0                0.0   \n",
       "3                    0.0               0.0           0.0                0.0   \n",
       "4                    0.0               0.0           1.0                1.0   \n",
       "\n",
       "   BikeParking_True  BusinessAcceptsCreditCards_False       ...        \\\n",
       "0               1.0                               0.0       ...         \n",
       "1               1.0                               0.0       ...         \n",
       "2               1.0                               0.0       ...         \n",
       "3               0.0                               0.0       ...         \n",
       "4               0.0                               0.0       ...         \n",
       "\n",
       "   touristy_False  touristy_True  trendy_False  trendy_True  upscale_False  \\\n",
       "0             0.0            0.0           0.0          0.0            0.0   \n",
       "1             1.0            0.0           1.0          0.0            1.0   \n",
       "2             1.0            0.0           1.0          0.0            1.0   \n",
       "3             0.0            0.0           0.0          0.0            0.0   \n",
       "4             1.0            0.0           1.0          0.0            1.0   \n",
       "\n",
       "   upscale_True  valet_False  valet_True  validated_False  validated_True  \n",
       "0           0.0          0.0         0.0              0.0             0.0  \n",
       "1           0.0          1.0         0.0              1.0             0.0  \n",
       "2           0.0          1.0         0.0              1.0             0.0  \n",
       "3           0.0          0.0         0.0              0.0             0.0  \n",
       "4           0.0          1.0         0.0              1.0             0.0  \n",
       "\n",
       "[5 rows x 90 columns]"
      ]
     },
     "execution_count": 46,
     "metadata": {},
     "output_type": "execute_result"
    }
   ],
   "source": [
    "business_final.head()"
   ]
  },
  {
   "cell_type": "code",
   "execution_count": 43,
   "metadata": {},
   "outputs": [
    {
     "data": {
      "text/plain": [
       "{dtype('float64'), dtype('O')}"
      ]
     },
     "execution_count": 43,
     "metadata": {},
     "output_type": "execute_result"
    }
   ],
   "source": [
    "set(business_final.dtypes)"
   ]
  },
  {
   "cell_type": "code",
   "execution_count": 44,
   "metadata": {},
   "outputs": [
    {
     "data": {
      "text/html": [
       "<div>\n",
       "<style scoped>\n",
       "    .dataframe tbody tr th:only-of-type {\n",
       "        vertical-align: middle;\n",
       "    }\n",
       "\n",
       "    .dataframe tbody tr th {\n",
       "        vertical-align: top;\n",
       "    }\n",
       "\n",
       "    .dataframe thead th {\n",
       "        text-align: right;\n",
       "    }\n",
       "</style>\n",
       "<table border=\"1\" class=\"dataframe\">\n",
       "  <thead>\n",
       "    <tr style=\"text-align: right;\">\n",
       "      <th></th>\n",
       "      <th>business_id</th>\n",
       "    </tr>\n",
       "  </thead>\n",
       "  <tbody>\n",
       "    <tr>\n",
       "      <th>19</th>\n",
       "      <td>vJIuDBdu01vCA8y1fwR1OQ</td>\n",
       "    </tr>\n",
       "    <tr>\n",
       "      <th>32</th>\n",
       "      <td>kgffcoxT6BQp-gJ-UQ7Czw</td>\n",
       "    </tr>\n",
       "    <tr>\n",
       "      <th>33</th>\n",
       "      <td>0jtRI7hVMpQHpUVtUy4ITw</td>\n",
       "    </tr>\n",
       "    <tr>\n",
       "      <th>61</th>\n",
       "      <td>JJEx5wIqs9iGGATOagE8Sg</td>\n",
       "    </tr>\n",
       "    <tr>\n",
       "      <th>141</th>\n",
       "      <td>zhxnD7J5_sCrKSw5cwI9dQ</td>\n",
       "    </tr>\n",
       "    <tr>\n",
       "      <th>143</th>\n",
       "      <td>2kWrSFkIes_d2BMg4YrRtA</td>\n",
       "    </tr>\n",
       "    <tr>\n",
       "      <th>145</th>\n",
       "      <td>6llKs7K_tn8ChXcIM-oTvg</td>\n",
       "    </tr>\n",
       "    <tr>\n",
       "      <th>197</th>\n",
       "      <td>YV9GVfmDSDM7HSV0jVdTOA</td>\n",
       "    </tr>\n",
       "    <tr>\n",
       "      <th>203</th>\n",
       "      <td>F7OsiFk9aLZtqZczA84xpw</td>\n",
       "    </tr>\n",
       "    <tr>\n",
       "      <th>249</th>\n",
       "      <td>XeDLyY2a7nZ3IEY4RYslXA</td>\n",
       "    </tr>\n",
       "    <tr>\n",
       "      <th>257</th>\n",
       "      <td>MDVbJicJvqaO4WGx0vEabQ</td>\n",
       "    </tr>\n",
       "    <tr>\n",
       "      <th>279</th>\n",
       "      <td>sOkQ2Y1-D8h18oN5NgxuLg</td>\n",
       "    </tr>\n",
       "    <tr>\n",
       "      <th>325</th>\n",
       "      <td>lv5Bnqlt93NnvNJ2oNcQ8Q</td>\n",
       "    </tr>\n",
       "    <tr>\n",
       "      <th>391</th>\n",
       "      <td>D1TaFES4phv65RmsM8VCiA</td>\n",
       "    </tr>\n",
       "    <tr>\n",
       "      <th>497</th>\n",
       "      <td>glkEaoxbewiSMBiXs945JA</td>\n",
       "    </tr>\n",
       "    <tr>\n",
       "      <th>539</th>\n",
       "      <td>lYCeqldIiOggsbByH3RRhw</td>\n",
       "    </tr>\n",
       "    <tr>\n",
       "      <th>605</th>\n",
       "      <td>juuv0QPE_MfnVjevQTpCDg</td>\n",
       "    </tr>\n",
       "    <tr>\n",
       "      <th>630</th>\n",
       "      <td>DbK9fyJq4O4zfT1jv6JOhw</td>\n",
       "    </tr>\n",
       "    <tr>\n",
       "      <th>758</th>\n",
       "      <td>PChG1Dm0A6AXIXkXGVK8Fw</td>\n",
       "    </tr>\n",
       "    <tr>\n",
       "      <th>764</th>\n",
       "      <td>owxcYAUca_6K6BAUX4V48w</td>\n",
       "    </tr>\n",
       "    <tr>\n",
       "      <th>912</th>\n",
       "      <td>WSGHEQdcdbBWXDpna99EiQ</td>\n",
       "    </tr>\n",
       "    <tr>\n",
       "      <th>949</th>\n",
       "      <td>0aDCv4zPhzy7RklHDrnKQg</td>\n",
       "    </tr>\n",
       "    <tr>\n",
       "      <th>959</th>\n",
       "      <td>rWkQMRI6PRo5woBaxGD68g</td>\n",
       "    </tr>\n",
       "    <tr>\n",
       "      <th>1061</th>\n",
       "      <td>Kx0MUrNQ737s-VVElk6Vig</td>\n",
       "    </tr>\n",
       "    <tr>\n",
       "      <th>1078</th>\n",
       "      <td>FW_zg6VuyW5v_vM394gWAw</td>\n",
       "    </tr>\n",
       "    <tr>\n",
       "      <th>1084</th>\n",
       "      <td>r8Jr-7YfkhJL2nxk9lxUNg</td>\n",
       "    </tr>\n",
       "    <tr>\n",
       "      <th>1093</th>\n",
       "      <td>yUqJReOv26454QkjGz37Yw</td>\n",
       "    </tr>\n",
       "    <tr>\n",
       "      <th>1230</th>\n",
       "      <td>NGp1HTYrPg3pMP-tXeLf-g</td>\n",
       "    </tr>\n",
       "    <tr>\n",
       "      <th>1272</th>\n",
       "      <td>kDZm3fZcLhotRwC50XE_qg</td>\n",
       "    </tr>\n",
       "    <tr>\n",
       "      <th>1304</th>\n",
       "      <td>stbX9rtRIpDF-VymOwHJ8w</td>\n",
       "    </tr>\n",
       "    <tr>\n",
       "      <th>...</th>\n",
       "      <td>...</td>\n",
       "    </tr>\n",
       "    <tr>\n",
       "      <th>187690</th>\n",
       "      <td>PglC8rgguMIlT621p1BLdQ</td>\n",
       "    </tr>\n",
       "    <tr>\n",
       "      <th>187697</th>\n",
       "      <td>l3EkLGreTXChG0TQHyo2ow</td>\n",
       "    </tr>\n",
       "    <tr>\n",
       "      <th>187699</th>\n",
       "      <td>CXxJkD62XtDrt3pRYNDspg</td>\n",
       "    </tr>\n",
       "    <tr>\n",
       "      <th>187737</th>\n",
       "      <td>QSwpHbPjDhWYKP8qlmlkXg</td>\n",
       "    </tr>\n",
       "    <tr>\n",
       "      <th>187778</th>\n",
       "      <td>PelnfQ7PxGeW2J43OwnQ_w</td>\n",
       "    </tr>\n",
       "    <tr>\n",
       "      <th>187817</th>\n",
       "      <td>hgQOESYp7CF4LnNI90XEiw</td>\n",
       "    </tr>\n",
       "    <tr>\n",
       "      <th>187873</th>\n",
       "      <td>-kFyzXRzOlyoL4NyzoVkMA</td>\n",
       "    </tr>\n",
       "    <tr>\n",
       "      <th>187874</th>\n",
       "      <td>QF2P3oJqCJC9z0TPDDFVxw</td>\n",
       "    </tr>\n",
       "    <tr>\n",
       "      <th>188066</th>\n",
       "      <td>6xgcHeLad-VaoTIQewK84A</td>\n",
       "    </tr>\n",
       "    <tr>\n",
       "      <th>188067</th>\n",
       "      <td>_Jt9CLSL2sqF-yCNel9D-g</td>\n",
       "    </tr>\n",
       "    <tr>\n",
       "      <th>188145</th>\n",
       "      <td>ahG8XQK5Aj4kMtOrC8zfTA</td>\n",
       "    </tr>\n",
       "    <tr>\n",
       "      <th>188155</th>\n",
       "      <td>dTsyfvRfN-zFdsgIDuQllQ</td>\n",
       "    </tr>\n",
       "    <tr>\n",
       "      <th>188156</th>\n",
       "      <td>OaHfq01gm8PTYkJ36k1feg</td>\n",
       "    </tr>\n",
       "    <tr>\n",
       "      <th>188159</th>\n",
       "      <td>ZyTrka-HiVb6Ckcl0rDaNA</td>\n",
       "    </tr>\n",
       "    <tr>\n",
       "      <th>188254</th>\n",
       "      <td>vodCM302JJ_P9yJt1WuH_w</td>\n",
       "    </tr>\n",
       "    <tr>\n",
       "      <th>188255</th>\n",
       "      <td>YAiHkQAQ9sm23V1CyNT2zQ</td>\n",
       "    </tr>\n",
       "    <tr>\n",
       "      <th>188309</th>\n",
       "      <td>cYwJA2A6I12KNkm2rtXd5g</td>\n",
       "    </tr>\n",
       "    <tr>\n",
       "      <th>188310</th>\n",
       "      <td>RSPEJeFTKs1BsiVgjHp1WQ</td>\n",
       "    </tr>\n",
       "    <tr>\n",
       "      <th>188319</th>\n",
       "      <td>swtA5YoSGm0V5esQuDm2NQ</td>\n",
       "    </tr>\n",
       "    <tr>\n",
       "      <th>188344</th>\n",
       "      <td>YC1FXuG7IQneHnhbHT0XcQ</td>\n",
       "    </tr>\n",
       "    <tr>\n",
       "      <th>188380</th>\n",
       "      <td>WEPqQjRGviPyCKEmPhALSw</td>\n",
       "    </tr>\n",
       "    <tr>\n",
       "      <th>188417</th>\n",
       "      <td>ZVetFAAt0_j0tEqiakpecA</td>\n",
       "    </tr>\n",
       "    <tr>\n",
       "      <th>188418</th>\n",
       "      <td>WUswpeAjbiww_xkSS8jTEA</td>\n",
       "    </tr>\n",
       "    <tr>\n",
       "      <th>188445</th>\n",
       "      <td>5iAFiMPfitcYDMeII5_dnQ</td>\n",
       "    </tr>\n",
       "    <tr>\n",
       "      <th>188447</th>\n",
       "      <td>qtc1YZix_5lHBJTZq7DOpA</td>\n",
       "    </tr>\n",
       "    <tr>\n",
       "      <th>188448</th>\n",
       "      <td>PDIh1lVtKlUqPJROXYJQvQ</td>\n",
       "    </tr>\n",
       "    <tr>\n",
       "      <th>188488</th>\n",
       "      <td>g62SlImzhs6_1t-knPjd8w</td>\n",
       "    </tr>\n",
       "    <tr>\n",
       "      <th>188497</th>\n",
       "      <td>UNsvHecpu_sPBeQGFxSCUA</td>\n",
       "    </tr>\n",
       "    <tr>\n",
       "      <th>188520</th>\n",
       "      <td>8w2Mzdz-JKy3qOpndK1Wqw</td>\n",
       "    </tr>\n",
       "    <tr>\n",
       "      <th>188567</th>\n",
       "      <td>0zGeYN8ReYwVj27U7EHOJA</td>\n",
       "    </tr>\n",
       "  </tbody>\n",
       "</table>\n",
       "<p>6153 rows × 1 columns</p>\n",
       "</div>"
      ],
      "text/plain": [
       "                   business_id\n",
       "19      vJIuDBdu01vCA8y1fwR1OQ\n",
       "32      kgffcoxT6BQp-gJ-UQ7Czw\n",
       "33      0jtRI7hVMpQHpUVtUy4ITw\n",
       "61      JJEx5wIqs9iGGATOagE8Sg\n",
       "141     zhxnD7J5_sCrKSw5cwI9dQ\n",
       "143     2kWrSFkIes_d2BMg4YrRtA\n",
       "145     6llKs7K_tn8ChXcIM-oTvg\n",
       "197     YV9GVfmDSDM7HSV0jVdTOA\n",
       "203     F7OsiFk9aLZtqZczA84xpw\n",
       "249     XeDLyY2a7nZ3IEY4RYslXA\n",
       "257     MDVbJicJvqaO4WGx0vEabQ\n",
       "279     sOkQ2Y1-D8h18oN5NgxuLg\n",
       "325     lv5Bnqlt93NnvNJ2oNcQ8Q\n",
       "391     D1TaFES4phv65RmsM8VCiA\n",
       "497     glkEaoxbewiSMBiXs945JA\n",
       "539     lYCeqldIiOggsbByH3RRhw\n",
       "605     juuv0QPE_MfnVjevQTpCDg\n",
       "630     DbK9fyJq4O4zfT1jv6JOhw\n",
       "758     PChG1Dm0A6AXIXkXGVK8Fw\n",
       "764     owxcYAUca_6K6BAUX4V48w\n",
       "912     WSGHEQdcdbBWXDpna99EiQ\n",
       "949     0aDCv4zPhzy7RklHDrnKQg\n",
       "959     rWkQMRI6PRo5woBaxGD68g\n",
       "1061    Kx0MUrNQ737s-VVElk6Vig\n",
       "1078    FW_zg6VuyW5v_vM394gWAw\n",
       "1084    r8Jr-7YfkhJL2nxk9lxUNg\n",
       "1093    yUqJReOv26454QkjGz37Yw\n",
       "1230    NGp1HTYrPg3pMP-tXeLf-g\n",
       "1272    kDZm3fZcLhotRwC50XE_qg\n",
       "1304    stbX9rtRIpDF-VymOwHJ8w\n",
       "...                        ...\n",
       "187690  PglC8rgguMIlT621p1BLdQ\n",
       "187697  l3EkLGreTXChG0TQHyo2ow\n",
       "187699  CXxJkD62XtDrt3pRYNDspg\n",
       "187737  QSwpHbPjDhWYKP8qlmlkXg\n",
       "187778  PelnfQ7PxGeW2J43OwnQ_w\n",
       "187817  hgQOESYp7CF4LnNI90XEiw\n",
       "187873  -kFyzXRzOlyoL4NyzoVkMA\n",
       "187874  QF2P3oJqCJC9z0TPDDFVxw\n",
       "188066  6xgcHeLad-VaoTIQewK84A\n",
       "188067  _Jt9CLSL2sqF-yCNel9D-g\n",
       "188145  ahG8XQK5Aj4kMtOrC8zfTA\n",
       "188155  dTsyfvRfN-zFdsgIDuQllQ\n",
       "188156  OaHfq01gm8PTYkJ36k1feg\n",
       "188159  ZyTrka-HiVb6Ckcl0rDaNA\n",
       "188254  vodCM302JJ_P9yJt1WuH_w\n",
       "188255  YAiHkQAQ9sm23V1CyNT2zQ\n",
       "188309  cYwJA2A6I12KNkm2rtXd5g\n",
       "188310  RSPEJeFTKs1BsiVgjHp1WQ\n",
       "188319  swtA5YoSGm0V5esQuDm2NQ\n",
       "188344  YC1FXuG7IQneHnhbHT0XcQ\n",
       "188380  WEPqQjRGviPyCKEmPhALSw\n",
       "188417  ZVetFAAt0_j0tEqiakpecA\n",
       "188418  WUswpeAjbiww_xkSS8jTEA\n",
       "188445  5iAFiMPfitcYDMeII5_dnQ\n",
       "188447  qtc1YZix_5lHBJTZq7DOpA\n",
       "188448  PDIh1lVtKlUqPJROXYJQvQ\n",
       "188488  g62SlImzhs6_1t-knPjd8w\n",
       "188497  UNsvHecpu_sPBeQGFxSCUA\n",
       "188520  8w2Mzdz-JKy3qOpndK1Wqw\n",
       "188567  0zGeYN8ReYwVj27U7EHOJA\n",
       "\n",
       "[6153 rows x 1 columns]"
      ]
     },
     "execution_count": 44,
     "metadata": {},
     "output_type": "execute_result"
    }
   ],
   "source": [
    "business_final.select_dtypes('O')"
   ]
  },
  {
   "cell_type": "code",
   "execution_count": 45,
   "metadata": {},
   "outputs": [],
   "source": [
    "business_final.reset_index(drop=True,inplace=True)"
   ]
  },
  {
   "cell_type": "code",
   "execution_count": 49,
   "metadata": {},
   "outputs": [
    {
     "data": {
      "text/plain": [
       "{0}"
      ]
     },
     "execution_count": 49,
     "metadata": {},
     "output_type": "execute_result"
    }
   ],
   "source": [
    "set(list(business_final.isnull().sum()))"
   ]
  },
  {
   "cell_type": "code",
   "execution_count": 54,
   "metadata": {},
   "outputs": [
    {
     "data": {
      "text/plain": [
       "dtype: str\n",
       "Rows: 10\n",
       "['MtE3xl8AUYPbGWQQhY5IVQ', 'eyj4r8be__c7fVtfxeHr8Q', 'hsxx48aGP1UEusdIju55MQ', 'Jmlqb5UYfygtUXugrpywjg', 'NOMT-fdqT31oUGZUGf6_sQ', 'Iw_k5xk0_jCQPOetf60xgA', 'WKnDQ3K1BpBuP6sR2QpLdQ', 'sYVc7LtZjJ5RUSATwMpBzA', '3____Pc_RF_7TnGuQdGJpw', 'l35uoedk9e740vl9fwYRqg']"
      ]
     },
     "execution_count": 54,
     "metadata": {},
     "output_type": "execute_result"
    }
   ],
   "source": [
    "test_data['user_id'].head()"
   ]
  },
  {
   "cell_type": "code",
   "execution_count": 55,
   "metadata": {},
   "outputs": [
    {
     "data": {
      "text/html": [
       "<pre>recommendations finished on 1000/210629 queries. users per second: 223.122</pre>"
      ],
      "text/plain": [
       "recommendations finished on 1000/210629 queries. users per second: 223.122"
      ]
     },
     "metadata": {},
     "output_type": "display_data"
    },
    {
     "data": {
      "text/html": [
       "<pre>recommendations finished on 2000/210629 queries. users per second: 226.712</pre>"
      ],
      "text/plain": [
       "recommendations finished on 2000/210629 queries. users per second: 226.712"
      ]
     },
     "metadata": {},
     "output_type": "display_data"
    },
    {
     "data": {
      "text/html": [
       "<pre>recommendations finished on 3000/210629 queries. users per second: 228.44</pre>"
      ],
      "text/plain": [
       "recommendations finished on 3000/210629 queries. users per second: 228.44"
      ]
     },
     "metadata": {},
     "output_type": "display_data"
    },
    {
     "data": {
      "text/html": [
       "<pre>recommendations finished on 4000/210629 queries. users per second: 229.294</pre>"
      ],
      "text/plain": [
       "recommendations finished on 4000/210629 queries. users per second: 229.294"
      ]
     },
     "metadata": {},
     "output_type": "display_data"
    },
    {
     "data": {
      "text/html": [
       "<pre>recommendations finished on 5000/210629 queries. users per second: 229.447</pre>"
      ],
      "text/plain": [
       "recommendations finished on 5000/210629 queries. users per second: 229.447"
      ]
     },
     "metadata": {},
     "output_type": "display_data"
    },
    {
     "data": {
      "text/html": [
       "<pre>recommendations finished on 6000/210629 queries. users per second: 229.392</pre>"
      ],
      "text/plain": [
       "recommendations finished on 6000/210629 queries. users per second: 229.392"
      ]
     },
     "metadata": {},
     "output_type": "display_data"
    },
    {
     "data": {
      "text/html": [
       "<pre>recommendations finished on 7000/210629 queries. users per second: 229.306</pre>"
      ],
      "text/plain": [
       "recommendations finished on 7000/210629 queries. users per second: 229.306"
      ]
     },
     "metadata": {},
     "output_type": "display_data"
    },
    {
     "data": {
      "text/html": [
       "<pre>recommendations finished on 8000/210629 queries. users per second: 229.258</pre>"
      ],
      "text/plain": [
       "recommendations finished on 8000/210629 queries. users per second: 229.258"
      ]
     },
     "metadata": {},
     "output_type": "display_data"
    },
    {
     "data": {
      "text/html": [
       "<pre>recommendations finished on 9000/210629 queries. users per second: 229.21</pre>"
      ],
      "text/plain": [
       "recommendations finished on 9000/210629 queries. users per second: 229.21"
      ]
     },
     "metadata": {},
     "output_type": "display_data"
    },
    {
     "data": {
      "text/html": [
       "<pre>recommendations finished on 10000/210629 queries. users per second: 229.357</pre>"
      ],
      "text/plain": [
       "recommendations finished on 10000/210629 queries. users per second: 229.357"
      ]
     },
     "metadata": {},
     "output_type": "display_data"
    },
    {
     "data": {
      "text/html": [
       "<pre>recommendations finished on 11000/210629 queries. users per second: 229.244</pre>"
      ],
      "text/plain": [
       "recommendations finished on 11000/210629 queries. users per second: 229.244"
      ]
     },
     "metadata": {},
     "output_type": "display_data"
    },
    {
     "data": {
      "text/html": [
       "<pre>recommendations finished on 12000/210629 queries. users per second: 229.159</pre>"
      ],
      "text/plain": [
       "recommendations finished on 12000/210629 queries. users per second: 229.159"
      ]
     },
     "metadata": {},
     "output_type": "display_data"
    },
    {
     "data": {
      "text/html": [
       "<pre>recommendations finished on 13000/210629 queries. users per second: 229.163</pre>"
      ],
      "text/plain": [
       "recommendations finished on 13000/210629 queries. users per second: 229.163"
      ]
     },
     "metadata": {},
     "output_type": "display_data"
    },
    {
     "data": {
      "text/html": [
       "<pre>recommendations finished on 14000/210629 queries. users per second: 229.104</pre>"
      ],
      "text/plain": [
       "recommendations finished on 14000/210629 queries. users per second: 229.104"
      ]
     },
     "metadata": {},
     "output_type": "display_data"
    },
    {
     "data": {
      "text/html": [
       "<pre>recommendations finished on 15000/210629 queries. users per second: 229.132</pre>"
      ],
      "text/plain": [
       "recommendations finished on 15000/210629 queries. users per second: 229.132"
      ]
     },
     "metadata": {},
     "output_type": "display_data"
    },
    {
     "data": {
      "text/html": [
       "<pre>recommendations finished on 16000/210629 queries. users per second: 229.062</pre>"
      ],
      "text/plain": [
       "recommendations finished on 16000/210629 queries. users per second: 229.062"
      ]
     },
     "metadata": {},
     "output_type": "display_data"
    },
    {
     "data": {
      "text/html": [
       "<pre>recommendations finished on 17000/210629 queries. users per second: 228.716</pre>"
      ],
      "text/plain": [
       "recommendations finished on 17000/210629 queries. users per second: 228.716"
      ]
     },
     "metadata": {},
     "output_type": "display_data"
    },
    {
     "data": {
      "text/html": [
       "<pre>recommendations finished on 18000/210629 queries. users per second: 228.736</pre>"
      ],
      "text/plain": [
       "recommendations finished on 18000/210629 queries. users per second: 228.736"
      ]
     },
     "metadata": {},
     "output_type": "display_data"
    },
    {
     "data": {
      "text/html": [
       "<pre>recommendations finished on 19000/210629 queries. users per second: 228.753</pre>"
      ],
      "text/plain": [
       "recommendations finished on 19000/210629 queries. users per second: 228.753"
      ]
     },
     "metadata": {},
     "output_type": "display_data"
    },
    {
     "data": {
      "text/html": [
       "<pre>recommendations finished on 20000/210629 queries. users per second: 228.762</pre>"
      ],
      "text/plain": [
       "recommendations finished on 20000/210629 queries. users per second: 228.762"
      ]
     },
     "metadata": {},
     "output_type": "display_data"
    },
    {
     "data": {
      "text/html": [
       "<pre>recommendations finished on 21000/210629 queries. users per second: 228.837</pre>"
      ],
      "text/plain": [
       "recommendations finished on 21000/210629 queries. users per second: 228.837"
      ]
     },
     "metadata": {},
     "output_type": "display_data"
    },
    {
     "data": {
      "text/html": [
       "<pre>recommendations finished on 22000/210629 queries. users per second: 228.814</pre>"
      ],
      "text/plain": [
       "recommendations finished on 22000/210629 queries. users per second: 228.814"
      ]
     },
     "metadata": {},
     "output_type": "display_data"
    },
    {
     "data": {
      "text/html": [
       "<pre>recommendations finished on 23000/210629 queries. users per second: 228.841</pre>"
      ],
      "text/plain": [
       "recommendations finished on 23000/210629 queries. users per second: 228.841"
      ]
     },
     "metadata": {},
     "output_type": "display_data"
    },
    {
     "data": {
      "text/html": [
       "<pre>recommendations finished on 24000/210629 queries. users per second: 228.836</pre>"
      ],
      "text/plain": [
       "recommendations finished on 24000/210629 queries. users per second: 228.836"
      ]
     },
     "metadata": {},
     "output_type": "display_data"
    },
    {
     "data": {
      "text/html": [
       "<pre>recommendations finished on 25000/210629 queries. users per second: 228.84</pre>"
      ],
      "text/plain": [
       "recommendations finished on 25000/210629 queries. users per second: 228.84"
      ]
     },
     "metadata": {},
     "output_type": "display_data"
    },
    {
     "data": {
      "text/html": [
       "<pre>recommendations finished on 26000/210629 queries. users per second: 228.837</pre>"
      ],
      "text/plain": [
       "recommendations finished on 26000/210629 queries. users per second: 228.837"
      ]
     },
     "metadata": {},
     "output_type": "display_data"
    },
    {
     "data": {
      "text/html": [
       "<pre>recommendations finished on 27000/210629 queries. users per second: 228.69</pre>"
      ],
      "text/plain": [
       "recommendations finished on 27000/210629 queries. users per second: 228.69"
      ]
     },
     "metadata": {},
     "output_type": "display_data"
    },
    {
     "data": {
      "text/html": [
       "<pre>recommendations finished on 28000/210629 queries. users per second: 228.342</pre>"
      ],
      "text/plain": [
       "recommendations finished on 28000/210629 queries. users per second: 228.342"
      ]
     },
     "metadata": {},
     "output_type": "display_data"
    },
    {
     "data": {
      "text/html": [
       "<pre>recommendations finished on 29000/210629 queries. users per second: 228.406</pre>"
      ],
      "text/plain": [
       "recommendations finished on 29000/210629 queries. users per second: 228.406"
      ]
     },
     "metadata": {},
     "output_type": "display_data"
    },
    {
     "data": {
      "text/html": [
       "<pre>recommendations finished on 30000/210629 queries. users per second: 228.427</pre>"
      ],
      "text/plain": [
       "recommendations finished on 30000/210629 queries. users per second: 228.427"
      ]
     },
     "metadata": {},
     "output_type": "display_data"
    },
    {
     "data": {
      "text/html": [
       "<pre>recommendations finished on 31000/210629 queries. users per second: 228.451</pre>"
      ],
      "text/plain": [
       "recommendations finished on 31000/210629 queries. users per second: 228.451"
      ]
     },
     "metadata": {},
     "output_type": "display_data"
    },
    {
     "data": {
      "text/html": [
       "<pre>recommendations finished on 32000/210629 queries. users per second: 228.485</pre>"
      ],
      "text/plain": [
       "recommendations finished on 32000/210629 queries. users per second: 228.485"
      ]
     },
     "metadata": {},
     "output_type": "display_data"
    },
    {
     "data": {
      "text/html": [
       "<pre>recommendations finished on 33000/210629 queries. users per second: 228.507</pre>"
      ],
      "text/plain": [
       "recommendations finished on 33000/210629 queries. users per second: 228.507"
      ]
     },
     "metadata": {},
     "output_type": "display_data"
    },
    {
     "data": {
      "text/html": [
       "<pre>recommendations finished on 34000/210629 queries. users per second: 228.487</pre>"
      ],
      "text/plain": [
       "recommendations finished on 34000/210629 queries. users per second: 228.487"
      ]
     },
     "metadata": {},
     "output_type": "display_data"
    },
    {
     "data": {
      "text/html": [
       "<pre>recommendations finished on 35000/210629 queries. users per second: 228.497</pre>"
      ],
      "text/plain": [
       "recommendations finished on 35000/210629 queries. users per second: 228.497"
      ]
     },
     "metadata": {},
     "output_type": "display_data"
    },
    {
     "data": {
      "text/html": [
       "<pre>recommendations finished on 36000/210629 queries. users per second: 228.503</pre>"
      ],
      "text/plain": [
       "recommendations finished on 36000/210629 queries. users per second: 228.503"
      ]
     },
     "metadata": {},
     "output_type": "display_data"
    },
    {
     "data": {
      "text/html": [
       "<pre>recommendations finished on 37000/210629 queries. users per second: 228.476</pre>"
      ],
      "text/plain": [
       "recommendations finished on 37000/210629 queries. users per second: 228.476"
      ]
     },
     "metadata": {},
     "output_type": "display_data"
    },
    {
     "data": {
      "text/html": [
       "<pre>recommendations finished on 38000/210629 queries. users per second: 228.49</pre>"
      ],
      "text/plain": [
       "recommendations finished on 38000/210629 queries. users per second: 228.49"
      ]
     },
     "metadata": {},
     "output_type": "display_data"
    },
    {
     "data": {
      "text/html": [
       "<pre>recommendations finished on 39000/210629 queries. users per second: 228.472</pre>"
      ],
      "text/plain": [
       "recommendations finished on 39000/210629 queries. users per second: 228.472"
      ]
     },
     "metadata": {},
     "output_type": "display_data"
    },
    {
     "data": {
      "text/html": [
       "<pre>recommendations finished on 40000/210629 queries. users per second: 228.478</pre>"
      ],
      "text/plain": [
       "recommendations finished on 40000/210629 queries. users per second: 228.478"
      ]
     },
     "metadata": {},
     "output_type": "display_data"
    },
    {
     "data": {
      "text/html": [
       "<pre>recommendations finished on 41000/210629 queries. users per second: 228.52</pre>"
      ],
      "text/plain": [
       "recommendations finished on 41000/210629 queries. users per second: 228.52"
      ]
     },
     "metadata": {},
     "output_type": "display_data"
    },
    {
     "data": {
      "text/html": [
       "<pre>recommendations finished on 42000/210629 queries. users per second: 228.533</pre>"
      ],
      "text/plain": [
       "recommendations finished on 42000/210629 queries. users per second: 228.533"
      ]
     },
     "metadata": {},
     "output_type": "display_data"
    },
    {
     "data": {
      "text/html": [
       "<pre>recommendations finished on 43000/210629 queries. users per second: 228.543</pre>"
      ],
      "text/plain": [
       "recommendations finished on 43000/210629 queries. users per second: 228.543"
      ]
     },
     "metadata": {},
     "output_type": "display_data"
    },
    {
     "data": {
      "text/html": [
       "<pre>recommendations finished on 44000/210629 queries. users per second: 228.421</pre>"
      ],
      "text/plain": [
       "recommendations finished on 44000/210629 queries. users per second: 228.421"
      ]
     },
     "metadata": {},
     "output_type": "display_data"
    },
    {
     "data": {
      "text/html": [
       "<pre>recommendations finished on 45000/210629 queries. users per second: 228.397</pre>"
      ],
      "text/plain": [
       "recommendations finished on 45000/210629 queries. users per second: 228.397"
      ]
     },
     "metadata": {},
     "output_type": "display_data"
    },
    {
     "data": {
      "text/html": [
       "<pre>recommendations finished on 46000/210629 queries. users per second: 228.418</pre>"
      ],
      "text/plain": [
       "recommendations finished on 46000/210629 queries. users per second: 228.418"
      ]
     },
     "metadata": {},
     "output_type": "display_data"
    },
    {
     "data": {
      "text/html": [
       "<pre>recommendations finished on 47000/210629 queries. users per second: 228.402</pre>"
      ],
      "text/plain": [
       "recommendations finished on 47000/210629 queries. users per second: 228.402"
      ]
     },
     "metadata": {},
     "output_type": "display_data"
    },
    {
     "data": {
      "text/html": [
       "<pre>recommendations finished on 48000/210629 queries. users per second: 228.342</pre>"
      ],
      "text/plain": [
       "recommendations finished on 48000/210629 queries. users per second: 228.342"
      ]
     },
     "metadata": {},
     "output_type": "display_data"
    },
    {
     "data": {
      "text/html": [
       "<pre>recommendations finished on 49000/210629 queries. users per second: 228.38</pre>"
      ],
      "text/plain": [
       "recommendations finished on 49000/210629 queries. users per second: 228.38"
      ]
     },
     "metadata": {},
     "output_type": "display_data"
    },
    {
     "data": {
      "text/html": [
       "<pre>recommendations finished on 50000/210629 queries. users per second: 228.299</pre>"
      ],
      "text/plain": [
       "recommendations finished on 50000/210629 queries. users per second: 228.299"
      ]
     },
     "metadata": {},
     "output_type": "display_data"
    },
    {
     "data": {
      "text/html": [
       "<pre>recommendations finished on 51000/210629 queries. users per second: 227.969</pre>"
      ],
      "text/plain": [
       "recommendations finished on 51000/210629 queries. users per second: 227.969"
      ]
     },
     "metadata": {},
     "output_type": "display_data"
    },
    {
     "data": {
      "text/html": [
       "<pre>recommendations finished on 52000/210629 queries. users per second: 227.868</pre>"
      ],
      "text/plain": [
       "recommendations finished on 52000/210629 queries. users per second: 227.868"
      ]
     },
     "metadata": {},
     "output_type": "display_data"
    },
    {
     "data": {
      "text/html": [
       "<pre>recommendations finished on 53000/210629 queries. users per second: 227.883</pre>"
      ],
      "text/plain": [
       "recommendations finished on 53000/210629 queries. users per second: 227.883"
      ]
     },
     "metadata": {},
     "output_type": "display_data"
    },
    {
     "data": {
      "text/html": [
       "<pre>recommendations finished on 54000/210629 queries. users per second: 227.809</pre>"
      ],
      "text/plain": [
       "recommendations finished on 54000/210629 queries. users per second: 227.809"
      ]
     },
     "metadata": {},
     "output_type": "display_data"
    },
    {
     "data": {
      "text/html": [
       "<pre>recommendations finished on 55000/210629 queries. users per second: 227.81</pre>"
      ],
      "text/plain": [
       "recommendations finished on 55000/210629 queries. users per second: 227.81"
      ]
     },
     "metadata": {},
     "output_type": "display_data"
    },
    {
     "data": {
      "text/html": [
       "<pre>recommendations finished on 56000/210629 queries. users per second: 227.806</pre>"
      ],
      "text/plain": [
       "recommendations finished on 56000/210629 queries. users per second: 227.806"
      ]
     },
     "metadata": {},
     "output_type": "display_data"
    },
    {
     "data": {
      "text/html": [
       "<pre>recommendations finished on 57000/210629 queries. users per second: 227.784</pre>"
      ],
      "text/plain": [
       "recommendations finished on 57000/210629 queries. users per second: 227.784"
      ]
     },
     "metadata": {},
     "output_type": "display_data"
    },
    {
     "data": {
      "text/html": [
       "<pre>recommendations finished on 58000/210629 queries. users per second: 227.785</pre>"
      ],
      "text/plain": [
       "recommendations finished on 58000/210629 queries. users per second: 227.785"
      ]
     },
     "metadata": {},
     "output_type": "display_data"
    },
    {
     "data": {
      "text/html": [
       "<pre>recommendations finished on 59000/210629 queries. users per second: 227.768</pre>"
      ],
      "text/plain": [
       "recommendations finished on 59000/210629 queries. users per second: 227.768"
      ]
     },
     "metadata": {},
     "output_type": "display_data"
    },
    {
     "data": {
      "text/html": [
       "<pre>recommendations finished on 60000/210629 queries. users per second: 227.783</pre>"
      ],
      "text/plain": [
       "recommendations finished on 60000/210629 queries. users per second: 227.783"
      ]
     },
     "metadata": {},
     "output_type": "display_data"
    },
    {
     "data": {
      "text/html": [
       "<pre>recommendations finished on 61000/210629 queries. users per second: 227.632</pre>"
      ],
      "text/plain": [
       "recommendations finished on 61000/210629 queries. users per second: 227.632"
      ]
     },
     "metadata": {},
     "output_type": "display_data"
    },
    {
     "data": {
      "text/html": [
       "<pre>recommendations finished on 62000/210629 queries. users per second: 227.369</pre>"
      ],
      "text/plain": [
       "recommendations finished on 62000/210629 queries. users per second: 227.369"
      ]
     },
     "metadata": {},
     "output_type": "display_data"
    },
    {
     "data": {
      "text/html": [
       "<pre>recommendations finished on 63000/210629 queries. users per second: 227.247</pre>"
      ],
      "text/plain": [
       "recommendations finished on 63000/210629 queries. users per second: 227.247"
      ]
     },
     "metadata": {},
     "output_type": "display_data"
    },
    {
     "data": {
      "text/html": [
       "<pre>recommendations finished on 64000/210629 queries. users per second: 227.267</pre>"
      ],
      "text/plain": [
       "recommendations finished on 64000/210629 queries. users per second: 227.267"
      ]
     },
     "metadata": {},
     "output_type": "display_data"
    },
    {
     "data": {
      "text/html": [
       "<pre>recommendations finished on 65000/210629 queries. users per second: 227.216</pre>"
      ],
      "text/plain": [
       "recommendations finished on 65000/210629 queries. users per second: 227.216"
      ]
     },
     "metadata": {},
     "output_type": "display_data"
    },
    {
     "data": {
      "text/html": [
       "<pre>recommendations finished on 66000/210629 queries. users per second: 227.07</pre>"
      ],
      "text/plain": [
       "recommendations finished on 66000/210629 queries. users per second: 227.07"
      ]
     },
     "metadata": {},
     "output_type": "display_data"
    },
    {
     "data": {
      "text/html": [
       "<pre>recommendations finished on 67000/210629 queries. users per second: 226.188</pre>"
      ],
      "text/plain": [
       "recommendations finished on 67000/210629 queries. users per second: 226.188"
      ]
     },
     "metadata": {},
     "output_type": "display_data"
    },
    {
     "data": {
      "text/html": [
       "<pre>recommendations finished on 68000/210629 queries. users per second: 225.523</pre>"
      ],
      "text/plain": [
       "recommendations finished on 68000/210629 queries. users per second: 225.523"
      ]
     },
     "metadata": {},
     "output_type": "display_data"
    },
    {
     "data": {
      "text/html": [
       "<pre>recommendations finished on 69000/210629 queries. users per second: 225.424</pre>"
      ],
      "text/plain": [
       "recommendations finished on 69000/210629 queries. users per second: 225.424"
      ]
     },
     "metadata": {},
     "output_type": "display_data"
    },
    {
     "data": {
      "text/html": [
       "<pre>recommendations finished on 70000/210629 queries. users per second: 224.993</pre>"
      ],
      "text/plain": [
       "recommendations finished on 70000/210629 queries. users per second: 224.993"
      ]
     },
     "metadata": {},
     "output_type": "display_data"
    },
    {
     "data": {
      "text/html": [
       "<pre>recommendations finished on 71000/210629 queries. users per second: 224.888</pre>"
      ],
      "text/plain": [
       "recommendations finished on 71000/210629 queries. users per second: 224.888"
      ]
     },
     "metadata": {},
     "output_type": "display_data"
    },
    {
     "data": {
      "text/html": [
       "<pre>recommendations finished on 72000/210629 queries. users per second: 224.839</pre>"
      ],
      "text/plain": [
       "recommendations finished on 72000/210629 queries. users per second: 224.839"
      ]
     },
     "metadata": {},
     "output_type": "display_data"
    },
    {
     "data": {
      "text/html": [
       "<pre>recommendations finished on 73000/210629 queries. users per second: 224.729</pre>"
      ],
      "text/plain": [
       "recommendations finished on 73000/210629 queries. users per second: 224.729"
      ]
     },
     "metadata": {},
     "output_type": "display_data"
    },
    {
     "data": {
      "text/html": [
       "<pre>recommendations finished on 74000/210629 queries. users per second: 224.664</pre>"
      ],
      "text/plain": [
       "recommendations finished on 74000/210629 queries. users per second: 224.664"
      ]
     },
     "metadata": {},
     "output_type": "display_data"
    },
    {
     "data": {
      "text/html": [
       "<pre>recommendations finished on 75000/210629 queries. users per second: 224.67</pre>"
      ],
      "text/plain": [
       "recommendations finished on 75000/210629 queries. users per second: 224.67"
      ]
     },
     "metadata": {},
     "output_type": "display_data"
    },
    {
     "data": {
      "text/html": [
       "<pre>recommendations finished on 76000/210629 queries. users per second: 224.686</pre>"
      ],
      "text/plain": [
       "recommendations finished on 76000/210629 queries. users per second: 224.686"
      ]
     },
     "metadata": {},
     "output_type": "display_data"
    },
    {
     "data": {
      "text/html": [
       "<pre>recommendations finished on 77000/210629 queries. users per second: 224.722</pre>"
      ],
      "text/plain": [
       "recommendations finished on 77000/210629 queries. users per second: 224.722"
      ]
     },
     "metadata": {},
     "output_type": "display_data"
    },
    {
     "data": {
      "text/html": [
       "<pre>recommendations finished on 78000/210629 queries. users per second: 224.723</pre>"
      ],
      "text/plain": [
       "recommendations finished on 78000/210629 queries. users per second: 224.723"
      ]
     },
     "metadata": {},
     "output_type": "display_data"
    },
    {
     "data": {
      "text/html": [
       "<pre>recommendations finished on 79000/210629 queries. users per second: 224.677</pre>"
      ],
      "text/plain": [
       "recommendations finished on 79000/210629 queries. users per second: 224.677"
      ]
     },
     "metadata": {},
     "output_type": "display_data"
    },
    {
     "data": {
      "text/html": [
       "<pre>recommendations finished on 80000/210629 queries. users per second: 224.171</pre>"
      ],
      "text/plain": [
       "recommendations finished on 80000/210629 queries. users per second: 224.171"
      ]
     },
     "metadata": {},
     "output_type": "display_data"
    },
    {
     "data": {
      "text/html": [
       "<pre>recommendations finished on 81000/210629 queries. users per second: 224.033</pre>"
      ],
      "text/plain": [
       "recommendations finished on 81000/210629 queries. users per second: 224.033"
      ]
     },
     "metadata": {},
     "output_type": "display_data"
    },
    {
     "data": {
      "text/html": [
       "<pre>recommendations finished on 82000/210629 queries. users per second: 223.819</pre>"
      ],
      "text/plain": [
       "recommendations finished on 82000/210629 queries. users per second: 223.819"
      ]
     },
     "metadata": {},
     "output_type": "display_data"
    },
    {
     "data": {
      "text/html": [
       "<pre>recommendations finished on 83000/210629 queries. users per second: 223.706</pre>"
      ],
      "text/plain": [
       "recommendations finished on 83000/210629 queries. users per second: 223.706"
      ]
     },
     "metadata": {},
     "output_type": "display_data"
    },
    {
     "data": {
      "text/html": [
       "<pre>recommendations finished on 84000/210629 queries. users per second: 223.385</pre>"
      ],
      "text/plain": [
       "recommendations finished on 84000/210629 queries. users per second: 223.385"
      ]
     },
     "metadata": {},
     "output_type": "display_data"
    },
    {
     "data": {
      "text/html": [
       "<pre>recommendations finished on 85000/210629 queries. users per second: 223.174</pre>"
      ],
      "text/plain": [
       "recommendations finished on 85000/210629 queries. users per second: 223.174"
      ]
     },
     "metadata": {},
     "output_type": "display_data"
    },
    {
     "data": {
      "text/html": [
       "<pre>recommendations finished on 86000/210629 queries. users per second: 223.033</pre>"
      ],
      "text/plain": [
       "recommendations finished on 86000/210629 queries. users per second: 223.033"
      ]
     },
     "metadata": {},
     "output_type": "display_data"
    },
    {
     "data": {
      "text/html": [
       "<pre>recommendations finished on 87000/210629 queries. users per second: 222.958</pre>"
      ],
      "text/plain": [
       "recommendations finished on 87000/210629 queries. users per second: 222.958"
      ]
     },
     "metadata": {},
     "output_type": "display_data"
    },
    {
     "data": {
      "text/html": [
       "<pre>recommendations finished on 88000/210629 queries. users per second: 222.834</pre>"
      ],
      "text/plain": [
       "recommendations finished on 88000/210629 queries. users per second: 222.834"
      ]
     },
     "metadata": {},
     "output_type": "display_data"
    },
    {
     "data": {
      "text/html": [
       "<pre>recommendations finished on 89000/210629 queries. users per second: 222.637</pre>"
      ],
      "text/plain": [
       "recommendations finished on 89000/210629 queries. users per second: 222.637"
      ]
     },
     "metadata": {},
     "output_type": "display_data"
    },
    {
     "data": {
      "text/html": [
       "<pre>recommendations finished on 90000/210629 queries. users per second: 222.568</pre>"
      ],
      "text/plain": [
       "recommendations finished on 90000/210629 queries. users per second: 222.568"
      ]
     },
     "metadata": {},
     "output_type": "display_data"
    },
    {
     "data": {
      "text/html": [
       "<pre>recommendations finished on 91000/210629 queries. users per second: 222.5</pre>"
      ],
      "text/plain": [
       "recommendations finished on 91000/210629 queries. users per second: 222.5"
      ]
     },
     "metadata": {},
     "output_type": "display_data"
    },
    {
     "data": {
      "text/html": [
       "<pre>recommendations finished on 92000/210629 queries. users per second: 222.437</pre>"
      ],
      "text/plain": [
       "recommendations finished on 92000/210629 queries. users per second: 222.437"
      ]
     },
     "metadata": {},
     "output_type": "display_data"
    },
    {
     "data": {
      "text/html": [
       "<pre>recommendations finished on 93000/210629 queries. users per second: 222.361</pre>"
      ],
      "text/plain": [
       "recommendations finished on 93000/210629 queries. users per second: 222.361"
      ]
     },
     "metadata": {},
     "output_type": "display_data"
    },
    {
     "data": {
      "text/html": [
       "<pre>recommendations finished on 94000/210629 queries. users per second: 222.305</pre>"
      ],
      "text/plain": [
       "recommendations finished on 94000/210629 queries. users per second: 222.305"
      ]
     },
     "metadata": {},
     "output_type": "display_data"
    },
    {
     "data": {
      "text/html": [
       "<pre>recommendations finished on 95000/210629 queries. users per second: 222.261</pre>"
      ],
      "text/plain": [
       "recommendations finished on 95000/210629 queries. users per second: 222.261"
      ]
     },
     "metadata": {},
     "output_type": "display_data"
    },
    {
     "data": {
      "text/html": [
       "<pre>recommendations finished on 96000/210629 queries. users per second: 222.186</pre>"
      ],
      "text/plain": [
       "recommendations finished on 96000/210629 queries. users per second: 222.186"
      ]
     },
     "metadata": {},
     "output_type": "display_data"
    },
    {
     "data": {
      "text/html": [
       "<pre>recommendations finished on 97000/210629 queries. users per second: 222.13</pre>"
      ],
      "text/plain": [
       "recommendations finished on 97000/210629 queries. users per second: 222.13"
      ]
     },
     "metadata": {},
     "output_type": "display_data"
    },
    {
     "data": {
      "text/html": [
       "<pre>recommendations finished on 98000/210629 queries. users per second: 222.093</pre>"
      ],
      "text/plain": [
       "recommendations finished on 98000/210629 queries. users per second: 222.093"
      ]
     },
     "metadata": {},
     "output_type": "display_data"
    },
    {
     "data": {
      "text/html": [
       "<pre>recommendations finished on 99000/210629 queries. users per second: 222.054</pre>"
      ],
      "text/plain": [
       "recommendations finished on 99000/210629 queries. users per second: 222.054"
      ]
     },
     "metadata": {},
     "output_type": "display_data"
    },
    {
     "data": {
      "text/html": [
       "<pre>recommendations finished on 100000/210629 queries. users per second: 221.955</pre>"
      ],
      "text/plain": [
       "recommendations finished on 100000/210629 queries. users per second: 221.955"
      ]
     },
     "metadata": {},
     "output_type": "display_data"
    },
    {
     "data": {
      "text/html": [
       "<pre>recommendations finished on 101000/210629 queries. users per second: 221.756</pre>"
      ],
      "text/plain": [
       "recommendations finished on 101000/210629 queries. users per second: 221.756"
      ]
     },
     "metadata": {},
     "output_type": "display_data"
    },
    {
     "data": {
      "text/html": [
       "<pre>recommendations finished on 102000/210629 queries. users per second: 221.58</pre>"
      ],
      "text/plain": [
       "recommendations finished on 102000/210629 queries. users per second: 221.58"
      ]
     },
     "metadata": {},
     "output_type": "display_data"
    },
    {
     "data": {
      "text/html": [
       "<pre>recommendations finished on 103000/210629 queries. users per second: 221.477</pre>"
      ],
      "text/plain": [
       "recommendations finished on 103000/210629 queries. users per second: 221.477"
      ]
     },
     "metadata": {},
     "output_type": "display_data"
    },
    {
     "data": {
      "text/html": [
       "<pre>recommendations finished on 104000/210629 queries. users per second: 221.355</pre>"
      ],
      "text/plain": [
       "recommendations finished on 104000/210629 queries. users per second: 221.355"
      ]
     },
     "metadata": {},
     "output_type": "display_data"
    },
    {
     "data": {
      "text/html": [
       "<pre>recommendations finished on 105000/210629 queries. users per second: 221.309</pre>"
      ],
      "text/plain": [
       "recommendations finished on 105000/210629 queries. users per second: 221.309"
      ]
     },
     "metadata": {},
     "output_type": "display_data"
    },
    {
     "data": {
      "text/html": [
       "<pre>recommendations finished on 106000/210629 queries. users per second: 221.29</pre>"
      ],
      "text/plain": [
       "recommendations finished on 106000/210629 queries. users per second: 221.29"
      ]
     },
     "metadata": {},
     "output_type": "display_data"
    },
    {
     "data": {
      "text/html": [
       "<pre>recommendations finished on 107000/210629 queries. users per second: 221.247</pre>"
      ],
      "text/plain": [
       "recommendations finished on 107000/210629 queries. users per second: 221.247"
      ]
     },
     "metadata": {},
     "output_type": "display_data"
    },
    {
     "data": {
      "text/html": [
       "<pre>recommendations finished on 108000/210629 queries. users per second: 221.149</pre>"
      ],
      "text/plain": [
       "recommendations finished on 108000/210629 queries. users per second: 221.149"
      ]
     },
     "metadata": {},
     "output_type": "display_data"
    },
    {
     "data": {
      "text/html": [
       "<pre>recommendations finished on 109000/210629 queries. users per second: 221.127</pre>"
      ],
      "text/plain": [
       "recommendations finished on 109000/210629 queries. users per second: 221.127"
      ]
     },
     "metadata": {},
     "output_type": "display_data"
    },
    {
     "data": {
      "text/html": [
       "<pre>recommendations finished on 110000/210629 queries. users per second: 221.103</pre>"
      ],
      "text/plain": [
       "recommendations finished on 110000/210629 queries. users per second: 221.103"
      ]
     },
     "metadata": {},
     "output_type": "display_data"
    },
    {
     "data": {
      "text/html": [
       "<pre>recommendations finished on 111000/210629 queries. users per second: 221.08</pre>"
      ],
      "text/plain": [
       "recommendations finished on 111000/210629 queries. users per second: 221.08"
      ]
     },
     "metadata": {},
     "output_type": "display_data"
    },
    {
     "data": {
      "text/html": [
       "<pre>recommendations finished on 112000/210629 queries. users per second: 221.031</pre>"
      ],
      "text/plain": [
       "recommendations finished on 112000/210629 queries. users per second: 221.031"
      ]
     },
     "metadata": {},
     "output_type": "display_data"
    },
    {
     "data": {
      "text/html": [
       "<pre>recommendations finished on 113000/210629 queries. users per second: 220.969</pre>"
      ],
      "text/plain": [
       "recommendations finished on 113000/210629 queries. users per second: 220.969"
      ]
     },
     "metadata": {},
     "output_type": "display_data"
    },
    {
     "data": {
      "text/html": [
       "<pre>recommendations finished on 114000/210629 queries. users per second: 220.941</pre>"
      ],
      "text/plain": [
       "recommendations finished on 114000/210629 queries. users per second: 220.941"
      ]
     },
     "metadata": {},
     "output_type": "display_data"
    },
    {
     "data": {
      "text/html": [
       "<pre>recommendations finished on 115000/210629 queries. users per second: 220.928</pre>"
      ],
      "text/plain": [
       "recommendations finished on 115000/210629 queries. users per second: 220.928"
      ]
     },
     "metadata": {},
     "output_type": "display_data"
    },
    {
     "data": {
      "text/html": [
       "<pre>recommendations finished on 116000/210629 queries. users per second: 220.913</pre>"
      ],
      "text/plain": [
       "recommendations finished on 116000/210629 queries. users per second: 220.913"
      ]
     },
     "metadata": {},
     "output_type": "display_data"
    },
    {
     "data": {
      "text/html": [
       "<pre>recommendations finished on 117000/210629 queries. users per second: 220.886</pre>"
      ],
      "text/plain": [
       "recommendations finished on 117000/210629 queries. users per second: 220.886"
      ]
     },
     "metadata": {},
     "output_type": "display_data"
    },
    {
     "data": {
      "text/html": [
       "<pre>recommendations finished on 118000/210629 queries. users per second: 220.876</pre>"
      ],
      "text/plain": [
       "recommendations finished on 118000/210629 queries. users per second: 220.876"
      ]
     },
     "metadata": {},
     "output_type": "display_data"
    },
    {
     "data": {
      "text/html": [
       "<pre>recommendations finished on 119000/210629 queries. users per second: 220.873</pre>"
      ],
      "text/plain": [
       "recommendations finished on 119000/210629 queries. users per second: 220.873"
      ]
     },
     "metadata": {},
     "output_type": "display_data"
    },
    {
     "data": {
      "text/html": [
       "<pre>recommendations finished on 120000/210629 queries. users per second: 220.873</pre>"
      ],
      "text/plain": [
       "recommendations finished on 120000/210629 queries. users per second: 220.873"
      ]
     },
     "metadata": {},
     "output_type": "display_data"
    },
    {
     "data": {
      "text/html": [
       "<pre>recommendations finished on 121000/210629 queries. users per second: 220.68</pre>"
      ],
      "text/plain": [
       "recommendations finished on 121000/210629 queries. users per second: 220.68"
      ]
     },
     "metadata": {},
     "output_type": "display_data"
    },
    {
     "data": {
      "text/html": [
       "<pre>recommendations finished on 122000/210629 queries. users per second: 220.515</pre>"
      ],
      "text/plain": [
       "recommendations finished on 122000/210629 queries. users per second: 220.515"
      ]
     },
     "metadata": {},
     "output_type": "display_data"
    },
    {
     "data": {
      "text/html": [
       "<pre>recommendations finished on 123000/210629 queries. users per second: 220.458</pre>"
      ],
      "text/plain": [
       "recommendations finished on 123000/210629 queries. users per second: 220.458"
      ]
     },
     "metadata": {},
     "output_type": "display_data"
    },
    {
     "data": {
      "text/html": [
       "<pre>recommendations finished on 124000/210629 queries. users per second: 220.43</pre>"
      ],
      "text/plain": [
       "recommendations finished on 124000/210629 queries. users per second: 220.43"
      ]
     },
     "metadata": {},
     "output_type": "display_data"
    },
    {
     "data": {
      "text/html": [
       "<pre>recommendations finished on 125000/210629 queries. users per second: 220.398</pre>"
      ],
      "text/plain": [
       "recommendations finished on 125000/210629 queries. users per second: 220.398"
      ]
     },
     "metadata": {},
     "output_type": "display_data"
    },
    {
     "data": {
      "text/html": [
       "<pre>recommendations finished on 126000/210629 queries. users per second: 220.311</pre>"
      ],
      "text/plain": [
       "recommendations finished on 126000/210629 queries. users per second: 220.311"
      ]
     },
     "metadata": {},
     "output_type": "display_data"
    },
    {
     "data": {
      "text/html": [
       "<pre>recommendations finished on 127000/210629 queries. users per second: 220.19</pre>"
      ],
      "text/plain": [
       "recommendations finished on 127000/210629 queries. users per second: 220.19"
      ]
     },
     "metadata": {},
     "output_type": "display_data"
    },
    {
     "data": {
      "text/html": [
       "<pre>recommendations finished on 128000/210629 queries. users per second: 220.114</pre>"
      ],
      "text/plain": [
       "recommendations finished on 128000/210629 queries. users per second: 220.114"
      ]
     },
     "metadata": {},
     "output_type": "display_data"
    },
    {
     "data": {
      "text/html": [
       "<pre>recommendations finished on 129000/210629 queries. users per second: 220.116</pre>"
      ],
      "text/plain": [
       "recommendations finished on 129000/210629 queries. users per second: 220.116"
      ]
     },
     "metadata": {},
     "output_type": "display_data"
    },
    {
     "data": {
      "text/html": [
       "<pre>recommendations finished on 130000/210629 queries. users per second: 220.115</pre>"
      ],
      "text/plain": [
       "recommendations finished on 130000/210629 queries. users per second: 220.115"
      ]
     },
     "metadata": {},
     "output_type": "display_data"
    },
    {
     "data": {
      "text/html": [
       "<pre>recommendations finished on 131000/210629 queries. users per second: 220.124</pre>"
      ],
      "text/plain": [
       "recommendations finished on 131000/210629 queries. users per second: 220.124"
      ]
     },
     "metadata": {},
     "output_type": "display_data"
    },
    {
     "data": {
      "text/html": [
       "<pre>recommendations finished on 132000/210629 queries. users per second: 220.132</pre>"
      ],
      "text/plain": [
       "recommendations finished on 132000/210629 queries. users per second: 220.132"
      ]
     },
     "metadata": {},
     "output_type": "display_data"
    },
    {
     "data": {
      "text/html": [
       "<pre>recommendations finished on 133000/210629 queries. users per second: 220.103</pre>"
      ],
      "text/plain": [
       "recommendations finished on 133000/210629 queries. users per second: 220.103"
      ]
     },
     "metadata": {},
     "output_type": "display_data"
    },
    {
     "data": {
      "text/html": [
       "<pre>recommendations finished on 134000/210629 queries. users per second: 219.917</pre>"
      ],
      "text/plain": [
       "recommendations finished on 134000/210629 queries. users per second: 219.917"
      ]
     },
     "metadata": {},
     "output_type": "display_data"
    },
    {
     "data": {
      "text/html": [
       "<pre>recommendations finished on 135000/210629 queries. users per second: 219.799</pre>"
      ],
      "text/plain": [
       "recommendations finished on 135000/210629 queries. users per second: 219.799"
      ]
     },
     "metadata": {},
     "output_type": "display_data"
    },
    {
     "data": {
      "text/html": [
       "<pre>recommendations finished on 136000/210629 queries. users per second: 219.777</pre>"
      ],
      "text/plain": [
       "recommendations finished on 136000/210629 queries. users per second: 219.777"
      ]
     },
     "metadata": {},
     "output_type": "display_data"
    },
    {
     "data": {
      "text/html": [
       "<pre>recommendations finished on 137000/210629 queries. users per second: 219.766</pre>"
      ],
      "text/plain": [
       "recommendations finished on 137000/210629 queries. users per second: 219.766"
      ]
     },
     "metadata": {},
     "output_type": "display_data"
    },
    {
     "data": {
      "text/html": [
       "<pre>recommendations finished on 138000/210629 queries. users per second: 219.721</pre>"
      ],
      "text/plain": [
       "recommendations finished on 138000/210629 queries. users per second: 219.721"
      ]
     },
     "metadata": {},
     "output_type": "display_data"
    },
    {
     "data": {
      "text/html": [
       "<pre>recommendations finished on 139000/210629 queries. users per second: 219.67</pre>"
      ],
      "text/plain": [
       "recommendations finished on 139000/210629 queries. users per second: 219.67"
      ]
     },
     "metadata": {},
     "output_type": "display_data"
    },
    {
     "data": {
      "text/html": [
       "<pre>recommendations finished on 140000/210629 queries. users per second: 219.652</pre>"
      ],
      "text/plain": [
       "recommendations finished on 140000/210629 queries. users per second: 219.652"
      ]
     },
     "metadata": {},
     "output_type": "display_data"
    },
    {
     "data": {
      "text/html": [
       "<pre>recommendations finished on 141000/210629 queries. users per second: 219.635</pre>"
      ],
      "text/plain": [
       "recommendations finished on 141000/210629 queries. users per second: 219.635"
      ]
     },
     "metadata": {},
     "output_type": "display_data"
    },
    {
     "data": {
      "text/html": [
       "<pre>recommendations finished on 142000/210629 queries. users per second: 219.609</pre>"
      ],
      "text/plain": [
       "recommendations finished on 142000/210629 queries. users per second: 219.609"
      ]
     },
     "metadata": {},
     "output_type": "display_data"
    },
    {
     "data": {
      "text/html": [
       "<pre>recommendations finished on 143000/210629 queries. users per second: 219.604</pre>"
      ],
      "text/plain": [
       "recommendations finished on 143000/210629 queries. users per second: 219.604"
      ]
     },
     "metadata": {},
     "output_type": "display_data"
    },
    {
     "data": {
      "text/html": [
       "<pre>recommendations finished on 144000/210629 queries. users per second: 219.58</pre>"
      ],
      "text/plain": [
       "recommendations finished on 144000/210629 queries. users per second: 219.58"
      ]
     },
     "metadata": {},
     "output_type": "display_data"
    },
    {
     "data": {
      "text/html": [
       "<pre>recommendations finished on 145000/210629 queries. users per second: 219.567</pre>"
      ],
      "text/plain": [
       "recommendations finished on 145000/210629 queries. users per second: 219.567"
      ]
     },
     "metadata": {},
     "output_type": "display_data"
    },
    {
     "data": {
      "text/html": [
       "<pre>recommendations finished on 146000/210629 queries. users per second: 219.549</pre>"
      ],
      "text/plain": [
       "recommendations finished on 146000/210629 queries. users per second: 219.549"
      ]
     },
     "metadata": {},
     "output_type": "display_data"
    },
    {
     "data": {
      "text/html": [
       "<pre>recommendations finished on 147000/210629 queries. users per second: 219.52</pre>"
      ],
      "text/plain": [
       "recommendations finished on 147000/210629 queries. users per second: 219.52"
      ]
     },
     "metadata": {},
     "output_type": "display_data"
    },
    {
     "data": {
      "text/html": [
       "<pre>recommendations finished on 148000/210629 queries. users per second: 219.464</pre>"
      ],
      "text/plain": [
       "recommendations finished on 148000/210629 queries. users per second: 219.464"
      ]
     },
     "metadata": {},
     "output_type": "display_data"
    },
    {
     "data": {
      "text/html": [
       "<pre>recommendations finished on 149000/210629 queries. users per second: 219.468</pre>"
      ],
      "text/plain": [
       "recommendations finished on 149000/210629 queries. users per second: 219.468"
      ]
     },
     "metadata": {},
     "output_type": "display_data"
    },
    {
     "data": {
      "text/html": [
       "<pre>recommendations finished on 150000/210629 queries. users per second: 219.469</pre>"
      ],
      "text/plain": [
       "recommendations finished on 150000/210629 queries. users per second: 219.469"
      ]
     },
     "metadata": {},
     "output_type": "display_data"
    },
    {
     "data": {
      "text/html": [
       "<pre>recommendations finished on 151000/210629 queries. users per second: 219.466</pre>"
      ],
      "text/plain": [
       "recommendations finished on 151000/210629 queries. users per second: 219.466"
      ]
     },
     "metadata": {},
     "output_type": "display_data"
    },
    {
     "data": {
      "text/html": [
       "<pre>recommendations finished on 152000/210629 queries. users per second: 219.464</pre>"
      ],
      "text/plain": [
       "recommendations finished on 152000/210629 queries. users per second: 219.464"
      ]
     },
     "metadata": {},
     "output_type": "display_data"
    },
    {
     "data": {
      "text/html": [
       "<pre>recommendations finished on 153000/210629 queries. users per second: 219.464</pre>"
      ],
      "text/plain": [
       "recommendations finished on 153000/210629 queries. users per second: 219.464"
      ]
     },
     "metadata": {},
     "output_type": "display_data"
    },
    {
     "data": {
      "text/html": [
       "<pre>recommendations finished on 154000/210629 queries. users per second: 219.468</pre>"
      ],
      "text/plain": [
       "recommendations finished on 154000/210629 queries. users per second: 219.468"
      ]
     },
     "metadata": {},
     "output_type": "display_data"
    },
    {
     "data": {
      "text/html": [
       "<pre>recommendations finished on 155000/210629 queries. users per second: 219.466</pre>"
      ],
      "text/plain": [
       "recommendations finished on 155000/210629 queries. users per second: 219.466"
      ]
     },
     "metadata": {},
     "output_type": "display_data"
    },
    {
     "data": {
      "text/html": [
       "<pre>recommendations finished on 156000/210629 queries. users per second: 219.461</pre>"
      ],
      "text/plain": [
       "recommendations finished on 156000/210629 queries. users per second: 219.461"
      ]
     },
     "metadata": {},
     "output_type": "display_data"
    },
    {
     "data": {
      "text/html": [
       "<pre>recommendations finished on 157000/210629 queries. users per second: 219.37</pre>"
      ],
      "text/plain": [
       "recommendations finished on 157000/210629 queries. users per second: 219.37"
      ]
     },
     "metadata": {},
     "output_type": "display_data"
    },
    {
     "data": {
      "text/html": [
       "<pre>recommendations finished on 158000/210629 queries. users per second: 219.169</pre>"
      ],
      "text/plain": [
       "recommendations finished on 158000/210629 queries. users per second: 219.169"
      ]
     },
     "metadata": {},
     "output_type": "display_data"
    },
    {
     "data": {
      "text/html": [
       "<pre>recommendations finished on 159000/210629 queries. users per second: 219.191</pre>"
      ],
      "text/plain": [
       "recommendations finished on 159000/210629 queries. users per second: 219.191"
      ]
     },
     "metadata": {},
     "output_type": "display_data"
    },
    {
     "data": {
      "text/html": [
       "<pre>recommendations finished on 160000/210629 queries. users per second: 219.109</pre>"
      ],
      "text/plain": [
       "recommendations finished on 160000/210629 queries. users per second: 219.109"
      ]
     },
     "metadata": {},
     "output_type": "display_data"
    },
    {
     "data": {
      "text/html": [
       "<pre>recommendations finished on 161000/210629 queries. users per second: 218.941</pre>"
      ],
      "text/plain": [
       "recommendations finished on 161000/210629 queries. users per second: 218.941"
      ]
     },
     "metadata": {},
     "output_type": "display_data"
    },
    {
     "data": {
      "text/html": [
       "<pre>recommendations finished on 162000/210629 queries. users per second: 218.853</pre>"
      ],
      "text/plain": [
       "recommendations finished on 162000/210629 queries. users per second: 218.853"
      ]
     },
     "metadata": {},
     "output_type": "display_data"
    },
    {
     "data": {
      "text/html": [
       "<pre>recommendations finished on 163000/210629 queries. users per second: 218.86</pre>"
      ],
      "text/plain": [
       "recommendations finished on 163000/210629 queries. users per second: 218.86"
      ]
     },
     "metadata": {},
     "output_type": "display_data"
    },
    {
     "data": {
      "text/html": [
       "<pre>recommendations finished on 164000/210629 queries. users per second: 218.861</pre>"
      ],
      "text/plain": [
       "recommendations finished on 164000/210629 queries. users per second: 218.861"
      ]
     },
     "metadata": {},
     "output_type": "display_data"
    },
    {
     "data": {
      "text/html": [
       "<pre>recommendations finished on 165000/210629 queries. users per second: 218.866</pre>"
      ],
      "text/plain": [
       "recommendations finished on 165000/210629 queries. users per second: 218.866"
      ]
     },
     "metadata": {},
     "output_type": "display_data"
    },
    {
     "data": {
      "text/html": [
       "<pre>recommendations finished on 166000/210629 queries. users per second: 218.867</pre>"
      ],
      "text/plain": [
       "recommendations finished on 166000/210629 queries. users per second: 218.867"
      ]
     },
     "metadata": {},
     "output_type": "display_data"
    },
    {
     "data": {
      "text/html": [
       "<pre>recommendations finished on 167000/210629 queries. users per second: 218.863</pre>"
      ],
      "text/plain": [
       "recommendations finished on 167000/210629 queries. users per second: 218.863"
      ]
     },
     "metadata": {},
     "output_type": "display_data"
    },
    {
     "data": {
      "text/html": [
       "<pre>recommendations finished on 168000/210629 queries. users per second: 218.867</pre>"
      ],
      "text/plain": [
       "recommendations finished on 168000/210629 queries. users per second: 218.867"
      ]
     },
     "metadata": {},
     "output_type": "display_data"
    },
    {
     "data": {
      "text/html": [
       "<pre>recommendations finished on 169000/210629 queries. users per second: 218.873</pre>"
      ],
      "text/plain": [
       "recommendations finished on 169000/210629 queries. users per second: 218.873"
      ]
     },
     "metadata": {},
     "output_type": "display_data"
    },
    {
     "data": {
      "text/html": [
       "<pre>recommendations finished on 170000/210629 queries. users per second: 218.879</pre>"
      ],
      "text/plain": [
       "recommendations finished on 170000/210629 queries. users per second: 218.879"
      ]
     },
     "metadata": {},
     "output_type": "display_data"
    },
    {
     "data": {
      "text/html": [
       "<pre>recommendations finished on 171000/210629 queries. users per second: 218.881</pre>"
      ],
      "text/plain": [
       "recommendations finished on 171000/210629 queries. users per second: 218.881"
      ]
     },
     "metadata": {},
     "output_type": "display_data"
    },
    {
     "data": {
      "text/html": [
       "<pre>recommendations finished on 172000/210629 queries. users per second: 218.895</pre>"
      ],
      "text/plain": [
       "recommendations finished on 172000/210629 queries. users per second: 218.895"
      ]
     },
     "metadata": {},
     "output_type": "display_data"
    },
    {
     "data": {
      "text/html": [
       "<pre>recommendations finished on 173000/210629 queries. users per second: 218.891</pre>"
      ],
      "text/plain": [
       "recommendations finished on 173000/210629 queries. users per second: 218.891"
      ]
     },
     "metadata": {},
     "output_type": "display_data"
    },
    {
     "data": {
      "text/html": [
       "<pre>recommendations finished on 174000/210629 queries. users per second: 218.863</pre>"
      ],
      "text/plain": [
       "recommendations finished on 174000/210629 queries. users per second: 218.863"
      ]
     },
     "metadata": {},
     "output_type": "display_data"
    },
    {
     "data": {
      "text/html": [
       "<pre>recommendations finished on 175000/210629 queries. users per second: 218.875</pre>"
      ],
      "text/plain": [
       "recommendations finished on 175000/210629 queries. users per second: 218.875"
      ]
     },
     "metadata": {},
     "output_type": "display_data"
    },
    {
     "data": {
      "text/html": [
       "<pre>recommendations finished on 176000/210629 queries. users per second: 218.887</pre>"
      ],
      "text/plain": [
       "recommendations finished on 176000/210629 queries. users per second: 218.887"
      ]
     },
     "metadata": {},
     "output_type": "display_data"
    },
    {
     "data": {
      "text/html": [
       "<pre>recommendations finished on 177000/210629 queries. users per second: 218.9</pre>"
      ],
      "text/plain": [
       "recommendations finished on 177000/210629 queries. users per second: 218.9"
      ]
     },
     "metadata": {},
     "output_type": "display_data"
    },
    {
     "data": {
      "text/html": [
       "<pre>recommendations finished on 178000/210629 queries. users per second: 218.904</pre>"
      ],
      "text/plain": [
       "recommendations finished on 178000/210629 queries. users per second: 218.904"
      ]
     },
     "metadata": {},
     "output_type": "display_data"
    },
    {
     "data": {
      "text/html": [
       "<pre>recommendations finished on 179000/210629 queries. users per second: 218.892</pre>"
      ],
      "text/plain": [
       "recommendations finished on 179000/210629 queries. users per second: 218.892"
      ]
     },
     "metadata": {},
     "output_type": "display_data"
    },
    {
     "data": {
      "text/html": [
       "<pre>recommendations finished on 180000/210629 queries. users per second: 218.788</pre>"
      ],
      "text/plain": [
       "recommendations finished on 180000/210629 queries. users per second: 218.788"
      ]
     },
     "metadata": {},
     "output_type": "display_data"
    },
    {
     "data": {
      "text/html": [
       "<pre>recommendations finished on 181000/210629 queries. users per second: 218.761</pre>"
      ],
      "text/plain": [
       "recommendations finished on 181000/210629 queries. users per second: 218.761"
      ]
     },
     "metadata": {},
     "output_type": "display_data"
    },
    {
     "data": {
      "text/html": [
       "<pre>recommendations finished on 182000/210629 queries. users per second: 218.697</pre>"
      ],
      "text/plain": [
       "recommendations finished on 182000/210629 queries. users per second: 218.697"
      ]
     },
     "metadata": {},
     "output_type": "display_data"
    },
    {
     "data": {
      "text/html": [
       "<pre>recommendations finished on 183000/210629 queries. users per second: 218.706</pre>"
      ],
      "text/plain": [
       "recommendations finished on 183000/210629 queries. users per second: 218.706"
      ]
     },
     "metadata": {},
     "output_type": "display_data"
    },
    {
     "data": {
      "text/html": [
       "<pre>recommendations finished on 184000/210629 queries. users per second: 218.703</pre>"
      ],
      "text/plain": [
       "recommendations finished on 184000/210629 queries. users per second: 218.703"
      ]
     },
     "metadata": {},
     "output_type": "display_data"
    },
    {
     "data": {
      "text/html": [
       "<pre>recommendations finished on 185000/210629 queries. users per second: 218.643</pre>"
      ],
      "text/plain": [
       "recommendations finished on 185000/210629 queries. users per second: 218.643"
      ]
     },
     "metadata": {},
     "output_type": "display_data"
    },
    {
     "data": {
      "text/html": [
       "<pre>recommendations finished on 186000/210629 queries. users per second: 218.637</pre>"
      ],
      "text/plain": [
       "recommendations finished on 186000/210629 queries. users per second: 218.637"
      ]
     },
     "metadata": {},
     "output_type": "display_data"
    },
    {
     "data": {
      "text/html": [
       "<pre>recommendations finished on 187000/210629 queries. users per second: 218.597</pre>"
      ],
      "text/plain": [
       "recommendations finished on 187000/210629 queries. users per second: 218.597"
      ]
     },
     "metadata": {},
     "output_type": "display_data"
    },
    {
     "data": {
      "text/html": [
       "<pre>recommendations finished on 188000/210629 queries. users per second: 218.605</pre>"
      ],
      "text/plain": [
       "recommendations finished on 188000/210629 queries. users per second: 218.605"
      ]
     },
     "metadata": {},
     "output_type": "display_data"
    },
    {
     "data": {
      "text/html": [
       "<pre>recommendations finished on 189000/210629 queries. users per second: 218.584</pre>"
      ],
      "text/plain": [
       "recommendations finished on 189000/210629 queries. users per second: 218.584"
      ]
     },
     "metadata": {},
     "output_type": "display_data"
    },
    {
     "data": {
      "text/html": [
       "<pre>recommendations finished on 190000/210629 queries. users per second: 218.575</pre>"
      ],
      "text/plain": [
       "recommendations finished on 190000/210629 queries. users per second: 218.575"
      ]
     },
     "metadata": {},
     "output_type": "display_data"
    },
    {
     "data": {
      "text/html": [
       "<pre>recommendations finished on 191000/210629 queries. users per second: 218.568</pre>"
      ],
      "text/plain": [
       "recommendations finished on 191000/210629 queries. users per second: 218.568"
      ]
     },
     "metadata": {},
     "output_type": "display_data"
    },
    {
     "data": {
      "text/html": [
       "<pre>recommendations finished on 192000/210629 queries. users per second: 218.535</pre>"
      ],
      "text/plain": [
       "recommendations finished on 192000/210629 queries. users per second: 218.535"
      ]
     },
     "metadata": {},
     "output_type": "display_data"
    },
    {
     "data": {
      "text/html": [
       "<pre>recommendations finished on 193000/210629 queries. users per second: 218.522</pre>"
      ],
      "text/plain": [
       "recommendations finished on 193000/210629 queries. users per second: 218.522"
      ]
     },
     "metadata": {},
     "output_type": "display_data"
    },
    {
     "data": {
      "text/html": [
       "<pre>recommendations finished on 194000/210629 queries. users per second: 218.509</pre>"
      ],
      "text/plain": [
       "recommendations finished on 194000/210629 queries. users per second: 218.509"
      ]
     },
     "metadata": {},
     "output_type": "display_data"
    },
    {
     "data": {
      "text/html": [
       "<pre>recommendations finished on 195000/210629 queries. users per second: 218.526</pre>"
      ],
      "text/plain": [
       "recommendations finished on 195000/210629 queries. users per second: 218.526"
      ]
     },
     "metadata": {},
     "output_type": "display_data"
    },
    {
     "data": {
      "text/html": [
       "<pre>recommendations finished on 196000/210629 queries. users per second: 218.542</pre>"
      ],
      "text/plain": [
       "recommendations finished on 196000/210629 queries. users per second: 218.542"
      ]
     },
     "metadata": {},
     "output_type": "display_data"
    },
    {
     "data": {
      "text/html": [
       "<pre>recommendations finished on 197000/210629 queries. users per second: 218.556</pre>"
      ],
      "text/plain": [
       "recommendations finished on 197000/210629 queries. users per second: 218.556"
      ]
     },
     "metadata": {},
     "output_type": "display_data"
    },
    {
     "data": {
      "text/html": [
       "<pre>recommendations finished on 198000/210629 queries. users per second: 218.503</pre>"
      ],
      "text/plain": [
       "recommendations finished on 198000/210629 queries. users per second: 218.503"
      ]
     },
     "metadata": {},
     "output_type": "display_data"
    },
    {
     "data": {
      "text/html": [
       "<pre>recommendations finished on 199000/210629 queries. users per second: 218.336</pre>"
      ],
      "text/plain": [
       "recommendations finished on 199000/210629 queries. users per second: 218.336"
      ]
     },
     "metadata": {},
     "output_type": "display_data"
    },
    {
     "data": {
      "text/html": [
       "<pre>recommendations finished on 200000/210629 queries. users per second: 218.343</pre>"
      ],
      "text/plain": [
       "recommendations finished on 200000/210629 queries. users per second: 218.343"
      ]
     },
     "metadata": {},
     "output_type": "display_data"
    },
    {
     "data": {
      "text/html": [
       "<pre>recommendations finished on 201000/210629 queries. users per second: 218.37</pre>"
      ],
      "text/plain": [
       "recommendations finished on 201000/210629 queries. users per second: 218.37"
      ]
     },
     "metadata": {},
     "output_type": "display_data"
    },
    {
     "data": {
      "text/html": [
       "<pre>recommendations finished on 202000/210629 queries. users per second: 218.396</pre>"
      ],
      "text/plain": [
       "recommendations finished on 202000/210629 queries. users per second: 218.396"
      ]
     },
     "metadata": {},
     "output_type": "display_data"
    },
    {
     "data": {
      "text/html": [
       "<pre>recommendations finished on 203000/210629 queries. users per second: 218.333</pre>"
      ],
      "text/plain": [
       "recommendations finished on 203000/210629 queries. users per second: 218.333"
      ]
     },
     "metadata": {},
     "output_type": "display_data"
    },
    {
     "data": {
      "text/html": [
       "<pre>recommendations finished on 204000/210629 queries. users per second: 218.218</pre>"
      ],
      "text/plain": [
       "recommendations finished on 204000/210629 queries. users per second: 218.218"
      ]
     },
     "metadata": {},
     "output_type": "display_data"
    },
    {
     "data": {
      "text/html": [
       "<pre>recommendations finished on 205000/210629 queries. users per second: 218.153</pre>"
      ],
      "text/plain": [
       "recommendations finished on 205000/210629 queries. users per second: 218.153"
      ]
     },
     "metadata": {},
     "output_type": "display_data"
    },
    {
     "data": {
      "text/html": [
       "<pre>recommendations finished on 206000/210629 queries. users per second: 218.137</pre>"
      ],
      "text/plain": [
       "recommendations finished on 206000/210629 queries. users per second: 218.137"
      ]
     },
     "metadata": {},
     "output_type": "display_data"
    },
    {
     "data": {
      "text/html": [
       "<pre>recommendations finished on 207000/210629 queries. users per second: 218.156</pre>"
      ],
      "text/plain": [
       "recommendations finished on 207000/210629 queries. users per second: 218.156"
      ]
     },
     "metadata": {},
     "output_type": "display_data"
    },
    {
     "data": {
      "text/html": [
       "<pre>recommendations finished on 208000/210629 queries. users per second: 218.182</pre>"
      ],
      "text/plain": [
       "recommendations finished on 208000/210629 queries. users per second: 218.182"
      ]
     },
     "metadata": {},
     "output_type": "display_data"
    },
    {
     "data": {
      "text/html": [
       "<pre>recommendations finished on 209000/210629 queries. users per second: 218.171</pre>"
      ],
      "text/plain": [
       "recommendations finished on 209000/210629 queries. users per second: 218.171"
      ]
     },
     "metadata": {},
     "output_type": "display_data"
    },
    {
     "data": {
      "text/html": [
       "<pre>recommendations finished on 210000/210629 queries. users per second: 217.941</pre>"
      ],
      "text/plain": [
       "recommendations finished on 210000/210629 queries. users per second: 217.941"
      ]
     },
     "metadata": {},
     "output_type": "display_data"
    }
   ],
   "source": [
    "recs = item_content_model.recommend(test_data['user_id'])"
   ]
  },
  {
   "cell_type": "code",
   "execution_count": 58,
   "metadata": {},
   "outputs": [
    {
     "data": {
      "text/html": [
       "<div style=\"max-height:1000px;max-width:1500px;overflow:auto;\"><table frame=\"box\" rules=\"cols\">\n",
       "    <tr>\n",
       "        <th style=\"padding-left: 1em; padding-right: 1em; text-align: center\">user_id</th>\n",
       "        <th style=\"padding-left: 1em; padding-right: 1em; text-align: center\">cutoff</th>\n",
       "        <th style=\"padding-left: 1em; padding-right: 1em; text-align: center\">precision</th>\n",
       "        <th style=\"padding-left: 1em; padding-right: 1em; text-align: center\">recall</th>\n",
       "        <th style=\"padding-left: 1em; padding-right: 1em; text-align: center\">count</th>\n",
       "    </tr>\n",
       "    <tr>\n",
       "        <td style=\"padding-left: 1em; padding-right: 1em; text-align: center; vertical-align: top\">---1lKK3aKOuomHnwAkAow</td>\n",
       "        <td style=\"padding-left: 1em; padding-right: 1em; text-align: center; vertical-align: top\">5</td>\n",
       "        <td style=\"padding-left: 1em; padding-right: 1em; text-align: center; vertical-align: top\">0.0</td>\n",
       "        <td style=\"padding-left: 1em; padding-right: 1em; text-align: center; vertical-align: top\">0.0</td>\n",
       "        <td style=\"padding-left: 1em; padding-right: 1em; text-align: center; vertical-align: top\">4</td>\n",
       "    </tr>\n",
       "    <tr>\n",
       "        <td style=\"padding-left: 1em; padding-right: 1em; text-align: center; vertical-align: top\">---1lKK3aKOuomHnwAkAow</td>\n",
       "        <td style=\"padding-left: 1em; padding-right: 1em; text-align: center; vertical-align: top\">10</td>\n",
       "        <td style=\"padding-left: 1em; padding-right: 1em; text-align: center; vertical-align: top\">0.0</td>\n",
       "        <td style=\"padding-left: 1em; padding-right: 1em; text-align: center; vertical-align: top\">0.0</td>\n",
       "        <td style=\"padding-left: 1em; padding-right: 1em; text-align: center; vertical-align: top\">4</td>\n",
       "    </tr>\n",
       "    <tr>\n",
       "        <td style=\"padding-left: 1em; padding-right: 1em; text-align: center; vertical-align: top\">--3WaS23LcIXtxyFULJHTA</td>\n",
       "        <td style=\"padding-left: 1em; padding-right: 1em; text-align: center; vertical-align: top\">5</td>\n",
       "        <td style=\"padding-left: 1em; padding-right: 1em; text-align: center; vertical-align: top\">0.0</td>\n",
       "        <td style=\"padding-left: 1em; padding-right: 1em; text-align: center; vertical-align: top\">0.0</td>\n",
       "        <td style=\"padding-left: 1em; padding-right: 1em; text-align: center; vertical-align: top\">1</td>\n",
       "    </tr>\n",
       "    <tr>\n",
       "        <td style=\"padding-left: 1em; padding-right: 1em; text-align: center; vertical-align: top\">--3WaS23LcIXtxyFULJHTA</td>\n",
       "        <td style=\"padding-left: 1em; padding-right: 1em; text-align: center; vertical-align: top\">10</td>\n",
       "        <td style=\"padding-left: 1em; padding-right: 1em; text-align: center; vertical-align: top\">0.0</td>\n",
       "        <td style=\"padding-left: 1em; padding-right: 1em; text-align: center; vertical-align: top\">0.0</td>\n",
       "        <td style=\"padding-left: 1em; padding-right: 1em; text-align: center; vertical-align: top\">1</td>\n",
       "    </tr>\n",
       "    <tr>\n",
       "        <td style=\"padding-left: 1em; padding-right: 1em; text-align: center; vertical-align: top\">--41c9Tl0C9OGewIR7Qyzg</td>\n",
       "        <td style=\"padding-left: 1em; padding-right: 1em; text-align: center; vertical-align: top\">5</td>\n",
       "        <td style=\"padding-left: 1em; padding-right: 1em; text-align: center; vertical-align: top\">0.0</td>\n",
       "        <td style=\"padding-left: 1em; padding-right: 1em; text-align: center; vertical-align: top\">0.0</td>\n",
       "        <td style=\"padding-left: 1em; padding-right: 1em; text-align: center; vertical-align: top\">1</td>\n",
       "    </tr>\n",
       "    <tr>\n",
       "        <td style=\"padding-left: 1em; padding-right: 1em; text-align: center; vertical-align: top\">--41c9Tl0C9OGewIR7Qyzg</td>\n",
       "        <td style=\"padding-left: 1em; padding-right: 1em; text-align: center; vertical-align: top\">10</td>\n",
       "        <td style=\"padding-left: 1em; padding-right: 1em; text-align: center; vertical-align: top\">0.0</td>\n",
       "        <td style=\"padding-left: 1em; padding-right: 1em; text-align: center; vertical-align: top\">0.0</td>\n",
       "        <td style=\"padding-left: 1em; padding-right: 1em; text-align: center; vertical-align: top\">1</td>\n",
       "    </tr>\n",
       "    <tr>\n",
       "        <td style=\"padding-left: 1em; padding-right: 1em; text-align: center; vertical-align: top\">--4q8EyqThydQm-eKZpS-A</td>\n",
       "        <td style=\"padding-left: 1em; padding-right: 1em; text-align: center; vertical-align: top\">5</td>\n",
       "        <td style=\"padding-left: 1em; padding-right: 1em; text-align: center; vertical-align: top\">0.0</td>\n",
       "        <td style=\"padding-left: 1em; padding-right: 1em; text-align: center; vertical-align: top\">0.0</td>\n",
       "        <td style=\"padding-left: 1em; padding-right: 1em; text-align: center; vertical-align: top\">1</td>\n",
       "    </tr>\n",
       "    <tr>\n",
       "        <td style=\"padding-left: 1em; padding-right: 1em; text-align: center; vertical-align: top\">--4q8EyqThydQm-eKZpS-A</td>\n",
       "        <td style=\"padding-left: 1em; padding-right: 1em; text-align: center; vertical-align: top\">10</td>\n",
       "        <td style=\"padding-left: 1em; padding-right: 1em; text-align: center; vertical-align: top\">0.0</td>\n",
       "        <td style=\"padding-left: 1em; padding-right: 1em; text-align: center; vertical-align: top\">0.0</td>\n",
       "        <td style=\"padding-left: 1em; padding-right: 1em; text-align: center; vertical-align: top\">1</td>\n",
       "    </tr>\n",
       "    <tr>\n",
       "        <td style=\"padding-left: 1em; padding-right: 1em; text-align: center; vertical-align: top\">--4uW4yJiRT2oXMYkCPq1Q</td>\n",
       "        <td style=\"padding-left: 1em; padding-right: 1em; text-align: center; vertical-align: top\">5</td>\n",
       "        <td style=\"padding-left: 1em; padding-right: 1em; text-align: center; vertical-align: top\">0.0</td>\n",
       "        <td style=\"padding-left: 1em; padding-right: 1em; text-align: center; vertical-align: top\">0.0</td>\n",
       "        <td style=\"padding-left: 1em; padding-right: 1em; text-align: center; vertical-align: top\">1</td>\n",
       "    </tr>\n",
       "    <tr>\n",
       "        <td style=\"padding-left: 1em; padding-right: 1em; text-align: center; vertical-align: top\">--4uW4yJiRT2oXMYkCPq1Q</td>\n",
       "        <td style=\"padding-left: 1em; padding-right: 1em; text-align: center; vertical-align: top\">10</td>\n",
       "        <td style=\"padding-left: 1em; padding-right: 1em; text-align: center; vertical-align: top\">0.0</td>\n",
       "        <td style=\"padding-left: 1em; padding-right: 1em; text-align: center; vertical-align: top\">0.0</td>\n",
       "        <td style=\"padding-left: 1em; padding-right: 1em; text-align: center; vertical-align: top\">1</td>\n",
       "    </tr>\n",
       "</table>\n",
       "[269760 rows x 5 columns]<br/>Note: Only the head of the SFrame is printed.<br/>You can use print_rows(num_rows=m, num_columns=n) to print more rows and columns.\n",
       "</div>"
      ],
      "text/plain": [
       "Columns:\n",
       "\tuser_id\tstr\n",
       "\tcutoff\tint\n",
       "\tprecision\tfloat\n",
       "\trecall\tfloat\n",
       "\tcount\tint\n",
       "\n",
       "Rows: 269760\n",
       "\n",
       "Data:\n",
       "+------------------------+--------+-----------+--------+-------+\n",
       "|        user_id         | cutoff | precision | recall | count |\n",
       "+------------------------+--------+-----------+--------+-------+\n",
       "| ---1lKK3aKOuomHnwAkAow |   5    |    0.0    |  0.0   |   4   |\n",
       "| ---1lKK3aKOuomHnwAkAow |   10   |    0.0    |  0.0   |   4   |\n",
       "| --3WaS23LcIXtxyFULJHTA |   5    |    0.0    |  0.0   |   1   |\n",
       "| --3WaS23LcIXtxyFULJHTA |   10   |    0.0    |  0.0   |   1   |\n",
       "| --41c9Tl0C9OGewIR7Qyzg |   5    |    0.0    |  0.0   |   1   |\n",
       "| --41c9Tl0C9OGewIR7Qyzg |   10   |    0.0    |  0.0   |   1   |\n",
       "| --4q8EyqThydQm-eKZpS-A |   5    |    0.0    |  0.0   |   1   |\n",
       "| --4q8EyqThydQm-eKZpS-A |   10   |    0.0    |  0.0   |   1   |\n",
       "| --4uW4yJiRT2oXMYkCPq1Q |   5    |    0.0    |  0.0   |   1   |\n",
       "| --4uW4yJiRT2oXMYkCPq1Q |   10   |    0.0    |  0.0   |   1   |\n",
       "+------------------------+--------+-----------+--------+-------+\n",
       "[269760 rows x 5 columns]\n",
       "Note: Only the head of the SFrame is printed.\n",
       "You can use print_rows(num_rows=m, num_columns=n) to print more rows and columns."
      ]
     },
     "execution_count": 58,
     "metadata": {},
     "output_type": "execute_result"
    }
   ],
   "source": [
    "tc.toolkits.recommender.util.precision_recall_by_user(test_data, recs, cutoffs=[5, 10])\n"
   ]
  },
  {
   "cell_type": "code",
   "execution_count": 59,
   "metadata": {},
   "outputs": [],
   "source": [
    "arr = []\n",
    "with open('../input/yelp-dataset/yelp_academic_dataset_user.json', 'r') as input_file: \n",
    "    for line in input_file:\n",
    "        arr.append(json.loads(line))"
   ]
  },
  {
   "cell_type": "code",
   "execution_count": 61,
   "metadata": {},
   "outputs": [],
   "source": [
    "user_df = pd.DataFrame(arr)"
   ]
  },
  {
   "cell_type": "code",
   "execution_count": 63,
   "metadata": {},
   "outputs": [],
   "source": [
    "user_df = user_df[user_df.user_id.isin(df.user_id.unique())]"
   ]
  },
  {
   "cell_type": "code",
   "execution_count": 64,
   "metadata": {},
   "outputs": [
    {
     "data": {
      "text/plain": [
       "(384829, 22)"
      ]
     },
     "execution_count": 64,
     "metadata": {},
     "output_type": "execute_result"
    }
   ],
   "source": [
    "user_df.shape"
   ]
  },
  {
   "cell_type": "code",
   "execution_count": 73,
   "metadata": {},
   "outputs": [
    {
     "data": {
      "text/html": [
       "<div>\n",
       "<style scoped>\n",
       "    .dataframe tbody tr th:only-of-type {\n",
       "        vertical-align: middle;\n",
       "    }\n",
       "\n",
       "    .dataframe tbody tr th {\n",
       "        vertical-align: top;\n",
       "    }\n",
       "\n",
       "    .dataframe thead th {\n",
       "        text-align: right;\n",
       "    }\n",
       "</style>\n",
       "<table border=\"1\" class=\"dataframe\">\n",
       "  <thead>\n",
       "    <tr style=\"text-align: right;\">\n",
       "      <th></th>\n",
       "      <th>average_stars</th>\n",
       "      <th>compliment_cool</th>\n",
       "      <th>compliment_cute</th>\n",
       "      <th>compliment_funny</th>\n",
       "      <th>compliment_hot</th>\n",
       "      <th>compliment_list</th>\n",
       "      <th>compliment_more</th>\n",
       "      <th>compliment_note</th>\n",
       "      <th>compliment_photos</th>\n",
       "      <th>compliment_plain</th>\n",
       "      <th>...</th>\n",
       "      <th>cool</th>\n",
       "      <th>elite</th>\n",
       "      <th>fans</th>\n",
       "      <th>friends</th>\n",
       "      <th>funny</th>\n",
       "      <th>review_count</th>\n",
       "      <th>useful</th>\n",
       "      <th>user_id</th>\n",
       "      <th>yelping_since</th>\n",
       "      <th>yelping_years</th>\n",
       "    </tr>\n",
       "  </thead>\n",
       "  <tbody>\n",
       "    <tr>\n",
       "      <th>4</th>\n",
       "      <td>3.00</td>\n",
       "      <td>0</td>\n",
       "      <td>0</td>\n",
       "      <td>0</td>\n",
       "      <td>0</td>\n",
       "      <td>0</td>\n",
       "      <td>0</td>\n",
       "      <td>0</td>\n",
       "      <td>0</td>\n",
       "      <td>0</td>\n",
       "      <td>...</td>\n",
       "      <td>0</td>\n",
       "      <td>None</td>\n",
       "      <td>0</td>\n",
       "      <td>None</td>\n",
       "      <td>0</td>\n",
       "      <td>3</td>\n",
       "      <td>0</td>\n",
       "      <td>s4FoIXE_LSGviTHBe8dmcg</td>\n",
       "      <td>2017-06-18</td>\n",
       "      <td>1.227397</td>\n",
       "    </tr>\n",
       "    <tr>\n",
       "      <th>12</th>\n",
       "      <td>3.86</td>\n",
       "      <td>0</td>\n",
       "      <td>0</td>\n",
       "      <td>0</td>\n",
       "      <td>0</td>\n",
       "      <td>0</td>\n",
       "      <td>0</td>\n",
       "      <td>0</td>\n",
       "      <td>0</td>\n",
       "      <td>0</td>\n",
       "      <td>...</td>\n",
       "      <td>0</td>\n",
       "      <td>None</td>\n",
       "      <td>0</td>\n",
       "      <td>None</td>\n",
       "      <td>0</td>\n",
       "      <td>6</td>\n",
       "      <td>0</td>\n",
       "      <td>SgYDjNCecPidsRB_su5-tw</td>\n",
       "      <td>2011-01-25</td>\n",
       "      <td>7.627397</td>\n",
       "    </tr>\n",
       "    <tr>\n",
       "      <th>16</th>\n",
       "      <td>1.00</td>\n",
       "      <td>0</td>\n",
       "      <td>0</td>\n",
       "      <td>0</td>\n",
       "      <td>0</td>\n",
       "      <td>0</td>\n",
       "      <td>0</td>\n",
       "      <td>0</td>\n",
       "      <td>0</td>\n",
       "      <td>0</td>\n",
       "      <td>...</td>\n",
       "      <td>0</td>\n",
       "      <td>None</td>\n",
       "      <td>0</td>\n",
       "      <td>None</td>\n",
       "      <td>0</td>\n",
       "      <td>2</td>\n",
       "      <td>2</td>\n",
       "      <td>NfE1uHFWzzMyXkgBeEuR1A</td>\n",
       "      <td>2015-07-19</td>\n",
       "      <td>3.145205</td>\n",
       "    </tr>\n",
       "    <tr>\n",
       "      <th>17</th>\n",
       "      <td>4.00</td>\n",
       "      <td>0</td>\n",
       "      <td>0</td>\n",
       "      <td>0</td>\n",
       "      <td>0</td>\n",
       "      <td>0</td>\n",
       "      <td>0</td>\n",
       "      <td>0</td>\n",
       "      <td>0</td>\n",
       "      <td>0</td>\n",
       "      <td>...</td>\n",
       "      <td>0</td>\n",
       "      <td>None</td>\n",
       "      <td>0</td>\n",
       "      <td>None</td>\n",
       "      <td>0</td>\n",
       "      <td>4</td>\n",
       "      <td>0</td>\n",
       "      <td>RiBVI6UgLjfpA4EQ1SWDzA</td>\n",
       "      <td>2014-06-15</td>\n",
       "      <td>4.238356</td>\n",
       "    </tr>\n",
       "    <tr>\n",
       "      <th>22</th>\n",
       "      <td>3.00</td>\n",
       "      <td>0</td>\n",
       "      <td>0</td>\n",
       "      <td>0</td>\n",
       "      <td>0</td>\n",
       "      <td>0</td>\n",
       "      <td>0</td>\n",
       "      <td>0</td>\n",
       "      <td>0</td>\n",
       "      <td>0</td>\n",
       "      <td>...</td>\n",
       "      <td>0</td>\n",
       "      <td>None</td>\n",
       "      <td>0</td>\n",
       "      <td>None</td>\n",
       "      <td>0</td>\n",
       "      <td>3</td>\n",
       "      <td>0</td>\n",
       "      <td>vLekYe1hK12NJc8PyxRjIg</td>\n",
       "      <td>2012-10-09</td>\n",
       "      <td>5.920548</td>\n",
       "    </tr>\n",
       "  </tbody>\n",
       "</table>\n",
       "<p>5 rows × 22 columns</p>\n",
       "</div>"
      ],
      "text/plain": [
       "    average_stars  compliment_cool  compliment_cute  compliment_funny  \\\n",
       "4            3.00                0                0                 0   \n",
       "12           3.86                0                0                 0   \n",
       "16           1.00                0                0                 0   \n",
       "17           4.00                0                0                 0   \n",
       "22           3.00                0                0                 0   \n",
       "\n",
       "    compliment_hot  compliment_list  compliment_more  compliment_note  \\\n",
       "4                0                0                0                0   \n",
       "12               0                0                0                0   \n",
       "16               0                0                0                0   \n",
       "17               0                0                0                0   \n",
       "22               0                0                0                0   \n",
       "\n",
       "    compliment_photos  compliment_plain      ...       cool  elite  fans  \\\n",
       "4                   0                 0      ...          0   None     0   \n",
       "12                  0                 0      ...          0   None     0   \n",
       "16                  0                 0      ...          0   None     0   \n",
       "17                  0                 0      ...          0   None     0   \n",
       "22                  0                 0      ...          0   None     0   \n",
       "\n",
       "   friends  funny review_count  useful                 user_id  yelping_since  \\\n",
       "4     None      0            3       0  s4FoIXE_LSGviTHBe8dmcg     2017-06-18   \n",
       "12    None      0            6       0  SgYDjNCecPidsRB_su5-tw     2011-01-25   \n",
       "16    None      0            2       2  NfE1uHFWzzMyXkgBeEuR1A     2015-07-19   \n",
       "17    None      0            4       0  RiBVI6UgLjfpA4EQ1SWDzA     2014-06-15   \n",
       "22    None      0            3       0  vLekYe1hK12NJc8PyxRjIg     2012-10-09   \n",
       "\n",
       "   yelping_years  \n",
       "4       1.227397  \n",
       "12      7.627397  \n",
       "16      3.145205  \n",
       "17      4.238356  \n",
       "22      5.920548  \n",
       "\n",
       "[5 rows x 22 columns]"
      ]
     },
     "execution_count": 73,
     "metadata": {},
     "output_type": "execute_result"
    }
   ],
   "source": [
    "user_df.head()"
   ]
  },
  {
   "cell_type": "code",
   "execution_count": null,
   "metadata": {},
   "outputs": [],
   "source": [
    "user_df['yelping_years'] = (pd.to_datetime(datetime.now()) - pd.to_datetime(user_df['yelping_since'])).dt.days/365"
   ]
  },
  {
   "cell_type": "code",
   "execution_count": 74,
   "metadata": {},
   "outputs": [],
   "source": [
    "user_df.drop(['yelping_since','name'], axis=1, inplace=True)"
   ]
  },
  {
   "cell_type": "code",
   "execution_count": 75,
   "metadata": {},
   "outputs": [],
   "source": [
    "user_data = tc.SFrame(user_df)"
   ]
  },
  {
   "cell_type": "code",
   "execution_count": 80,
   "metadata": {},
   "outputs": [
    {
     "data": {
      "text/html": [
       "<div>\n",
       "<style scoped>\n",
       "    .dataframe tbody tr th:only-of-type {\n",
       "        vertical-align: middle;\n",
       "    }\n",
       "\n",
       "    .dataframe tbody tr th {\n",
       "        vertical-align: top;\n",
       "    }\n",
       "\n",
       "    .dataframe thead th {\n",
       "        text-align: right;\n",
       "    }\n",
       "</style>\n",
       "<table border=\"1\" class=\"dataframe\">\n",
       "  <thead>\n",
       "    <tr style=\"text-align: right;\">\n",
       "      <th></th>\n",
       "      <th>user_id</th>\n",
       "      <th>business_id</th>\n",
       "      <th>review_stars</th>\n",
       "    </tr>\n",
       "  </thead>\n",
       "  <tbody>\n",
       "    <tr>\n",
       "      <th>1494629</th>\n",
       "      <td>MtE3xl8AUYPbGWQQhY5IVQ</td>\n",
       "      <td>KkmPDIWzvwbBpyqOHT6pcQ</td>\n",
       "      <td>4.0</td>\n",
       "    </tr>\n",
       "    <tr>\n",
       "      <th>1494630</th>\n",
       "      <td>eyj4r8be__c7fVtfxeHr8Q</td>\n",
       "      <td>KkmPDIWzvwbBpyqOHT6pcQ</td>\n",
       "      <td>2.0</td>\n",
       "    </tr>\n",
       "    <tr>\n",
       "      <th>1494631</th>\n",
       "      <td>hsxx48aGP1UEusdIju55MQ</td>\n",
       "      <td>KkmPDIWzvwbBpyqOHT6pcQ</td>\n",
       "      <td>5.0</td>\n",
       "    </tr>\n",
       "    <tr>\n",
       "      <th>1494632</th>\n",
       "      <td>Jmlqb5UYfygtUXugrpywjg</td>\n",
       "      <td>KkmPDIWzvwbBpyqOHT6pcQ</td>\n",
       "      <td>4.0</td>\n",
       "    </tr>\n",
       "    <tr>\n",
       "      <th>1494633</th>\n",
       "      <td>NOMT-fdqT31oUGZUGf6_sQ</td>\n",
       "      <td>KkmPDIWzvwbBpyqOHT6pcQ</td>\n",
       "      <td>5.0</td>\n",
       "    </tr>\n",
       "  </tbody>\n",
       "</table>\n",
       "</div>"
      ],
      "text/plain": [
       "                        user_id             business_id  review_stars\n",
       "1494629  MtE3xl8AUYPbGWQQhY5IVQ  KkmPDIWzvwbBpyqOHT6pcQ           4.0\n",
       "1494630  eyj4r8be__c7fVtfxeHr8Q  KkmPDIWzvwbBpyqOHT6pcQ           2.0\n",
       "1494631  hsxx48aGP1UEusdIju55MQ  KkmPDIWzvwbBpyqOHT6pcQ           5.0\n",
       "1494632  Jmlqb5UYfygtUXugrpywjg  KkmPDIWzvwbBpyqOHT6pcQ           4.0\n",
       "1494633  NOMT-fdqT31oUGZUGf6_sQ  KkmPDIWzvwbBpyqOHT6pcQ           5.0"
      ]
     },
     "execution_count": 80,
     "metadata": {},
     "output_type": "execute_result"
    }
   ],
   "source": [
    "test.head()"
   ]
  },
  {
   "cell_type": "code",
   "execution_count": 88,
   "metadata": {},
   "outputs": [],
   "source": [
    "user_pair = ['MtE3xl8AUYPbGWQQhY5IVQ','eyj4r8be__c7fVtfxeHr8Q']\n",
    "rec1 = factorization_model.recommend([user_pair[0]],100).to_dataframe()\n",
    "rec2 = factorization_model.recommend([user_pair[1]],100).to_dataframe()"
   ]
  },
  {
   "cell_type": "code",
   "execution_count": 90,
   "metadata": {},
   "outputs": [],
   "source": [
    "possible_recs = rec1.merge(rec2,on='business_id')\n",
    "possible_recs['total_score'] = possible_recs['rank_x'] + possible_recs['rank_y']\n"
   ]
  },
  {
   "cell_type": "code",
   "execution_count": 91,
   "metadata": {},
   "outputs": [
    {
     "data": {
      "text/plain": [
       "'IhNASEZ3XnBHmuuVnWdIwA'"
      ]
     },
     "execution_count": 91,
     "metadata": {},
     "output_type": "execute_result"
    }
   ],
   "source": [
    "possible_recs[possible_recs.total_score == possible_recs.total_score.min()]['business_id'].iloc[0]"
   ]
  },
  {
   "cell_type": "code",
   "execution_count": 92,
   "metadata": {},
   "outputs": [
    {
     "name": "stdout",
     "output_type": "stream",
     "text": [
      "yes\n"
     ]
    }
   ],
   "source": [
    "if factorization_model:\n",
    "    print('yes')"
   ]
  },
  {
   "cell_type": "code",
   "execution_count": null,
   "metadata": {},
   "outputs": [],
   "source": []
  },
  {
   "cell_type": "code",
   "execution_count": null,
   "metadata": {},
   "outputs": [],
   "source": []
  },
  {
   "cell_type": "code",
   "execution_count": null,
   "metadata": {},
   "outputs": [],
   "source": []
  },
  {
   "cell_type": "code",
   "execution_count": null,
   "metadata": {},
   "outputs": [],
   "source": []
  },
  {
   "cell_type": "code",
   "execution_count": null,
   "metadata": {},
   "outputs": [],
   "source": []
  },
  {
   "cell_type": "code",
   "execution_count": null,
   "metadata": {},
   "outputs": [],
   "source": []
  }
 ],
 "metadata": {
  "kernelspec": {
   "display_name": "Python 3",
   "language": "python",
   "name": "python3"
  },
  "language_info": {
   "codemirror_mode": {
    "name": "ipython",
    "version": 3
   },
   "file_extension": ".py",
   "mimetype": "text/x-python",
   "name": "python",
   "nbconvert_exporter": "python",
   "pygments_lexer": "ipython3",
   "version": "3.6.5"
  }
 },
 "nbformat": 4,
 "nbformat_minor": 2
}
