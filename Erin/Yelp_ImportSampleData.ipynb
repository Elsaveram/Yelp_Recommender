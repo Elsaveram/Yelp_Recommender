{
 "cells": [
  {
   "cell_type": "code",
   "execution_count": 30,
   "metadata": {},
   "outputs": [],
   "source": [
    "import json\n",
    "import pandas as pd\n",
    "from glob import glob\n",
    "import matplotlib.pyplot as plt\n"
   ]
  },
  {
   "cell_type": "code",
   "execution_count": 14,
   "metadata": {},
   "outputs": [
    {
     "ename": "NameError",
     "evalue": "name 'my_bucket' is not defined",
     "output_type": "error",
     "traceback": [
      "\u001b[0;31m---------------------------------------------------------------------------\u001b[0m",
      "\u001b[0;31mNameError\u001b[0m                                 Traceback (most recent call last)",
      "\u001b[0;32m<ipython-input-14-7df19c6d228c>\u001b[0m in \u001b[0;36m<module>\u001b[0;34m()\u001b[0m\n\u001b[1;32m      3\u001b[0m \u001b[0mbusiness\u001b[0m \u001b[0;34m=\u001b[0m \u001b[0ms3\u001b[0m\u001b[0;34m.\u001b[0m\u001b[0mObject\u001b[0m\u001b[0;34m(\u001b[0m\u001b[0;34m\"yelp-unsupervised-foodies\"\u001b[0m\u001b[0;34m,\u001b[0m \u001b[0;34m\"yelp_academic_dataset_business.csv\"\u001b[0m\u001b[0;34m)\u001b[0m    \u001b[0;34m.\u001b[0m\u001b[0mget\u001b[0m\u001b[0;34m(\u001b[0m\u001b[0;34m)\u001b[0m\u001b[0;34m[\u001b[0m\u001b[0;34m\"Body\"\u001b[0m\u001b[0;34m]\u001b[0m\u001b[0;34m.\u001b[0m\u001b[0mread\u001b[0m\u001b[0;34m(\u001b[0m\u001b[0;34m)\u001b[0m\u001b[0;34m.\u001b[0m\u001b[0mdecode\u001b[0m\u001b[0;34m(\u001b[0m\u001b[0;34m\"utf-8\"\u001b[0m\u001b[0;34m)\u001b[0m\u001b[0;34m\u001b[0m\u001b[0m\n\u001b[1;32m      4\u001b[0m \u001b[0;34m\u001b[0m\u001b[0m\n\u001b[0;32m----> 5\u001b[0;31m \u001b[0;32mfor\u001b[0m \u001b[0mobject\u001b[0m \u001b[0;32min\u001b[0m \u001b[0mmy_bucket\u001b[0m\u001b[0;34m.\u001b[0m\u001b[0mobjects\u001b[0m\u001b[0;34m.\u001b[0m\u001b[0mall\u001b[0m\u001b[0;34m(\u001b[0m\u001b[0;34m)\u001b[0m\u001b[0;34m:\u001b[0m\u001b[0;34m\u001b[0m\u001b[0m\n\u001b[0m\u001b[1;32m      6\u001b[0m     \u001b[0mkey\u001b[0m \u001b[0;34m=\u001b[0m \u001b[0mobject\u001b[0m\u001b[0;34m.\u001b[0m\u001b[0mkey\u001b[0m\u001b[0;34m\u001b[0m\u001b[0m\n\u001b[1;32m      7\u001b[0m     \u001b[0mprint\u001b[0m\u001b[0;34m(\u001b[0m \u001b[0;34m\"Getting \"\u001b[0m \u001b[0;34m+\u001b[0m \u001b[0mkey\u001b[0m \u001b[0;34m)\u001b[0m\u001b[0;34m\u001b[0m\u001b[0m\n",
      "\u001b[0;31mNameError\u001b[0m: name 'my_bucket' is not defined"
     ]
    }
   ],
   "source": [
    "import boto3\n",
    "s3 = boto3.resource('s3')\n",
    "business = s3.Object(\"yelp-unsupervised-foodies\", \"yelp_academic_dataset_business.csv\")\\\n",
    "    .get()[\"Body\"].read().decode(\"utf-8\")\n",
    "\n",
    "for object in my_bucket.objects.all():\n",
    "    key = object.key\n",
    "    print( \"Getting \" + key )\n",
    "    #body = object.get()['Body'].read()"
   ]
  },
  {
   "cell_type": "code",
   "execution_count": 2,
   "metadata": {},
   "outputs": [],
   "source": []
  },
  {
   "cell_type": "code",
   "execution_count": 3,
   "metadata": {},
   "outputs": [],
   "source": [
    "#Convert json string to a flat python dictionary\n",
    "\n",
    "def convert(x):\n",
    "    ob = json.loads(x)\n",
    "    for k, v in ob.copy().items():\n",
    "        if isinstance(v, list):\n",
    "            ob[k] = ','.join(v)\n",
    "        elif isinstance(v, dict):\n",
    "            for kk, vv in v.items():\n",
    "                ob['%s_%s' % (k, kk)] = vv\n",
    "            del ob[k]\n",
    "    return ob\n",
    "\n",
    "for json_filename in glob('*.json'):\n",
    "    csv_filename = '%s.csv' % json_filename[:-5]\n",
    "    print('Converting %s to %s' % (json_filename, csv_filename))\n",
    "    df = pd.DataFrame([convert(line) for line in open(json_filename, encoding='utf-8')])\n",
    "    df.to_csv(csv_filename, encoding='utf-8', index=False)"
   ]
  },
  {
   "cell_type": "code",
   "execution_count": 21,
   "metadata": {},
   "outputs": [],
   "source": [
    "#Convert csv to pd df   ***as local files\n",
    "\n",
    "#review = pd.read_csv('yelp_academic_dataset_review.csv')\n",
    "business = pd.read_csv('yelp_academic_dataset_business.csv')\n",
    "#checkin = pd.read_csv('yelp_academic_dataset_checkin.csv')\n",
    "#tip = pd.read_csv('yelp_academic_dataset_tip.csv')\n",
    "#user = pd.read_csv('yelp_academic_dataset_user.csv')"
   ]
  },
  {
   "cell_type": "code",
   "execution_count": 10,
   "metadata": {},
   "outputs": [
    {
     "data": {
      "text/plain": [
       "(157075, 169)"
      ]
     },
     "execution_count": 10,
     "metadata": {},
     "output_type": "execute_result"
    }
   ],
   "source": [
    "checkin.shape"
   ]
  },
  {
   "cell_type": "code",
   "execution_count": 9,
   "metadata": {},
   "outputs": [
    {
     "data": {
      "text/plain": [
       "(188593, 61)"
      ]
     },
     "execution_count": 9,
     "metadata": {},
     "output_type": "execute_result"
    }
   ],
   "source": [
    "business.shape"
   ]
  },
  {
   "cell_type": "code",
   "execution_count": 11,
   "metadata": {},
   "outputs": [
    {
     "data": {
      "text/plain": [
       "(1185348, 5)"
      ]
     },
     "execution_count": 11,
     "metadata": {},
     "output_type": "execute_result"
    }
   ],
   "source": [
    "tip.shape"
   ]
  },
  {
   "cell_type": "code",
   "execution_count": 12,
   "metadata": {},
   "outputs": [
    {
     "data": {
      "text/plain": [
       "(1518169, 22)"
      ]
     },
     "execution_count": 12,
     "metadata": {},
     "output_type": "execute_result"
    }
   ],
   "source": [
    "user.shape"
   ]
  },
  {
   "cell_type": "code",
   "execution_count": null,
   "metadata": {},
   "outputs": [],
   "source": [
    "review.shape"
   ]
  },
  {
   "cell_type": "code",
   "execution_count": 18,
   "metadata": {},
   "outputs": [
    {
     "data": {
      "text/html": [
       "<div>\n",
       "<style>\n",
       "    .dataframe thead tr:only-child th {\n",
       "        text-align: right;\n",
       "    }\n",
       "\n",
       "    .dataframe thead th {\n",
       "        text-align: left;\n",
       "    }\n",
       "\n",
       "    .dataframe tbody tr th {\n",
       "        vertical-align: top;\n",
       "    }\n",
       "</style>\n",
       "<table border=\"1\" class=\"dataframe\">\n",
       "  <thead>\n",
       "    <tr style=\"text-align: right;\">\n",
       "      <th></th>\n",
       "      <th>business_id</th>\n",
       "      <th>cool</th>\n",
       "      <th>date</th>\n",
       "      <th>funny</th>\n",
       "      <th>review_id</th>\n",
       "      <th>stars</th>\n",
       "      <th>text</th>\n",
       "      <th>useful</th>\n",
       "      <th>user_id</th>\n",
       "    </tr>\n",
       "  </thead>\n",
       "  <tbody>\n",
       "    <tr>\n",
       "      <th>0</th>\n",
       "      <td>iCQpiavjjPzJ5_3gPD5Ebg</td>\n",
       "      <td>0</td>\n",
       "      <td>2011-02-25</td>\n",
       "      <td>0.0</td>\n",
       "      <td>x7mDIiDB3jEiPGPHOmDzyw</td>\n",
       "      <td>2.0</td>\n",
       "      <td>The pizza was okay. Not the best I've had. I p...</td>\n",
       "      <td>0.0</td>\n",
       "      <td>msQe1u7Z_XuqjGoqhB0J5g</td>\n",
       "    </tr>\n",
       "  </tbody>\n",
       "</table>\n",
       "</div>"
      ],
      "text/plain": [
       "              business_id  cool        date  funny               review_id  \\\n",
       "0  iCQpiavjjPzJ5_3gPD5Ebg     0  2011-02-25    0.0  x7mDIiDB3jEiPGPHOmDzyw   \n",
       "\n",
       "   stars                                               text  useful  \\\n",
       "0    2.0  The pizza was okay. Not the best I've had. I p...     0.0   \n",
       "\n",
       "                  user_id  \n",
       "0  msQe1u7Z_XuqjGoqhB0J5g  "
      ]
     },
     "execution_count": 18,
     "metadata": {},
     "output_type": "execute_result"
    }
   ],
   "source": [
    "review.head(1)"
   ]
  },
  {
   "cell_type": "code",
   "execution_count": 24,
   "metadata": {},
   "outputs": [
    {
     "data": {
      "text/html": [
       "<div>\n",
       "<style>\n",
       "    .dataframe thead tr:only-child th {\n",
       "        text-align: right;\n",
       "    }\n",
       "\n",
       "    .dataframe thead th {\n",
       "        text-align: left;\n",
       "    }\n",
       "\n",
       "    .dataframe tbody tr th {\n",
       "        vertical-align: top;\n",
       "    }\n",
       "</style>\n",
       "<table border=\"1\" class=\"dataframe\">\n",
       "  <thead>\n",
       "    <tr style=\"text-align: right;\">\n",
       "      <th></th>\n",
       "      <th>address</th>\n",
       "      <th>attributes</th>\n",
       "      <th>attributes_AcceptsInsurance</th>\n",
       "      <th>attributes_AgesAllowed</th>\n",
       "      <th>attributes_Alcohol</th>\n",
       "      <th>attributes_Ambience</th>\n",
       "      <th>attributes_BYOB</th>\n",
       "      <th>attributes_BYOBCorkage</th>\n",
       "      <th>attributes_BestNights</th>\n",
       "      <th>attributes_BikeParking</th>\n",
       "      <th>attributes_BusinessAcceptsBitcoin</th>\n",
       "      <th>attributes_BusinessAcceptsCreditCards</th>\n",
       "      <th>attributes_BusinessParking</th>\n",
       "      <th>attributes_ByAppointmentOnly</th>\n",
       "      <th>attributes_Caters</th>\n",
       "      <th>attributes_CoatCheck</th>\n",
       "      <th>attributes_Corkage</th>\n",
       "      <th>attributes_DietaryRestrictions</th>\n",
       "      <th>attributes_DogsAllowed</th>\n",
       "      <th>attributes_DriveThru</th>\n",
       "      <th>attributes_GoodForDancing</th>\n",
       "      <th>attributes_GoodForKids</th>\n",
       "      <th>attributes_GoodForMeal</th>\n",
       "      <th>attributes_HairSpecializesIn</th>\n",
       "      <th>attributes_HappyHour</th>\n",
       "      <th>attributes_HasTV</th>\n",
       "      <th>attributes_Music</th>\n",
       "      <th>attributes_NoiseLevel</th>\n",
       "      <th>attributes_Open24Hours</th>\n",
       "      <th>attributes_OutdoorSeating</th>\n",
       "      <th>attributes_RestaurantsAttire</th>\n",
       "      <th>attributes_RestaurantsCounterService</th>\n",
       "      <th>attributes_RestaurantsDelivery</th>\n",
       "      <th>attributes_RestaurantsGoodForGroups</th>\n",
       "      <th>attributes_RestaurantsPriceRange2</th>\n",
       "      <th>attributes_RestaurantsReservations</th>\n",
       "      <th>attributes_RestaurantsTableService</th>\n",
       "      <th>attributes_RestaurantsTakeOut</th>\n",
       "      <th>attributes_Smoking</th>\n",
       "      <th>attributes_WheelchairAccessible</th>\n",
       "      <th>attributes_WiFi</th>\n",
       "      <th>business_id</th>\n",
       "      <th>categories</th>\n",
       "      <th>city</th>\n",
       "      <th>hours</th>\n",
       "      <th>hours_Friday</th>\n",
       "      <th>hours_Monday</th>\n",
       "      <th>hours_Saturday</th>\n",
       "      <th>hours_Sunday</th>\n",
       "      <th>hours_Thursday</th>\n",
       "      <th>hours_Tuesday</th>\n",
       "      <th>hours_Wednesday</th>\n",
       "      <th>is_open</th>\n",
       "      <th>latitude</th>\n",
       "      <th>longitude</th>\n",
       "      <th>name</th>\n",
       "      <th>neighborhood</th>\n",
       "      <th>postal_code</th>\n",
       "      <th>review_count</th>\n",
       "      <th>stars</th>\n",
       "      <th>state</th>\n",
       "    </tr>\n",
       "  </thead>\n",
       "  <tbody>\n",
       "    <tr>\n",
       "      <th>0</th>\n",
       "      <td>1314 44 Avenue NE</td>\n",
       "      <td>NaN</td>\n",
       "      <td>NaN</td>\n",
       "      <td>NaN</td>\n",
       "      <td>NaN</td>\n",
       "      <td>NaN</td>\n",
       "      <td>NaN</td>\n",
       "      <td>NaN</td>\n",
       "      <td>NaN</td>\n",
       "      <td>False</td>\n",
       "      <td>NaN</td>\n",
       "      <td>True</td>\n",
       "      <td>{'garage': False, 'street': True, 'validated':...</td>\n",
       "      <td>NaN</td>\n",
       "      <td>NaN</td>\n",
       "      <td>NaN</td>\n",
       "      <td>NaN</td>\n",
       "      <td>NaN</td>\n",
       "      <td>NaN</td>\n",
       "      <td>NaN</td>\n",
       "      <td>NaN</td>\n",
       "      <td>True</td>\n",
       "      <td>NaN</td>\n",
       "      <td>NaN</td>\n",
       "      <td>NaN</td>\n",
       "      <td>True</td>\n",
       "      <td>NaN</td>\n",
       "      <td>average</td>\n",
       "      <td>NaN</td>\n",
       "      <td>False</td>\n",
       "      <td>casual</td>\n",
       "      <td>NaN</td>\n",
       "      <td>False</td>\n",
       "      <td>True</td>\n",
       "      <td>2.0</td>\n",
       "      <td>True</td>\n",
       "      <td>NaN</td>\n",
       "      <td>True</td>\n",
       "      <td>NaN</td>\n",
       "      <td>NaN</td>\n",
       "      <td>NaN</td>\n",
       "      <td>Apn5Q_b6Nz61Tq4XzPdf9A</td>\n",
       "      <td>Tours, Breweries, Pizza, Restaurants, Food, Ho...</td>\n",
       "      <td>Calgary</td>\n",
       "      <td>NaN</td>\n",
       "      <td>11:0-21:0</td>\n",
       "      <td>8:30-17:0</td>\n",
       "      <td>11:0-21:0</td>\n",
       "      <td>NaN</td>\n",
       "      <td>11:0-21:0</td>\n",
       "      <td>11:0-21:0</td>\n",
       "      <td>11:0-21:0</td>\n",
       "      <td>1</td>\n",
       "      <td>51.091813</td>\n",
       "      <td>-114.031675</td>\n",
       "      <td>Minhas Micro Brewery</td>\n",
       "      <td>NaN</td>\n",
       "      <td>T2E 6L6</td>\n",
       "      <td>24</td>\n",
       "      <td>4.0</td>\n",
       "      <td>AB</td>\n",
       "    </tr>\n",
       "  </tbody>\n",
       "</table>\n",
       "</div>"
      ],
      "text/plain": [
       "             address  attributes attributes_AcceptsInsurance  \\\n",
       "0  1314 44 Avenue NE         NaN                         NaN   \n",
       "\n",
       "  attributes_AgesAllowed attributes_Alcohol attributes_Ambience  \\\n",
       "0                    NaN                NaN                 NaN   \n",
       "\n",
       "  attributes_BYOB attributes_BYOBCorkage attributes_BestNights  \\\n",
       "0             NaN                    NaN                   NaN   \n",
       "\n",
       "  attributes_BikeParking attributes_BusinessAcceptsBitcoin  \\\n",
       "0                  False                               NaN   \n",
       "\n",
       "  attributes_BusinessAcceptsCreditCards  \\\n",
       "0                                  True   \n",
       "\n",
       "                          attributes_BusinessParking  \\\n",
       "0  {'garage': False, 'street': True, 'validated':...   \n",
       "\n",
       "  attributes_ByAppointmentOnly attributes_Caters attributes_CoatCheck  \\\n",
       "0                          NaN               NaN                  NaN   \n",
       "\n",
       "  attributes_Corkage attributes_DietaryRestrictions attributes_DogsAllowed  \\\n",
       "0                NaN                            NaN                    NaN   \n",
       "\n",
       "  attributes_DriveThru attributes_GoodForDancing attributes_GoodForKids  \\\n",
       "0                  NaN                       NaN                   True   \n",
       "\n",
       "  attributes_GoodForMeal attributes_HairSpecializesIn attributes_HappyHour  \\\n",
       "0                    NaN                          NaN                  NaN   \n",
       "\n",
       "  attributes_HasTV attributes_Music attributes_NoiseLevel  \\\n",
       "0             True              NaN               average   \n",
       "\n",
       "  attributes_Open24Hours attributes_OutdoorSeating  \\\n",
       "0                    NaN                     False   \n",
       "\n",
       "  attributes_RestaurantsAttire attributes_RestaurantsCounterService  \\\n",
       "0                       casual                                  NaN   \n",
       "\n",
       "  attributes_RestaurantsDelivery attributes_RestaurantsGoodForGroups  \\\n",
       "0                          False                                True   \n",
       "\n",
       "   attributes_RestaurantsPriceRange2 attributes_RestaurantsReservations  \\\n",
       "0                                2.0                               True   \n",
       "\n",
       "  attributes_RestaurantsTableService attributes_RestaurantsTakeOut  \\\n",
       "0                                NaN                          True   \n",
       "\n",
       "  attributes_Smoking attributes_WheelchairAccessible attributes_WiFi  \\\n",
       "0                NaN                             NaN             NaN   \n",
       "\n",
       "              business_id                                         categories  \\\n",
       "0  Apn5Q_b6Nz61Tq4XzPdf9A  Tours, Breweries, Pizza, Restaurants, Food, Ho...   \n",
       "\n",
       "      city  hours hours_Friday hours_Monday hours_Saturday hours_Sunday  \\\n",
       "0  Calgary    NaN    11:0-21:0    8:30-17:0      11:0-21:0          NaN   \n",
       "\n",
       "  hours_Thursday hours_Tuesday hours_Wednesday  is_open   latitude  \\\n",
       "0      11:0-21:0     11:0-21:0       11:0-21:0        1  51.091813   \n",
       "\n",
       "    longitude                  name neighborhood postal_code  review_count  \\\n",
       "0 -114.031675  Minhas Micro Brewery          NaN     T2E 6L6            24   \n",
       "\n",
       "   stars state  \n",
       "0    4.0    AB  "
      ]
     },
     "execution_count": 24,
     "metadata": {},
     "output_type": "execute_result"
    }
   ],
   "source": [
    "business.head(1)"
   ]
  },
  {
   "cell_type": "code",
   "execution_count": 23,
   "metadata": {},
   "outputs": [],
   "source": [
    "pd.set_option('max_columns',200)"
   ]
  },
  {
   "cell_type": "code",
   "execution_count": 31,
   "metadata": {},
   "outputs": [
    {
     "ename": "NameError",
     "evalue": "name 'city' is not defined",
     "output_type": "error",
     "traceback": [
      "\u001b[0;31m---------------------------------------------------------------------------\u001b[0m",
      "\u001b[0;31mNameError\u001b[0m                                 Traceback (most recent call last)",
      "\u001b[0;32m<ipython-input-31-eeecab9c224a>\u001b[0m in \u001b[0;36m<module>\u001b[0;34m()\u001b[0m\n\u001b[0;32m----> 1\u001b[0;31m \u001b[0mbusiness\u001b[0m\u001b[0;34m.\u001b[0m\u001b[0miloc\u001b[0m\u001b[0;34m(\u001b[0m\u001b[0mbusiness\u001b[0m\u001b[0;34m[\u001b[0m\u001b[0mcity\u001b[0m\u001b[0;34m]\u001b[0m \u001b[0;34m==\u001b[0m \u001b[0;34m\"Calgary\"\u001b[0m\u001b[0;34m)\u001b[0m\u001b[0;34m\u001b[0m\u001b[0m\n\u001b[0m",
      "\u001b[0;31mNameError\u001b[0m: name 'city' is not defined"
     ]
    }
   ],
   "source": [
    "business.iloc(business[city] == \"Calgary\")"
   ]
  },
  {
   "cell_type": "code",
   "execution_count": 29,
   "metadata": {},
   "outputs": [
    {
     "ename": "NameError",
     "evalue": "name 'city' is not defined",
     "output_type": "error",
     "traceback": [
      "\u001b[0;31m---------------------------------------------------------------------------\u001b[0m",
      "\u001b[0;31mNameError\u001b[0m                                 Traceback (most recent call last)",
      "\u001b[0;32m<ipython-input-29-611872a0e2be>\u001b[0m in \u001b[0;36m<module>\u001b[0;34m()\u001b[0m\n\u001b[0;32m----> 1\u001b[0;31m \u001b[0mbusiness\u001b[0m\u001b[0;34m[\u001b[0m\u001b[0mcity\u001b[0m\u001b[0;34m]\u001b[0m\u001b[0;34m\u001b[0m\u001b[0m\n\u001b[0m",
      "\u001b[0;31mNameError\u001b[0m: name 'city' is not defined"
     ]
    }
   ],
   "source": [
    "business[city]"
   ]
  },
  {
   "cell_type": "code",
   "execution_count": null,
   "metadata": {},
   "outputs": [],
   "source": []
  }
 ],
 "metadata": {
  "kernelspec": {
   "display_name": "Python 3",
   "language": "python",
   "name": "python3"
  },
  "language_info": {
   "codemirror_mode": {
    "name": "ipython",
    "version": 3
   },
   "file_extension": ".py",
   "mimetype": "text/x-python",
   "name": "python",
   "nbconvert_exporter": "python",
   "pygments_lexer": "ipython3",
   "version": "3.6.3"
  }
 },
 "nbformat": 4,
 "nbformat_minor": 2
}
